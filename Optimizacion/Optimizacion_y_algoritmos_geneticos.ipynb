{
  "nbformat": 4,
  "nbformat_minor": 0,
  "metadata": {
    "colab": {
      "provenance": [],
      "authorship_tag": "ABX9TyPkjaCDbUnp2qE2TVI6pTWT",
      "include_colab_link": true
    },
    "kernelspec": {
      "name": "python3",
      "display_name": "Python 3"
    },
    "language_info": {
      "name": "python"
    }
  },
  "cells": [
    {
      "cell_type": "markdown",
      "metadata": {
        "id": "view-in-github",
        "colab_type": "text"
      },
      "source": [
        "<a href=\"https://colab.research.google.com/github/luisantoniourbanaviles/Simulacion-II/blob/main/Optimizacion/Optimizacion_y_algoritmos_geneticos.ipynb\" target=\"_parent\"><img src=\"https://colab.research.google.com/assets/colab-badge.svg\" alt=\"Open In Colab\"/></a>"
      ]
    },
    {
      "cell_type": "markdown",
      "source": [
        "#Optimizacion no lineal"
      ],
      "metadata": {
        "id": "0kZsqjjl-IZC"
      }
    },
    {
      "cell_type": "markdown",
      "source": [
        "La idea principal de la optimizacion es encontrar el valor minimo (o maximo) global de algun modelo matematico\n",
        "\n",
        "Ya que estos pueden representar el minimo costo por la adquisición de nueva maquinaria, o el maximo beneficio de la extracion de un pozo petrolero"
      ],
      "metadata": {
        "id": "Ib7WcEADQNEc"
      }
    },
    {
      "cell_type": "markdown",
      "source": [
        "El objetivo principal se centra en encontrar cierto valor \"x\", que cumpla la siguiente definición"
      ],
      "metadata": {
        "id": "QHEyozMTR9PW"
      }
    },
    {
      "cell_type": "markdown",
      "source": [
        "Definicion\n",
        "\n",
        "Sea un punto $x^*$.\n",
        "\n",
        " $x^*$ es un minimo global de la funcion $f : S → R$ si y solo si para todo x ∈ S se cumple que:\n",
        "\n",
        "\\begin{equation}\n",
        "  f(x^*)\\leq f(x)\n",
        "\\end{equation}"
      ],
      "metadata": {
        "id": "iNKL1Z0dUj_V"
      }
    },
    {
      "cell_type": "markdown",
      "source": [
        "Hay dos situaciones\n",
        "\n",
        "1 - El minimo de la funcion f se puede encontrar de manera analitica\n",
        "\n",
        "2 - El minimo de la funcion f no se puede encontrar de manera analitica, en cuyo caso, podemos recurrir a resolverlo mediante metodos numericos, pero, lo mas que podemos aspirar es a la siguiente definicion"
      ],
      "metadata": {
        "id": "w7OdrerJVEGm"
      }
    },
    {
      "cell_type": "markdown",
      "source": [
        "Un punto $x^*$ es un minimo local (o minimo relativo) de la funcion $f : S → R$, si y solo si, existe un $\\epsilon > 0$, tal que para todo x que satisface $|x-x^*|<ϵ$ se cumple que:\n",
        "\n",
        "\\begin{equation}\n",
        "f(x^*) ≤ f(x).\n",
        "\\end{equation}\n",
        "\n",
        "En otras palabras, el minimo esta restringido a una cierta vecindad"
      ],
      "metadata": {
        "id": "jyNV6R3JWgIv"
      }
    },
    {
      "cell_type": "markdown",
      "source": [
        "De esa forma, podriamos buscar puntos optimos, y seleccionar el minimo (o maximo) local mas pequeño encontrado"
      ],
      "metadata": {
        "id": "rJXguAnaXcGL"
      }
    },
    {
      "cell_type": "markdown",
      "source": [
        "Existen varios metodos para minimizar funciones, de los cuales los mas representativo son el metodo de Newton y el metodo de gradientes conjugados\n",
        "\n",
        "Los cuales se desarrollaran a continuacion"
      ],
      "metadata": {
        "id": "t8z7xKP0X4_Q"
      }
    },
    {
      "cell_type": "markdown",
      "source": [
        "###Metodo de newton\n"
      ],
      "metadata": {
        "id": "ZbQoYI-M-RFb"
      }
    },
    {
      "cell_type": "markdown",
      "source": [
        "El metodo de Newton utiliza informacion de primer y segundo orden. En otras palabras, primera y segunda derivda."
      ],
      "metadata": {
        "id": "5obGQXu0XobH"
      }
    },
    {
      "cell_type": "markdown",
      "source": [
        "La idea detras del metodo de Newton es"
      ],
      "metadata": {
        "id": "ES7umkeWZEoM"
      }
    },
    {
      "cell_type": "markdown",
      "source": [
        "Tenemos cierta funcion $f$\n",
        "\n",
        "Dado un punto de partida $x^k$, construimos una aproximacion cuadratica $q$\n",
        "de la funcion objetivo $f$, haciendo coincidir la primera y segunda derivada\n",
        "de ambas funciones, evaluadas en dicho punto $x^k$"
      ],
      "metadata": {
        "id": "W9pld3ZFZPBW"
      }
    },
    {
      "cell_type": "markdown",
      "source": [
        "Luego minimizamos la funcion aproximada $q$ en vez de la\n",
        "funcion objetivo original f, este paso es simple dado que la funcion $q$ fue\n",
        "propuesta y su optimo es conocido.\n",
        "\n",
        "Luego, utilizamos el vector $x^{k+1}$\n",
        "minimo de la funcion aproximada $q% como punto de partida en el siguiente\n",
        "paso y repetimos el procedimiento iterativamente."
      ],
      "metadata": {
        "id": "oBO6H2pyanYM"
      }
    },
    {
      "cell_type": "markdown",
      "source": [
        "Nota: Si la funcion objetivo original es cuadratica, entonces la primera\n",
        "aproximacion es exacta, y el metodo produce el vector minimo verdadero\n",
        "en un paso\n",
        "\n"
      ],
      "metadata": {
        "id": "38voh1XybRyC"
      }
    },
    {
      "cell_type": "markdown",
      "source": [
        "Desarrolo del metodo"
      ],
      "metadata": {
        "id": "xv8qrWlidc0S"
      }
    },
    {
      "cell_type": "markdown",
      "source": [
        "Sea una funcion\n",
        "\n",
        "\\begin{equation}\n",
        "f : R^n → R\n",
        "\\end{equation}\n",
        "\n",
        "que es por lo menos $C^2$ derivable\n",
        "\n",
        "Entonces, su expansion en serie de Taylor de $f$ sobre un punto incial $x^k$, esta definida por\n",
        "\n",
        "\\begin{equation}\n",
        "  f(x) \\approx f(x^k) + (x - x^k)f^{'}(x^k) +\\frac{1}{2}(x - x^k)^2f^{''}(x^k)\n",
        "\\end{equation}\n",
        "\n",
        "o bien\n",
        "\n",
        "\\begin{equation}\n",
        "  f(x) \\approx f(x^k) + (x - x^k)^T\\nabla f(x^k) +\\frac{1}{2}(x - x^k)^TH(x^k)(x - x^k) + \\cdot\\cdot\\cdot\n",
        "\\end{equation}\n",
        "\n",
        "de donde, si despreci los terminos superiores, podemos contruir $q$, con los primeros 3 terminos de la serie de Taylor de $f$"
      ],
      "metadata": {
        "id": "myP_2N7qdAAq"
      }
    },
    {
      "cell_type": "markdown",
      "source": [
        "Entonces, sea una funcion $q : R^n → R$ dada por\n",
        "\n",
        "\\begin{equation}\n",
        "  q(x) = f(x^k) + (x - x^k)^T\\nabla f(x^k) +\\frac{1}{2}(x - x^k)^TH(x^k)(x - x^k)\n",
        "\\end{equation}\n",
        "\n",
        "al derivdar $q$, obtenemos\n",
        "\n",
        "\\begin{equation}\n",
        "  \\nabla q(x) = \\nabla f(x^k) +H(x^k)(x - x^k)\n",
        "\\end{equation}\n",
        "\n",
        "y aplicamos la condicion de optimalidad de primer orden\n",
        "\n",
        "\\begin{align}\n",
        "                        \\nabla q(x) &= 0\\\\\n",
        "     \\nabla f(x^k) +H(x^k)(x - x^k) &= 0\n",
        "\\end{align}\n",
        "\n",
        "por lo que\n",
        "\n",
        "\\begin{align}\n",
        "     \\nabla f(x^k) +H(x^k)(x - x^k) &= 0\\\\\n",
        "                    H(x^k)(x - x^k) &=-\\nabla f(x^k)\\\\\n",
        "                            x - x^k &=-H(x^k)^{-1}\\nabla f(x^k)\\\\\n",
        "                            x       &= x^k -H(x^k)^{-1}\\nabla f(x^k)\n",
        "\\end{align}\n",
        "\n",
        "al derivdar por segunda vez $q$, obtenemos\n",
        "\\begin{equation}\n",
        "  \\nabla^2q(x) = H(x^k)\n",
        "\\end{equation}\n",
        "\n",
        "podemos aplicar la condicion de optimalidad de segundo orden\n",
        "\n",
        "Si\n",
        "\n",
        "\\begin{align}\n",
        "                        H(x^k) < 0\\\\\n",
        "\\end{align}\n",
        "\n",
        "entonces el punto $x^k$ es un minimo\n",
        "\n",
        "de donde, esta es la forma recursiva del metodo de Newton\n",
        "\n",
        "\\begin{equation}\n",
        "  x^{k+1} = x^k -H(x^k)^{-1}\\nabla f(x^k)\n",
        "\\end{equation}"
      ],
      "metadata": {
        "id": "MNbVFZ75flLP"
      }
    },
    {
      "cell_type": "markdown",
      "source": [
        "entonces, comencemos a programar el metodo"
      ],
      "metadata": {
        "id": "BZgv9FLakjU5"
      }
    },
    {
      "cell_type": "code",
      "source": [
        "# Librerias que se usaran\n",
        "import numpy as np\n",
        "import math as mt\n",
        "import matplotlib.pyplot as plt\n"
      ],
      "metadata": {
        "id": "pvQk5P46L49D"
      },
      "execution_count": null,
      "outputs": []
    },
    {
      "cell_type": "code",
      "source": [
        "# Metodo de diferencias finitas, para aproximar las\n",
        "# derivadas de forma numerica\n",
        "\n",
        "# Otra forma podria ser con la libreria sympy, pero\n",
        "# la idea es no usar metodos analiticos\n",
        "\n",
        "# El programa se construyo de manera iterativa para\n",
        "# poder usar formulas de diferencias finitas\n",
        "# de n puntos centrales\n",
        "def df(f,x,h,A):\n",
        "  P=[-2,-1,1,2] # Parametros que van dentro de la funcion\n",
        "  F=[1,-8,8,-1] # Parametros que multiplican a la funcion evaluada\n",
        "\n",
        "  df = 0\n",
        "  for k in range(len(P)):\n",
        "    df = df + F[k]*f(x+P[k]*h*A)\n",
        "\n",
        "  df = (1/(12*h))*df\n",
        "  return(df)"
      ],
      "metadata": {
        "id": "VR0U0V-OKxWb"
      },
      "execution_count": null,
      "outputs": []
    },
    {
      "cell_type": "code",
      "source": [
        "# Programa para calcular el gradiente de la\n",
        "# funcion f\n",
        "\n",
        "def Gradient(f,x,h):\n",
        "  n = len(x)\n",
        "  A = np.identity(n)\n",
        "  G = np.zeros((n,1))\n",
        "  for k in range(n):\n",
        "    G[k] = df(f,x,h,A[k]);\n",
        "  return(G)"
      ],
      "metadata": {
        "id": "1fCqGxZ0SOPs"
      },
      "execution_count": null,
      "outputs": []
    },
    {
      "cell_type": "code",
      "source": [
        "# Programa para calcular la matriz Hessiana de\n",
        "# la funcion f\n",
        "\n",
        "def Hessian(f,x0,h):\n",
        "  n = len(x0)\n",
        "  A = np.identity(n)\n",
        "  H = np.zeros((n,n))\n",
        "\n",
        "  for k in range(n):\n",
        "    df_x = lambda x: df(f,x,h,A[k])\n",
        "    for m in range(n):\n",
        "      df_xy = lambda x: df(df_x,x,h,A[m])\n",
        "      H[k][m] = df_xy(x0)\n",
        "\n",
        "  return(H)"
      ],
      "metadata": {
        "id": "TJyWsUpVTROc"
      },
      "execution_count": null,
      "outputs": []
    },
    {
      "cell_type": "markdown",
      "source": [
        "Una vez que tenemos el gradiente y la matriz Hessiana, podemos aplicar el metodo, pero nos falta un paso"
      ],
      "metadata": {
        "id": "ECX9Cu5tuLFE"
      }
    },
    {
      "cell_type": "markdown",
      "source": [
        "Un criterio de paro\n",
        "\n",
        "¿cuantas iteraciones del metodo haremos?\n",
        "\n",
        "La idea es encontrar un minimo\n",
        "\n",
        "Cuando encontramos un minimo, o bien, cuando encontramos un punto critico, en dicho punto, el gradiente de la funcion se hace 0\n",
        "\n",
        "pero seria complicado evaluar entrada a entrada el gradiente cuando se trata de n variables\n",
        "\n",
        "por lo que el criterio de paro sera la norma del gradiente, o bien,\n",
        "\n",
        "\\begin{equation}\n",
        "  ||\\nabla f(x^k)||\\leq ϵ\n",
        "\\end{equation}"
      ],
      "metadata": {
        "id": "ZCXbj6k_uS3O"
      }
    },
    {
      "cell_type": "markdown",
      "source": [
        "por tanto, tenemos todo lo necesario para programar el metodo"
      ],
      "metadata": {
        "id": "kR0vvUhZvSv7"
      }
    },
    {
      "cell_type": "code",
      "source": [
        "def metodo_newton(f,x0,e):\n",
        "  y1=0\n",
        "  h = 0.0001\n",
        "\n",
        "  G = Gradient(f,x0,h)\n",
        "  while np.linalg.norm(G)>e:\n",
        "\n",
        "    H=Hessian(f,x0,h)\n",
        "\n",
        "    d = np.linalg.inv(H).dot(G)\n",
        "\n",
        "    x0 = x0 - np.transpose(d)\n",
        "\n",
        "    x0 = x0[0]\n",
        "    G = Gradient(f,x0,h)\n",
        "\n",
        "    y1 = y1+1\n",
        "\n",
        "    if y1>20:\n",
        "      break\n",
        "\n",
        "  fxo=f(x0)\n",
        "  return(x0,fxo,y1)"
      ],
      "metadata": {
        "id": "ghipJqBOsAWd"
      },
      "execution_count": null,
      "outputs": []
    },
    {
      "cell_type": "markdown",
      "source": [
        "Probemos el metodo con una de las funciones mas simples, un paraboloide en $R^3$"
      ],
      "metadata": {
        "id": "14AN--GFvtta"
      }
    },
    {
      "cell_type": "code",
      "source": [
        "# f  : Funcion objetivo en Rn\n",
        "# x0 : Vector inicial\n",
        "# e  : Criterio de tolerancia para detener el metodo\n",
        "# y1 : Numero de iteraciones del metodo\n",
        "# y2 : Numero de llamadas a la funcion objetivo\n",
        "\n",
        "\n",
        "\n",
        "x0 = np.array([1.0,1.0])\n",
        "e = 0.00001"
      ],
      "metadata": {
        "id": "4PwkXYhTxJsD"
      },
      "execution_count": null,
      "outputs": []
    },
    {
      "cell_type": "code",
      "source": [
        "# Funcion objetivo\n",
        "def f_x(x):\n",
        "  global y2\n",
        "  y2 = y2+1\n",
        "  f  = (x[0]**2) + (x[1]**2)\n",
        "  return(f)\n",
        "\n",
        "global y2\n",
        "y2=0\n",
        "y1=0\n",
        "\n",
        "xo,fxo,y1 = metodo_newton(f_x,x0,e)\n",
        "print(xo)\n",
        "print(fxo)\n",
        "print(y1)\n",
        "print(y2)\n"
      ],
      "metadata": {
        "id": "zXAyB6sVy4gW",
        "colab": {
          "base_uri": "https://localhost:8080/"
        },
        "outputId": "a7d93a2f-be08-4006-9ef6-bbd7e7887002"
      },
      "execution_count": null,
      "outputs": [
        {
          "output_type": "stream",
          "name": "stdout",
          "text": [
            "[-4.53572357e-09 -4.53572357e-09]\n",
            "4.1145576688655766e-17\n",
            "1\n",
            "81\n"
          ]
        }
      ]
    },
    {
      "cell_type": "markdown",
      "source": [
        "Pero que pasa cuando las ecuaciones son multimodales\n",
        "\n",
        "Ya no es tan facil encontrar el minimo global, o bien, encontrar minimos, por que podria darse el caso de que encontremos maximos"
      ],
      "metadata": {
        "id": "JBQpG1cj89VV"
      }
    },
    {
      "cell_type": "markdown",
      "source": [
        "Declaremos algunas funciones de prueba para optimizacion\n",
        "\n",
        "las cuales se encuentran en la pagina\n",
        "\n",
        "https://www.sfu.ca/~ssurjano/optimization.html"
      ],
      "metadata": {
        "id": "tPhSxyQv9Izx"
      }
    },
    {
      "cell_type": "code",
      "source": [
        "# Funcion Drop-Wave\n",
        "\n",
        "# La funcion es usualmente evaluada en el cuadrado\n",
        "# xi ∈ [-5.12, 5.12]\n",
        "\n",
        "# El minimo global es f(x*) = -1\n",
        "# en x* = (0,0)\n",
        "\n",
        "def drop(x):\n",
        "  n = 1 + mt.cos(12*mt.sqrt((x[0]**2) + (x[1]**2)))\n",
        "  d = 0.5*((x[0]**2) + (x[1]**2)) +2\n",
        "\n",
        "  y = - n/d\n",
        "  return(y)"
      ],
      "metadata": {
        "id": "eAsN7vr988mx"
      },
      "execution_count": null,
      "outputs": []
    },
    {
      "cell_type": "code",
      "source": [
        "# Funcion Six-Hump Camel\n",
        "\n",
        "# La funcion es usualmente evaluada en el cuadrado\n",
        "# x1 ∈ [-3,3] y x2 ∈ [-2,2]\n",
        "\n",
        "# El minimo global es f(x*) = -2.06261\n",
        "# en x* = (1.3491,1.3491),(1.3491,-1.3491),(-1.3491,1.3491),(-1.3491,-1.3491)\n",
        "\n",
        "def camel_6(x):\n",
        "  t_1 = (4 - 2.1*(x[0]**2) + ((x[0]**4)/(3))) * (x[0]**2)\n",
        "  t_2 = x[0]*x[1]\n",
        "  t_3 = (-4 + 4*(x[1]**2))*(x[1]**2)\n",
        "\n",
        "  y= t_1 + t_2 + t_3\n",
        "  return(y)\n"
      ],
      "metadata": {
        "id": "Em3rWQJr-Rko"
      },
      "execution_count": null,
      "outputs": []
    },
    {
      "cell_type": "code",
      "source": [
        "# Funcion Cross-in-Tray\n",
        "\n",
        "# La funcion es usualmente evaluada en el cuadrado\n",
        "# xi ∈ [-10,10]\n",
        "\n",
        "# El minimo global es f(x*) = -2.06261\n",
        "# en x* = (1.3491,1.3491),(1.3491,-1.3491),(-1.3491,1.3491),(-1.3491,-1.3491)\n",
        "\n",
        "\n",
        "def crossit(x):\n",
        "  f_1 = mt.sin(x[0])*mt.sin(x[1])\n",
        "  f_2 = mt.exp(np.abs(100 - ((mt.sqrt( (x[0]**2) + (x[1]**2) ))/(mt.pi))))\n",
        "  y = -0.0001 * ((np.abs(f_1*f_2) + 1)**(0.1))\n",
        "  return(y)\n"
      ],
      "metadata": {
        "id": "sauxmP0U_XRx"
      },
      "execution_count": null,
      "outputs": []
    },
    {
      "cell_type": "code",
      "source": [
        "# Function Styblinski-tang\n",
        "\n",
        "# La funcion es usualmente evaluada en el cuadrado\n",
        "# xi ∈ [-5,5]\n",
        "\n",
        "# El minimo global es f(x*) = -39.16599\n",
        "# en x* = (-2.903534,...,-2.903534)\n",
        "\n",
        "def stybtang(x):\n",
        "  d = len(x)\n",
        "\n",
        "  sum = 0\n",
        "\n",
        "  for i in range(d):\n",
        "    new = (x[i]**4) - 16*(x[i]**2) + 5*x[i]\n",
        "    sum = sum + new\n",
        "  y = sum/2\n",
        "  return(y)"
      ],
      "metadata": {
        "id": "GnamUjlSA2Op"
      },
      "execution_count": null,
      "outputs": []
    },
    {
      "cell_type": "markdown",
      "source": [
        "Ahora, usemos el metodo de Newton, para tratar de encontrar sus minimos globales"
      ],
      "metadata": {
        "id": "6s3reLcrDC6H"
      }
    },
    {
      "cell_type": "code",
      "source": [
        "print('Funcion Drop-Wave')\n",
        "xo,fxo,y1 = metodo_newton(stybtang,np.array([-5.12,-5.12]),e)\n",
        "print('x*=',xo)\n",
        "print('f(x*) =',fxo)\n"
      ],
      "metadata": {
        "colab": {
          "base_uri": "https://localhost:8080/"
        },
        "id": "N3cozWvT-9BJ",
        "outputId": "c2cf2981-0b5d-4b33-f479-f72502112a50"
      },
      "execution_count": null,
      "outputs": [
        {
          "output_type": "stream",
          "name": "stdout",
          "text": [
            "Funcion Drop-Wave\n",
            "x*= [-2.90353408 -2.90353408]\n",
            "f(x*) = -78.33233140754274\n"
          ]
        }
      ]
    },
    {
      "cell_type": "code",
      "source": [
        "print('Funcion Cross-in-Tray')\n",
        "xo,fxo,y1 = metodo_newton(crossit,x0,e)\n",
        "print('x*=',xo)\n",
        "print('f(x*) =',fxo)"
      ],
      "metadata": {
        "colab": {
          "base_uri": "https://localhost:8080/"
        },
        "id": "eBMrGz_vDda5",
        "outputId": "c2ab2633-5882-4556-c82b-c58483717b34"
      },
      "execution_count": null,
      "outputs": [
        {
          "output_type": "stream",
          "name": "stdout",
          "text": [
            "Funcion Cross-in-Tray\n",
            "x*= [1.34940655 1.34940655]\n",
            "f(x*) = -2.0626118708227374\n"
          ]
        }
      ]
    },
    {
      "cell_type": "code",
      "source": [
        "print('Funcion Six-Hump Camel ')\n",
        "xo,fxo,y1 = metodo_newton(camel_6,x0,e)\n",
        "print('x*=',xo)\n",
        "print('f(x*) =',fxo)"
      ],
      "metadata": {
        "colab": {
          "base_uri": "https://localhost:8080/"
        },
        "id": "yGZcSQjfDdzX",
        "outputId": "73b2bcea-821a-4907-cbad-9f15d031af00"
      },
      "execution_count": null,
      "outputs": [
        {
          "output_type": "stream",
          "name": "stdout",
          "text": [
            "Funcion Six-Hump Camel \n",
            "x*= [1.29607027 0.6050844 ]\n",
            "f(x*) = 2.2294708180298604\n"
          ]
        }
      ]
    },
    {
      "cell_type": "code",
      "source": [
        "print('Function Styblinski-tang')\n",
        "xo,fxo,y1 = metodo_newton(stybtang,x0,e)\n",
        "print('x*=',xo)\n",
        "print('f(x*) =',fxo)"
      ],
      "metadata": {
        "colab": {
          "base_uri": "https://localhost:8080/"
        },
        "id": "hXVKfteUDeRF",
        "outputId": "9687e7c1-8db5-4560-be3a-1351d825b072"
      },
      "execution_count": null,
      "outputs": [
        {
          "output_type": "stream",
          "name": "stdout",
          "text": [
            "Function Styblinski-tang\n",
            "x*= [0.15673108 0.15673108]\n",
            "f(x*) = 0.3912247181102441\n"
          ]
        }
      ]
    },
    {
      "cell_type": "markdown",
      "source": [
        "Como se esperaba, no se encontrarian los minimos globales dada la propiedad multimodal de las funciones\n",
        "\n",
        "Entonces, ¿como podriamos encontrar los minimos globales? (dicho de otra forma, el minimo local mas pequeño)"
      ],
      "metadata": {
        "id": "_viO9SI-Dy2u"
      }
    },
    {
      "cell_type": "markdown",
      "source": [
        "Una opción, es el mallado, el cual consiste en dividir la region de factible de busqueda, con lineas equiespaciadas formando una malla, de la siguiente forma"
      ],
      "metadata": {
        "id": "WjO6LD9cE0Fq"
      }
    },
    {
      "cell_type": "code",
      "source": [
        "x = range(0, 11)\n",
        "n = len(x)\n",
        "print(x)\n",
        "\n",
        "for k in range(11):\n",
        "  plt.plot(x,np.zeros(11)+k,color=(1, 0.5, 0.31))\n",
        "  plt.plot(np.zeros(11) + k,x,color=(1, 0.5, 0.31))\n",
        "  plt.plot(np.zeros(11)+k,x,'o',color=(0, 0.5, 0))\n",
        "\n",
        "plt.axhline(0, color=\"black\")\n",
        "plt.axvline(0, color=\"black\")\n",
        "\n",
        "plt.xlim(-1, 11)\n",
        "plt.ylim(-1, 11)\n",
        "\n",
        "plt.show()"
      ],
      "metadata": {
        "colab": {
          "base_uri": "https://localhost:8080/",
          "height": 447
        },
        "id": "aNo6DdINF2Ec",
        "outputId": "497f2716-0e54-4031-9785-c4ef49b969e5"
      },
      "execution_count": null,
      "outputs": [
        {
          "output_type": "stream",
          "name": "stdout",
          "text": [
            "range(0, 11)\n"
          ]
        },
        {
          "output_type": "display_data",
          "data": {
            "text/plain": [
              "<Figure size 640x480 with 1 Axes>"
            ],
            "image/png": "[encoded data removed]"
          },
          "metadata": {}
        }
      ]
    },
    {
      "cell_type": "markdown",
      "source": [
        "De ese modo, cada punto verde sera un punto vector inicial con el cual se ejecutara el programa"
      ],
      "metadata": {
        "id": "VhSYbQwWJxj_"
      }
    },
    {
      "cell_type": "markdown",
      "source": [
        "Probemos la idea con la funcion Drop-Wave"
      ],
      "metadata": {
        "id": "RIWv7tSXJ7Ov"
      }
    },
    {
      "cell_type": "code",
      "source": [
        "# Primero generemos los puntos\n",
        "\n",
        "x1=np.linspace(-5.12,5.12,25, endpoint=True)\n",
        "x2=np.linspace(-5.12,5.12,25, endpoint=True)\n",
        "\n",
        "k = len(x1)\n",
        "\n",
        "# Declaramos las variables donde guardaremos los datos\n",
        "# A1: Variable donde se guardan todos los vectores iniciales\n",
        "#     correspondientes a cada vector optimo\n",
        "# A2: Variable donde se guardan todos los vectores optimos\n",
        "#\n",
        "# A3: Variable donde se guardan todos los valores de la funcion objetivo\n",
        "#     correspodientes a cada vector optimo\n",
        "\n",
        "A1 = np.zeros([k*k,2])\n",
        "A2 = np.zeros([k*k,2])\n",
        "A3 = np.zeros(k*k)\n",
        "\n",
        "y1=0\n",
        "e = 0.00001\n",
        "w=0\n",
        "for w1 in range(k):\n",
        "  for w2 in range(k):\n",
        "\n",
        "\n",
        "    x0 = np.array([x1[w1],x2[w2]])\n",
        "\n",
        "    xo,fxo,y1 = metodo_newton(drop,x0,e)\n",
        "\n",
        "    A1[w] = x0\n",
        "    A2[w] = xo\n",
        "    A3[w] = fxo\n",
        "\n",
        "    if y1>20 or fxo==-mt.inf or fxo==mt.inf:\n",
        "      A2[w] = None\n",
        "      A3[w] = None\n",
        "\n",
        "    w = w + 1\n",
        "\n",
        "# Por ultimo, solo nos falta localizar el valor mas pequeño encontrado\n",
        "\n",
        "I = np.where(A3==min(A3))\n",
        "\n",
        "print()\n",
        "#I = r1.index(max(r1))\n",
        "\n",
        "print('El minimo local mas pequeño encontrado es\\n')\n",
        "print(A3[I[0]][0],'en',A2[I[0]][0])\n",
        "\n",
        "\n"
      ],
      "metadata": {
        "colab": {
          "base_uri": "https://localhost:8080/"
        },
        "id": "eujNqxCaJ5rk",
        "outputId": "0c4def14-7059-4b6c-e0b7-09bd1bccf826"
      },
      "execution_count": null,
      "outputs": [
        {
          "output_type": "stream",
          "name": "stdout",
          "text": [
            "\n",
            "El minimo local mas pequeño encontrado es\n",
            "\n",
            "-1.0 en [0. 0.]\n"
          ]
        }
      ]
    },
    {
      "cell_type": "markdown",
      "source": [
        "Pienso que este es el metodo mas intuitivo, pero es muy tardado, ya que revisa cada punto\n",
        "\n",
        "probemos con la funcion Six-Hump Camel function la misma idea"
      ],
      "metadata": {
        "id": "c7DAo2b9gnng"
      }
    },
    {
      "cell_type": "code",
      "source": [
        "# Primero generemos los puntos\n",
        "\n",
        "x1=np.linspace(-3,3,25, endpoint=True)\n",
        "x2=np.linspace(-2,2,25, endpoint=True)\n",
        "\n",
        "k = len(x1)\n",
        "\n",
        "A1 = np.zeros([k*k,2])\n",
        "A2 = np.zeros([k*k,2])\n",
        "A3 = np.zeros(k*k)\n",
        "\n",
        "y1=0\n",
        "e = 0.00001\n",
        "w=0\n",
        "for w1 in range(k):\n",
        "  for w2 in range(k):\n",
        "\n",
        "    x0 = np.array([x1[w1],x2[w2]])\n",
        "    xo,fxo,y1 = metodo_newton(camel_6,x0,e)\n",
        "\n",
        "    A1[w] = x0\n",
        "    A2[w] = xo\n",
        "    A3[w] = fxo\n",
        "\n",
        "    if y1>20 or fxo==-mt.inf or fxo==mt.inf:\n",
        "      A2[w] = None\n",
        "      A3[w] = None\n",
        "\n",
        "    w = w + 1\n",
        "\n",
        "# Por ultimo, solo nos falta localizar el valor mas pequeño encontrado\n",
        "\n",
        "I = np.where(A3==min(A3))\n",
        "\n",
        "\n",
        "\n",
        "\n",
        "print('El minimo local mas pequeño encontrado es\\n')\n",
        "print(A3[I][0],'en',A2[I][0])\n"
      ],
      "metadata": {
        "colab": {
          "base_uri": "https://localhost:8080/"
        },
        "id": "3dgsopNIg4Xy",
        "outputId": "84296d17-3d26-45c0-fd7f-277129e39801"
      },
      "execution_count": null,
      "outputs": [
        {
          "output_type": "stream",
          "name": "stdout",
          "text": [
            "El minimo local mas pequeño encontrado es\n",
            "\n",
            "-1.0316284534898774 en [-0.08984201  0.7126564 ]\n"
          ]
        }
      ]
    },
    {
      "cell_type": "markdown",
      "source": [
        "#Algoritmos geneticos"
      ],
      "metadata": {
        "id": "ss2N4Lgf-N0Q"
      }
    },
    {
      "cell_type": "code",
      "source": [
        "import random as rd"
      ],
      "metadata": {
        "id": "et-hrWuf4b-I"
      },
      "execution_count": null,
      "outputs": []
    },
    {
      "cell_type": "markdown",
      "source": [
        "La idea de recorrer todos los puntos del mallado es intuitiva pero ineficiente, por lo que se deberian buscar opciones mas eficientes"
      ],
      "metadata": {
        "id": "BwIZAbJlhnjX"
      }
    },
    {
      "cell_type": "markdown",
      "source": [
        "En este caso, la idea de un algoritmo gentico parece que es una mejor idea"
      ],
      "metadata": {
        "id": "uX6VQiPOhvdn"
      }
    },
    {
      "cell_type": "markdown",
      "source": [
        "Los algoritmos genéticos forman parte de la llamada computación evolutiva, que a su vez suele clasificarse dentro de las técnicas de Inteligencia Artificial\n",
        "\n",
        "Un algoritmo genético es una clase de algoritmo perteneciente a la Computación Evolutiva. Es un algoritmo de búsqueda basado en la mecánica de la selección natural. Estos algoritmos hacen evolucionar una población de individuos a través de acciones aleatorias semejantes a las que actúan según la teoría de la evolución biológica como mutaciones y recombinaciones genéticas. Además, hacen una selección de acuerdo con alguna función de aptitud que decide cuáles son los individuos más aptos que sobreviven, y cuáles los menos aptos que son descartados.\n",
        "\n",
        "En esta ocasion, usaremos la codificación binaria, aunque no es la única forma de representar a un individuo. Existe también la codificación real, que implica que el fenotipo y genotipo coincide. En otras palabras, la codificación real del individuo con fenotipo 10, sería 10 también.\n",
        "\n",
        "Son las cadenas binarias las que pasan por operaciones de recombinación genética y mutaciones."
      ],
      "metadata": {
        "id": "3wNtvBaIh_iX"
      }
    },
    {
      "cell_type": "markdown",
      "source": [
        "De forma más particular, un algoritmo genético simple ejecuta tres operaciones básicas:\n",
        "\n",
        "1. Reproducción\n",
        "2. Cruza\n",
        "3. Mutación\n"
      ],
      "metadata": {
        "id": "oOWQczwMjfdR"
      }
    },
    {
      "cell_type": "markdown",
      "source": [
        "**Reproducción**\n",
        "\n",
        "La reproducción es un proceso de selección de cromosomas para el posterior apareamiento e intercambio de genes, con base en el valor de su función de aptitud (la que indica qué tan apto es un individuo). Idealmente, se seleccionan con mayor probabilidad los individuos con una función de aptitud alta, logrando así una mayor probabilidad de contribuir con descendencia a la próxima generación."
      ],
      "metadata": {
        "id": "_9a_40d3kMo5"
      }
    },
    {
      "cell_type": "markdown",
      "source": [
        "Uno de los métodos más usado para la selección de individuos es la llamada rueda de ruleta. Este método asigna un porcentaje de la ruleta, es decir una probabilidad, a cada individuo según su aptitud; donde el 100% de la ruleta es la suma de las aptitudes."
      ],
      "metadata": {
        "id": "ZhZ1J0ldkXyl"
      }
    },
    {
      "cell_type": "markdown",
      "source": [
        "Como ejemplo, observa la ruleta que se construye para una población de cuatro individuos con aptitudes: 25, 784, 441\n",
        "y 961.\n",
        "\n",
        "los porcentas de aptitud serian\n",
        "\n",
        "|**Numero** |**Aptitud**|\n",
        "|-----------|-------|\n",
        "|25         |  1%   |\n",
        "|441        | 20%   |\n",
        "|784        | 35%   |      \n",
        "| 961       | 43%   |\n"
      ],
      "metadata": {
        "id": "vKDQ8xzEkbkL"
      }
    },
    {
      "cell_type": "markdown",
      "source": [
        "La cruza es un operador que lleva a cabo el intercambio de información genética de dos individuos de la población, a los que llamaremos padres, en el cual se combinan sus genes, que son los bits de las cadenas binarias, para generar descendencia o hijos."
      ],
      "metadata": {
        "id": "zjx-6rjVla2u"
      }
    },
    {
      "cell_type": "markdown",
      "source": [
        "Toma por ejemplo la cruza de estas dos cadenas binarias.\n",
        "\n",
        "\\begin{align}\n",
        "  10|10 &-\\\\\n",
        "        &- --10  00\\\\\n",
        "  10|00 &-  \n",
        "\\end{align}"
      ],
      "metadata": {
        "id": "WpADQEJ0lfIF"
      }
    },
    {
      "cell_type": "markdown",
      "source": [
        "**Mutación**\n",
        "\n",
        "La mutación modifica bits de la cadena binaria de forma aleatoria con cierta probabilidad. Una mutación se vería así:\n",
        "\n",
        "\\begin{equation}\n",
        "  1000---1001\n",
        "\\end{equation}\n",
        "\n",
        "El objetivo de la mutación es generar nuevos individuos o hijos que formarán parte de la nueva población. Este operador permite la variabilidad en la población, con la finalidad de no quedar estancado en un máximo o mínimo local. Eso contribuye a la exploración de todo el espacio de búsqueda evitando así la convergencia prematura.\n"
      ],
      "metadata": {
        "id": "iiOqMlskmGhG"
      }
    },
    {
      "cell_type": "markdown",
      "source": [
        "Primero consideremos un ejemplo simple, de programacion entera no lineal"
      ],
      "metadata": {
        "id": "ROLLGpWO2Z72"
      }
    },
    {
      "cell_type": "markdown",
      "source": [
        "Maximizar\n",
        "\n",
        "\\begin{equation}\n",
        "  f(x) = 12x^5 + 975x^4 + 28000x^3 + 345,000x^2 + 1,800,000x\n",
        "\\end{equation}\n",
        "\n",
        "sujeto a\n",
        "\n",
        "\\begin{equation}\n",
        "  0\\leq x \\leq 31\n",
        "\\end{equation}"
      ],
      "metadata": {
        "id": "iAm8Bjvh2fVK"
      }
    },
    {
      "cell_type": "markdown",
      "source": [
        "El primer paso consiste en generar una poblacion inicial\n",
        "\n",
        "En este caso, sera de 10 numero aleatorios entre 0 y 31"
      ],
      "metadata": {
        "id": "4UzMEYF83aKA"
      }
    },
    {
      "cell_type": "code",
      "source": [
        "# Definimos la funcion objetivo\n",
        "\n",
        "def funcion(x):\n",
        "  f = 12*(x**5) - 975*(x**4) + 28000*(x**3) - 345000*(x**2) + 1800000*x\n",
        "  return(f)"
      ],
      "metadata": {
        "id": "LcGFPXU45wHT"
      },
      "execution_count": null,
      "outputs": []
    },
    {
      "cell_type": "code",
      "source": [
        "def generador(b):\n",
        "  x = rd.random()\n",
        "  c=0;\n",
        "  for y in range(0,b+1):\n",
        "    if x>y/b:\n",
        "      if x<=(y+1)/b:\n",
        "        c=c+y+1\n",
        "        break\n",
        "  return(c)"
      ],
      "metadata": {
        "id": "bDVZmovc5A45"
      },
      "execution_count": null,
      "outputs": []
    },
    {
      "cell_type": "code",
      "source": [
        "def muestra(n,b):\n",
        "  M = []\n",
        "  for x in range(n):\n",
        "    M.append(generador(b))\n",
        "  return(M)"
      ],
      "metadata": {
        "id": "Gh7zbi9z63fv"
      },
      "execution_count": null,
      "outputs": []
    },
    {
      "cell_type": "code",
      "source": [
        "def aptitud(M):\n",
        "  A = []\n",
        "  for x in range(len(M)):\n",
        "    A.append(funcion(M[x]))\n",
        "  return(A)"
      ],
      "metadata": {
        "id": "X6htnVT5BQIH"
      },
      "execution_count": null,
      "outputs": []
    },
    {
      "cell_type": "code",
      "source": [
        "def seleccion(A):\n",
        "  A.sort()\n",
        "  Mas = A[6:]\n",
        "  menos = A[0:2]\n",
        "  return(Mas+menos)"
      ],
      "metadata": {
        "id": "gU7MEgJuCKLw"
      },
      "execution_count": null,
      "outputs": []
    },
    {
      "cell_type": "code",
      "source": [
        "P  = muestra(10,31)\n",
        "print(P)"
      ],
      "metadata": {
        "colab": {
          "base_uri": "https://localhost:8080/"
        },
        "id": "K1zGh5UV3nYi",
        "outputId": "f7efc53a-cf57-4ba1-a078-383bb4d36e3d"
      },
      "execution_count": null,
      "outputs": [
        {
          "output_type": "stream",
          "name": "stdout",
          "text": [
            "[14, 21, 31, 22, 4, 22, 28, 28, 20, 28]\n"
          ]
        }
      ]
    },
    {
      "cell_type": "code",
      "source": [
        "A = aptitud(P)\n",
        "print(A)"
      ],
      "metadata": {
        "colab": {
          "base_uri": "https://localhost:8080/"
        },
        "id": "krG07hH67xOO",
        "outputId": "fb574cec-7ba5-43e8-99e3-69a3d5a69a6e"
      },
      "execution_count": null,
      "outputs": [
        {
          "output_type": "stream",
          "name": "stdout",
          "text": [
            "[3410288, 4353237, 1519837, 4207984, 3234688, 4207984, 1810816, 1810816, 4400000, 1810816]\n"
          ]
        }
      ]
    },
    {
      "cell_type": "code",
      "source": [
        "S = seleccion(A)\n",
        "print(S)"
      ],
      "metadata": {
        "colab": {
          "base_uri": "https://localhost:8080/"
        },
        "id": "cmXrhDVFCPi-",
        "outputId": "c951d6d8-255a-413b-d667-e199c79154e8"
      },
      "execution_count": null,
      "outputs": [
        {
          "output_type": "stream",
          "name": "stdout",
          "text": [
            "[4207984, 4207984, 4353237, 4400000, 1519837, 1810816]\n"
          ]
        }
      ]
    }
  ]
}