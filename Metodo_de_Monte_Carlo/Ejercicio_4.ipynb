{
  "nbformat": 4,
  "nbformat_minor": 0,
  "metadata": {
    "colab": {
      "provenance": [],
      "authorship_tag": "ABX9TyOuRp5xb4om1tIeXG6r5FCY",
      "include_colab_link": true
    },
    "kernelspec": {
      "name": "python3",
      "display_name": "Python 3"
    },
    "language_info": {
      "name": "python"
    }
  },
  "cells": [
    {
      "cell_type": "markdown",
      "metadata": {
        "id": "view-in-github",
        "colab_type": "text"
      },
      "source": [
        "<a href=\"https://colab.research.google.com/github/antonvandike/Simulacion-II/blob/main/Metodo_de_Monte_Carlo/Ejercicio_4.ipynb\" target=\"_parent\"><img src=\"https://colab.research.google.com/assets/colab-badge.svg\" alt=\"Open In Colab\"/></a>"
      ]
    },
    {
      "cell_type": "markdown",
      "source": [
        "# Ejercicio 4\n",
        "\n",
        "Las bombillas eléctricas de un fabricante A tiene una duración media a 1400 horas con\n",
        "una desviación típica de 200 horas, mientras que las de otro fabricante B tiene una\n",
        "duración media de 1200 horas con una desviación típica de 100 horas. Si se toman\n",
        "muestras al azar de 125 bombillas de cada fabricante, ¿cual es la probabilidad de que\n",
        "las bombillas de A tengan una duración media que sea al menos\n",
        "\n",
        "(a) 160 horas,\n",
        "\n",
        "(b) 250\n",
        "\n",
        "horas mas que las bombillas de B?"
      ],
      "metadata": {
        "id": "4ViWPFbFyOcV"
      }
    },
    {
      "cell_type": "markdown",
      "source": [
        "### Soluacion por simulacion\n",
        "\n",
        "**Paso 1.**\n",
        "\n",
        "Tenemos dos variables:\n",
        "\n",
        "$X_a$: Bombillas del fabricante A\n",
        "\n",
        "$X_b$: Bombillas del fabricante B\n",
        "\n",
        "Que representan la duracion media de las bombillas electricas de cada fabricante"
      ],
      "metadata": {
        "id": "s2NaOH6dyht1"
      }
    },
    {
      "cell_type": "markdown",
      "source": [
        "**Paso 2 y 3.**\n",
        "\n",
        "Sean $X_a$ y $X_b$ variables aleatorias continuas con distribucion normal\n",
        "\\begin{align*}\n",
        "  X_a &\\sim N(1400,200)\\\\\n",
        "  X_b &\\sim N(1200,100)\n",
        "\\end{align*}"
      ],
      "metadata": {
        "id": "lw-mMmIHy-nM"
      }
    },
    {
      "cell_type": "markdown",
      "source": [
        "a) tenemos que la expresion de que las bombillas de A tengan una duracion media  que sea al menos 160 horas mas qque las bombillas de B\n",
        "\\begin{equation*}\n",
        "  X_a - X_b \\geq 160\n",
        "\\end{equation*}\n",
        "\n",
        "b) tenemos que la expresion de que las bombillas de A tengan una duracion media  que sea al menos 160 horas mas qque las bombillas de B\n",
        "\\begin{equation*}\n",
        "  X_a - X_b \\geq 250\n",
        "\\end{equation*}"
      ],
      "metadata": {
        "id": "Dx3bbo-7zqV8"
      }
    },
    {
      "cell_type": "code",
      "source": [
        "# Librerias a usar\n",
        "\n",
        "import numpy as np\n",
        "import math as mt\n",
        "import random as rd\n",
        "import matplotlib.pyplot as plt\n",
        "import scipy.stats as sst"
      ],
      "metadata": {
        "id": "udOTPS-u1JYO"
      },
      "execution_count": null,
      "outputs": []
    },
    {
      "cell_type": "markdown",
      "source": [
        "Implementando el codigo de las ecuaciones objetivo"
      ],
      "metadata": {
        "id": "ORFTfhSN1L-L"
      }
    },
    {
      "cell_type": "code",
      "source": [
        "def duracion(d):\n",
        "  duracion_d=0\n",
        "\n",
        "  X_a = rd.gauss(1400,200)\n",
        "  X_b = rd.gauss(1200,100)\n",
        "\n",
        "  if X_a - X_b >= d:\n",
        "    duracion_d = 1\n",
        "\n",
        "  return(duracion_d)"
      ],
      "metadata": {
        "id": "-bhlOot81WlP"
      },
      "execution_count": null,
      "outputs": []
    },
    {
      "cell_type": "code",
      "source": [
        "print(duracion(160))\n",
        "print(duracion(250))\n"
      ],
      "metadata": {
        "colab": {
          "base_uri": "https://localhost:8080/"
        },
        "id": "2EaPL9-d15DM",
        "outputId": "7f028e0d-d9f7-4281-8785-c0e3c81538c6"
      },
      "execution_count": null,
      "outputs": [
        {
          "output_type": "stream",
          "name": "stdout",
          "text": [
            "1\n",
            "0\n"
          ]
        }
      ]
    },
    {
      "cell_type": "markdown",
      "source": [
        "**Paso 5.** Diseño del experimento\n",
        "\n",
        "Para estimar la probabilidad del suceso, que de N bombillas de cada fabricante, necesitamos el numero n de las veces que las bombillas del fabricante A, tuvieron una duracion de 160 y 250 horas mas que las del fabricante B"
      ],
      "metadata": {
        "id": "IyTIdYSv2UrS"
      }
    },
    {
      "cell_type": "code",
      "source": [
        "# prob_mas: Funcion que estima la probablidad de que de N bombillas\n",
        "# las bombillas del fabricante A tengan una duracion d mayor que las del\n",
        "# fabricante B\n",
        "# Devuelve una lista con las probablidad del suceso de N bombillas\n",
        "def prob_masd(N,d):\n",
        "  bombillas= []        #Lista que guarda si las bombillas de A duraron mas que las de B\n",
        "  prob_bombillas = []  #Lista que guarda la probablidad del suceso de N bombillas\n",
        "\n",
        "  for x in range(N):\n",
        "    bombillas.append(duracion(d))\n",
        "    prob_bombillas.append( np.mean(bombillas) )\n",
        "  return(prob_bombillas)"
      ],
      "metadata": {
        "id": "G1TgyTw03PiV"
      },
      "execution_count": null,
      "outputs": []
    },
    {
      "cell_type": "code",
      "source": [
        "# X_a - X_b >= 160\n",
        "\n",
        "p_160 = prob_masd(1000,160)\n",
        "plt.plot(p_160)\n",
        "plt.show()"
      ],
      "metadata": {
        "colab": {
          "base_uri": "https://localhost:8080/",
          "height": 430
        },
        "id": "uwzNZ4r84CQ7",
        "outputId": "bb05a975-c725-43fc-d03d-fb94643ee4eb"
      },
      "execution_count": null,
      "outputs": [
        {
          "output_type": "display_data",
          "data": {
            "text/plain": [
              "<Figure size 640x480 with 1 Axes>"
            ],
            "image/png": "[encoded data removed]"
          },
          "metadata": {}
        }
      ]
    },
    {
      "cell_type": "code",
      "source": [
        "# X_a - X_b >= 250\n",
        "\n",
        "p_250 = prob_masd(1000,250)\n",
        "plt.plot(p_250)\n",
        "plt.show()"
      ],
      "metadata": {
        "colab": {
          "base_uri": "https://localhost:8080/",
          "height": 430
        },
        "id": "SI-IXWT54QU2",
        "outputId": "8dfb861a-e8b6-43ae-c572-071cd3f82670"
      },
      "execution_count": null,
      "outputs": [
        {
          "output_type": "display_data",
          "data": {
            "text/plain": [
              "<Figure size 640x480 with 1 Axes>"
            ],
            "image/png": "[encoded data removed]"
          },
          "metadata": {}
        }
      ]
    },
    {
      "cell_type": "markdown",
      "source": [
        "Se puede aprecias que para ambos incisos, con 600 iteraciones, se estabiliza la grafica"
      ],
      "metadata": {
        "id": "g0Khqa8J66GW"
      }
    },
    {
      "cell_type": "markdown",
      "source": [
        "La probablidad de que las bombilas de A duren 160 horas mas que las B, tiene una media y una desviacion estandar de"
      ],
      "metadata": {
        "id": "5UlsdAEz7Iam"
      }
    },
    {
      "cell_type": "code",
      "source": [
        "print('x_p =',np.mean(p_160))\n",
        "print('s_p =',np.std(p_160))"
      ],
      "metadata": {
        "colab": {
          "base_uri": "https://localhost:8080/"
        },
        "id": "Tm9TGldL7n3-",
        "outputId": "c92f1b32-fd08-447b-96ef-1fb6b9628799"
      },
      "execution_count": null,
      "outputs": [
        {
          "output_type": "stream",
          "name": "stdout",
          "text": [
            "x_p = 0.5626694110341279\n",
            "s_p = 0.03533248642447295\n"
          ]
        }
      ]
    },
    {
      "cell_type": "markdown",
      "source": [
        "La probablidad de que las bombilas de A duren 250 horas mas que las B, tiene una media y una desviacion estandar de"
      ],
      "metadata": {
        "id": "BoV__4eg75wG"
      }
    },
    {
      "cell_type": "code",
      "source": [
        "print('x_p =',np.mean(p_250))\n",
        "print('s_p =',np.std(p_250))"
      ],
      "metadata": {
        "colab": {
          "base_uri": "https://localhost:8080/"
        },
        "id": "79ZVfmlE78Zl",
        "outputId": "f7d312dd-eddb-4bde-af62-176763ea52d3"
      },
      "execution_count": null,
      "outputs": [
        {
          "output_type": "stream",
          "name": "stdout",
          "text": [
            "x_p = 0.4307629744433913\n",
            "s_p = 0.04713910081204687\n"
          ]
        }
      ]
    },
    {
      "cell_type": "markdown",
      "source": [
        "**Paso 6.** Repita el experimento n veces\n",
        "\n"
      ],
      "metadata": {
        "id": "6gO3V-uG8LIg"
      }
    },
    {
      "cell_type": "code",
      "source": [
        "# modelo: funcion que repite el experimento n veces\n",
        "# Devuelve una lista con las probabilidades de cada experimento\n",
        "def modelo(n,d):\n",
        "  l1 = []\n",
        "\n",
        "  for x in range(n):\n",
        "    p = prob_masd(600,d)\n",
        "    l1.append(np.mean(p))\n",
        "\n",
        "  return(l1)"
      ],
      "metadata": {
        "id": "UXwOyAp88O6v"
      },
      "execution_count": null,
      "outputs": []
    },
    {
      "cell_type": "code",
      "source": [
        "Y_1 = modelo(200,160)\n",
        "Y_2 = modelo(200,250)"
      ],
      "metadata": {
        "id": "xxKQC7xb85QU"
      },
      "execution_count": null,
      "outputs": []
    },
    {
      "cell_type": "code",
      "source": [
        "plt.hist(Y_1)\n",
        "plt.show()"
      ],
      "metadata": {
        "colab": {
          "base_uri": "https://localhost:8080/",
          "height": 430
        },
        "id": "CoZfSJNw9H0r",
        "outputId": "ed13c431-8004-4e55-d094-f42b852df5d3"
      },
      "execution_count": null,
      "outputs": [
        {
          "output_type": "display_data",
          "data": {
            "text/plain": [
              "<Figure size 640x480 with 1 Axes>"
            ],
            "image/png": "[encoded data removed]"
          },
          "metadata": {}
        }
      ]
    },
    {
      "cell_type": "code",
      "source": [
        "plt.hist(Y_2)\n",
        "plt.show()"
      ],
      "metadata": {
        "colab": {
          "base_uri": "https://localhost:8080/",
          "height": 430
        },
        "id": "FKyuGXUw9IVV",
        "outputId": "13efb5f9-1581-4fe9-8fff-8db44295131b"
      },
      "execution_count": null,
      "outputs": [
        {
          "output_type": "display_data",
          "data": {
            "text/plain": [
              "<Figure size 640x480 with 1 Axes>"
            ],
            "image/png": "[encoded data removed]"
          },
          "metadata": {}
        }
      ]
    },
    {
      "cell_type": "markdown",
      "source": [
        "La probabilidad estimada de que $X_1 - X_2 \\geq 160$ es"
      ],
      "metadata": {
        "id": "mHyZe75P9RK0"
      }
    },
    {
      "cell_type": "code",
      "source": [
        "y1_m = np.mean(Y_1)\n",
        "print(y1_m)"
      ],
      "metadata": {
        "colab": {
          "base_uri": "https://localhost:8080/"
        },
        "id": "KCWSzEt-9oJv",
        "outputId": "f4a7e97a-112b-4b2e-eaca-3a0d7fda8fda"
      },
      "execution_count": null,
      "outputs": [
        {
          "output_type": "stream",
          "name": "stdout",
          "text": [
            "0.5736569546948977\n"
          ]
        }
      ]
    },
    {
      "cell_type": "markdown",
      "source": [
        "con una desviacion estandar"
      ],
      "metadata": {
        "id": "cVHYmRTL9qL5"
      }
    },
    {
      "cell_type": "code",
      "source": [
        "s_y1 = np.std(Y_1)\n",
        "print(s_y1)"
      ],
      "metadata": {
        "colab": {
          "base_uri": "https://localhost:8080/"
        },
        "id": "FvlBkXhh9vWG",
        "outputId": "a2d3d493-7bc6-4f42-9dd4-0282aeffc337"
      },
      "execution_count": null,
      "outputs": [
        {
          "output_type": "stream",
          "name": "stdout",
          "text": [
            "0.029008895076674885\n"
          ]
        }
      ]
    },
    {
      "cell_type": "markdown",
      "source": [
        "La probabilidad estimada de que $X_1 - X_2 \\geq 250$ es"
      ],
      "metadata": {
        "id": "M72p_RC193xK"
      }
    },
    {
      "cell_type": "code",
      "source": [
        "y2_m = np.mean(Y_2)\n",
        "print(y2_m)"
      ],
      "metadata": {
        "colab": {
          "base_uri": "https://localhost:8080/"
        },
        "id": "g8A_2GJL98Gh",
        "outputId": "f62ba739-ec85-401c-f4cf-cab554e13581"
      },
      "execution_count": null,
      "outputs": [
        {
          "output_type": "stream",
          "name": "stdout",
          "text": [
            "0.4081747295879363\n"
          ]
        }
      ]
    },
    {
      "cell_type": "markdown",
      "source": [
        "con una desviacion estandar"
      ],
      "metadata": {
        "id": "KvzO7LjF98mr"
      }
    },
    {
      "cell_type": "code",
      "source": [
        "s_y2 = np.std(Y_2)\n",
        "print(s_y2)"
      ],
      "metadata": {
        "colab": {
          "base_uri": "https://localhost:8080/"
        },
        "id": "HXpq0WVP99EY",
        "outputId": "4c115e43-b590-4b40-b3bb-9782098e5359"
      },
      "execution_count": null,
      "outputs": [
        {
          "output_type": "stream",
          "name": "stdout",
          "text": [
            "0.02862033089993353\n"
          ]
        }
      ]
    },
    {
      "cell_type": "markdown",
      "source": [
        "con estos modelos, podemos estimar el numero de veces para repetir dichos modelos con la ecuacion\n",
        "\n",
        "\\begin{equation*}\n",
        "  N = \\left( \\frac{2 \\sigma z_{\\frac{\\alpha}{2} }}{\\epsilon} \\right)^2\n",
        "\\end{equation*}"
      ],
      "metadata": {
        "id": "sJTmf5nI-IWv"
      }
    },
    {
      "cell_type": "code",
      "source": [
        "N_1 = round(mt.pow((2*s_y1*1.96)/(0.01),2))\n",
        "print(N_1)"
      ],
      "metadata": {
        "colab": {
          "base_uri": "https://localhost:8080/"
        },
        "id": "Pe_AxG5t-RTE",
        "outputId": "5d47c84a-6566-4d69-a498-c16f431c354b"
      },
      "execution_count": null,
      "outputs": [
        {
          "output_type": "stream",
          "name": "stdout",
          "text": [
            "129\n"
          ]
        }
      ]
    },
    {
      "cell_type": "code",
      "source": [
        "N_2 = round(mt.pow((2*s_y2*1.96)/(0.01),2))\n",
        "print(N_2)"
      ],
      "metadata": {
        "colab": {
          "base_uri": "https://localhost:8080/"
        },
        "id": "ROecsxvt-oUl",
        "outputId": "8ed3d000-a928-47e7-8023-7552483b0e88"
      },
      "execution_count": null,
      "outputs": [
        {
          "output_type": "stream",
          "name": "stdout",
          "text": [
            "126\n"
          ]
        }
      ]
    },
    {
      "cell_type": "markdown",
      "source": [
        "entonces con 130 iteraciones para cada metodo obtenemos"
      ],
      "metadata": {
        "id": "nK_ysVJy-veN"
      }
    },
    {
      "cell_type": "code",
      "source": [
        "# Y_iN : Nuevo modelo con el numero de iteraciones optimas\n",
        "print('X_1 - X_2 >= 160')\n",
        "\n",
        "Y_1N = modelo (130,160)\n",
        "y1N_m = np.mean(Y_1N)\n",
        "s_y1N = np.std(Y_1N)\n",
        "print('media y desviacion estandar')\n",
        "print('y_m =',y1N_m)\n",
        "print('s_y =',s_y1N)"
      ],
      "metadata": {
        "colab": {
          "base_uri": "https://localhost:8080/"
        },
        "id": "ud4izQme-1Lt",
        "outputId": "d95c9e84-4133-4dac-f396-a49ddeeb1136"
      },
      "execution_count": null,
      "outputs": [
        {
          "output_type": "stream",
          "name": "stdout",
          "text": [
            "X_1 - X_2 >= 160\n",
            "media y desviacion estandar\n",
            "y_m = 0.567102990163717\n",
            "s_y = 0.028392511897711675\n"
          ]
        }
      ]
    },
    {
      "cell_type": "code",
      "source": [
        "print('X_1 - X_2 >= 250')\n",
        "\n",
        "Y_2N = modelo (130,250)\n",
        "y2N_m = np.mean(Y_2N)\n",
        "s_y2N = np.std(Y_2N)\n",
        "print('media y desviacion estandar')\n",
        "print('y_m =',y2N_m)\n",
        "print('s_y =',s_y2N)"
      ],
      "metadata": {
        "colab": {
          "base_uri": "https://localhost:8080/"
        },
        "id": "lTvp1194AAs9",
        "outputId": "6205ebb8-31df-4edd-ceb7-f11563526645"
      },
      "execution_count": null,
      "outputs": [
        {
          "output_type": "stream",
          "name": "stdout",
          "text": [
            "X_1 - X_2 >= 250\n",
            "media y desviacion estandar\n",
            "y_m = 0.4093952101197953\n",
            "s_y = 0.02675324294312652\n"
          ]
        }
      ]
    },
    {
      "cell_type": "markdown",
      "source": [
        "Los nuevos histogramas son"
      ],
      "metadata": {
        "id": "agqCQIguAVzA"
      }
    },
    {
      "cell_type": "code",
      "source": [
        "plt.hist(Y_1N)\n",
        "plt.show()"
      ],
      "metadata": {
        "colab": {
          "base_uri": "https://localhost:8080/",
          "height": 430
        },
        "id": "wh0yycOhAVXn",
        "outputId": "d9b517d9-ac5c-4e90-a7a5-870b92620d42"
      },
      "execution_count": null,
      "outputs": [
        {
          "output_type": "display_data",
          "data": {
            "text/plain": [
              "<Figure size 640x480 with 1 Axes>"
            ],
            "image/png": "[encoded data removed]"
          },
          "metadata": {}
        }
      ]
    },
    {
      "cell_type": "code",
      "source": [
        "plt.hist(Y_2N)\n",
        "plt.show()"
      ],
      "metadata": {
        "colab": {
          "base_uri": "https://localhost:8080/",
          "height": 430
        },
        "id": "C99bSF6IAdHV",
        "outputId": "5e259374-e164-47a6-9171-e544a3b4ef83"
      },
      "execution_count": null,
      "outputs": [
        {
          "output_type": "display_data",
          "data": {
            "text/plain": [
              "<Figure size 640x480 with 1 Axes>"
            ],
            "image/png": "[encoded data removed]"
          },
          "metadata": {}
        }
      ]
    },
    {
      "cell_type": "markdown",
      "source": [
        "**Paso 7**. Hallar el intervalo de confianza para la media\n",
        "\\begin{equation*}\n",
        "  \\bar{y_1} - Z_{\\frac{\\alpha}{2}} \\cdot \\frac{s_{y_1}}{\\sqrt{130}} < \\mu_{y_1} < \\bar{y_1} + Z_{\\frac{\\alpha}{2}} \\cdot \\frac{s_{y_1}}{\\sqrt{130}}\n",
        "\\end{equation*}"
      ],
      "metadata": {
        "id": "LUg8otAeAkqd"
      }
    },
    {
      "cell_type": "code",
      "source": [
        "print(y1N_m - 1.96*(s_y1N/np.sqrt(130)), y1N_m + 1.96*s_y1N/np.sqrt(130))"
      ],
      "metadata": {
        "colab": {
          "base_uri": "https://localhost:8080/"
        },
        "id": "bOWV7u9xAkNI",
        "outputId": "efa71d75-a2c7-4339-a4ac-b3ea9c8c62fe"
      },
      "execution_count": null,
      "outputs": [
        {
          "output_type": "stream",
          "name": "stdout",
          "text": [
            "0.562222221635078 0.5719837586923561\n"
          ]
        }
      ]
    },
    {
      "cell_type": "markdown",
      "source": [
        "Entonces, la media estimada esta dentro del intervalo de confianza con una confiabilidad del 95\\%"
      ],
      "metadata": {
        "id": "lTvaOvSxBUB6"
      }
    },
    {
      "cell_type": "markdown",
      "source": [
        "\\begin{equation*}\n",
        "  \\bar{y_2} - Z_{\\frac{\\alpha}{2}} \\cdot \\frac{s_{y_2}}{\\sqrt{130}} < \\mu_{y_2} < \\bar{y_2} + Z_{\\frac{\\alpha}{2}} \\cdot \\frac{s_{y_2}}{\\sqrt{130}}\n",
        "\\end{equation*}"
      ],
      "metadata": {
        "id": "qA1ptBvDBw-F"
      }
    },
    {
      "cell_type": "code",
      "source": [
        "print(y2N_m - 1.96*(s_y2N/np.sqrt(130)), y2N_m + 1.96*s_y2N/np.sqrt(130))"
      ],
      "metadata": {
        "colab": {
          "base_uri": "https://localhost:8080/"
        },
        "id": "I_mrN8YxB5Tt",
        "outputId": "6c0bce59-46b8-4dab-d9f4-15944a78227e"
      },
      "execution_count": null,
      "outputs": [
        {
          "output_type": "stream",
          "name": "stdout",
          "text": [
            "0.40479623745171056 0.41399418278788\n"
          ]
        }
      ]
    },
    {
      "cell_type": "markdown",
      "source": [
        "Entonces, la estimada estimada esta dentro del intervalo de confianza con una confiabilidad del 95\\%"
      ],
      "metadata": {
        "id": "l_r0sox3B9lj"
      }
    },
    {
      "cell_type": "markdown",
      "source": [
        "Por tanto, la probabilidad de que las bombillas del fabricante A tenga una duracion media de mas de 160 horas que las bombillas del fabricante B es"
      ],
      "metadata": {
        "id": "l0kooQfTCEF8"
      }
    },
    {
      "cell_type": "code",
      "source": [
        "print('p =',y1N_m )"
      ],
      "metadata": {
        "colab": {
          "base_uri": "https://localhost:8080/"
        },
        "id": "4ro2L11DCV1r",
        "outputId": "131d4b68-584d-4cfd-997b-001dffa3b74f"
      },
      "execution_count": null,
      "outputs": [
        {
          "output_type": "stream",
          "name": "stdout",
          "text": [
            "p = 0.567102990163717\n"
          ]
        }
      ]
    },
    {
      "cell_type": "markdown",
      "source": [
        "y\n",
        "\n",
        "Por tanto, la probabilidad de que las bombillas del fabricante A tenga una duracion media de mas de 250 horas que las bombillas del fabricante B es"
      ],
      "metadata": {
        "id": "yUy_nQSNCdba"
      }
    },
    {
      "cell_type": "code",
      "source": [
        "print('p =',y2N_m )"
      ],
      "metadata": {
        "colab": {
          "base_uri": "https://localhost:8080/"
        },
        "id": "xAe9kC0MCi8v",
        "outputId": "e8001519-32d9-4a35-f3e9-e1b531c3b51c"
      },
      "execution_count": null,
      "outputs": [
        {
          "output_type": "stream",
          "name": "stdout",
          "text": [
            "p = 0.4093952101197953\n"
          ]
        }
      ]
    },
    {
      "cell_type": "markdown",
      "source": [
        "### Solucion analitica"
      ],
      "metadata": {
        "id": "vQe2zZpHEFNS"
      }
    },
    {
      "cell_type": "markdown",
      "source": [
        "Sean $X_1$ y $X_2$ variables aletarias continuas con  distribucion normal\n",
        "\n",
        "\\begin{align*}\n",
        "  X_1 &\\sim N(1400,200)\\\\\n",
        "  X_2 &\\sim N(1200,100)\\\\\\\\\n",
        "\\end{align*}\n",
        "\n",
        "por el teorema fundamental de las distribuciones normales, tenemos que la diferencia de dos variables aleatorias normales, tiene una distribucion normal dada por\n",
        "\n",
        "\\begin{equation*}\n",
        "  X_1-X_2 \\sim N(\\mu_1 - \\mu_2, \\sqrt{\\sigma_1 +\\sigma_2} )\\\\\n",
        "\\end{equation*}\n",
        "\n",
        "entonces\n",
        "\n",
        "\\begin{align*}\n",
        "  X_1 - X_2 &\\sim N(1400 - 1200,\\sqrt{200^2 + 100^2})\\\\\n",
        "  X_1 - X_2 &\\sim N(200,223.6067)\n",
        "\\end{align*}\n",
        "\n",
        "a) ¿cual es la probabilidad de que las bombillas de A tengan una duración media que sea al menos 160 horas mas que las bombillas de B?\n",
        "\n",
        "\\begin{align*}\n",
        "  P(X_1 - X_2 \\geq 160) &= 1 - P(X_1 - X_2 < 160)\\\\\n",
        "                        &= 1 - P(\\frac{X_1 - X_2- 200}{223.6067}) < \\frac{160- 200}{223.6067})\\\\\n",
        "                        &= 1 - P(Z<-0.1788)\\\\\n",
        "                        &= 0.5709\n",
        "\\end{align*}\n",
        "\n",
        "por tanto, la probabilidad es del 57.09\\%\n",
        "\n",
        "b) ¿cual es la probabilidad de que las bombillas de A tengan una duración media que sea al menos 250 horas mas que las bombillas de B?\n",
        "\n",
        "\\begin{align*}\n",
        "  P(X_1 - X_2 \\geq 250) &= 1 - P(X_1 - X_2 < 250)\\\\\n",
        "                        &= 1 - P(\\frac{X_1 - X_2- 200}{223.6067}) < \\frac{250- 200}{223.6067})\\\\\n",
        "                        &= 1 - P(Z< 0.2236)\\\\\n",
        "                        &= 0.4115\n",
        "\\end{align*}\n",
        "\n",
        "por tanto, la probabilidad es del 41.15\\%"
      ],
      "metadata": {
        "id": "hdjUJwOzEHra"
      }
    },
    {
      "cell_type": "code",
      "source": [
        "p = sst.norm.cdf((160-200)/mt.sqrt(200**2 + 100**2))\n",
        "print(1-p)\n",
        "p = sst.norm.cdf((250-200)/mt.sqrt(200**2 + 100**2))\n",
        "print(1-p)"
      ],
      "metadata": {
        "colab": {
          "base_uri": "https://localhost:8080/"
        },
        "id": "3xYrU-PwT6da",
        "outputId": "164f304a-d19d-44ef-e1eb-cc432d8fdaf6"
      },
      "execution_count": null,
      "outputs": [
        {
          "output_type": "stream",
          "name": "stdout",
          "text": [
            "0.5709861715062394\n",
            "0.4115316368790607\n"
          ]
        }
      ]
    },
    {
      "cell_type": "markdown",
      "source": [],
      "metadata": {
        "id": "R6FHAfuDUjfV"
      }
    }
  ]
}