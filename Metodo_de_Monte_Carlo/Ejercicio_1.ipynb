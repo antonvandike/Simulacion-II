{
  "nbformat": 4,
  "nbformat_minor": 0,
  "metadata": {
    "colab": {
      "provenance": [],
      "authorship_tag": "ABX9TyO7Y8wTleHCt8HU8+1HOUFw",
      "include_colab_link": true
    },
    "kernelspec": {
      "name": "python3",
      "display_name": "Python 3"
    },
    "language_info": {
      "name": "python"
    }
  },
  "cells": [
    {
      "cell_type": "markdown",
      "metadata": {
        "id": "view-in-github",
        "colab_type": "text"
      },
      "source": [
        "<a href=\"https://colab.research.google.com/github/antonvandike/Simulacion-II/blob/main/Metodo_de_Monte_Carlo/Ejercicio_1.ipynb\" target=\"_parent\"><img src=\"https://colab.research.google.com/assets/colab-badge.svg\" alt=\"Open In Colab\"/></a>"
      ]
    },
    {
      "cell_type": "markdown",
      "source": [
        "# Ejercicio 1\n",
        "\n",
        " Dos personas han quedado citas en un determinado lugar. Ambas tienen la misma\n",
        "probabilidad de llegar al lugar de la cita en el intervalo de tiempo [0, 30].\\\\\n",
        "\n",
        " Determínese la probabilidad de que el tiempo que una persona espere a la otra sea\n",
        "como máximo 10.\n",
        "\n",
        "\n"
      ],
      "metadata": {
        "id": "QH1Q4GZzLzxL"
      }
    },
    {
      "cell_type": "markdown",
      "source": [
        "### Solucion por simulación\n",
        "\n",
        "**Paso 1.**\n",
        "\n",
        "Tenemos dos variables: $X_1$ y $X_2$\n",
        "\n",
        "Que representan el tiempo en el que llegan a la cita entre 0 y 30 min"
      ],
      "metadata": {
        "id": "79YjW7LVM9Pn"
      }
    },
    {
      "cell_type": "markdown",
      "source": [
        "**Paso 2 y 3.**\n",
        "\n",
        "Sean $X_1$ y $X_2$ variables aleatorias continuas con distribucion uniforme\n",
        "\\begin{align*}\n",
        "  X_1 &\\sim U(0,30)\\\\\n",
        "  X_2 &\\sim U(0,30)\n",
        "\\end{align*}"
      ],
      "metadata": {
        "id": "8LIOsjPJOLRy"
      }
    },
    {
      "cell_type": "markdown",
      "source": [
        "**Paso 4**\n",
        "\n",
        "Tenemos que la expresion para que cualquier persona espere a la otra como maximo 10 min es\n",
        "\n",
        "\\begin{equation*}\n",
        "  |X_1-X_2|\\leq10\n",
        "\\end{equation*}"
      ],
      "metadata": {
        "id": "L4Gm_aanO7EF"
      }
    },
    {
      "cell_type": "code",
      "source": [
        "# Librerias a usar\n",
        "\n",
        "import numpy as np\n",
        "import math as mt\n",
        "import random as rd\n",
        "import matplotlib.pyplot as plt\n",
        "import scipy.stats as sst\n"
      ],
      "metadata": {
        "id": "sKsRoqPUQXTy"
      },
      "execution_count": null,
      "outputs": []
    },
    {
      "cell_type": "markdown",
      "source": [
        "Implementando el codigo de la ecuacion objetivo"
      ],
      "metadata": {
        "id": "-eIe-5zSQrkF"
      }
    },
    {
      "cell_type": "code",
      "source": [
        "# espera: Funcion que devuelve el valor 1, si es que una de las dos personas espera 10 min o\n",
        "#         0 si no espero una persona\n",
        "def espera():\n",
        "  espera_10 = 0;\n",
        "  X_1 = rd.uniform(0,30) # La funcion uniform genera un valor aleatorio\n",
        "  X_2 = rd.uniform(0,30) #\n",
        "\n",
        "  if abs(X_1 - X_2)<= 10:\n",
        "    espera_10 = 1\n",
        "  return(espera_10)"
      ],
      "metadata": {
        "id": "fgb7I4nfRoGC"
      },
      "execution_count": null,
      "outputs": []
    },
    {
      "cell_type": "code",
      "source": [
        "espera()"
      ],
      "metadata": {
        "colab": {
          "base_uri": "https://localhost:8080/"
        },
        "id": "lwcCRraVTIcZ",
        "outputId": "c04cd94d-df49-431c-e56a-2056a26392d1"
      },
      "execution_count": null,
      "outputs": [
        {
          "output_type": "execute_result",
          "data": {
            "text/plain": [
              "0"
            ]
          },
          "metadata": {},
          "execution_count": 46
        }
      ]
    },
    {
      "cell_type": "markdown",
      "source": [
        "**Paso 5.** Diseño del experimento\n",
        "\n",
        "Para estimar la probabilidad del suceso, en N \"citas\", nesecitamos el numero n de las veces que uno espero al otro 10 min"
      ],
      "metadata": {
        "id": "6EPvDojcWBZI"
      }
    },
    {
      "cell_type": "code",
      "source": [
        "# prob_10: Funcion que estima la probablidad de que en N \"citas\"\n",
        "# una persona espere a la otra como maximo 10 min\n",
        "# Devuelve una lista con las probablidad del suceso en N \"citas\"\n",
        "def prob_10(N):\n",
        "  citas = []        #Lista que guarda si una persona espero o no a la otra\n",
        "  prob_espera = []  #Lista que guarda la probablidad del suceso en N citas\n",
        "\n",
        "  for x in range(N):\n",
        "    citas.append(espera())\n",
        "    prob_espera.append( np.mean(citas) )\n",
        "  return(prob_espera)"
      ],
      "metadata": {
        "id": "fV28j6YkV_0D"
      },
      "execution_count": null,
      "outputs": []
    },
    {
      "cell_type": "code",
      "source": [
        "p = prob_10(1000)\n",
        "plt.plot(p)\n",
        "plt.show()"
      ],
      "metadata": {
        "colab": {
          "base_uri": "https://localhost:8080/",
          "height": 430
        },
        "id": "FaFbYNMQbAgN",
        "outputId": "d28ef7cc-d060-4bfc-c957-1064ad1c2d1b"
      },
      "execution_count": null,
      "outputs": [
        {
          "output_type": "display_data",
          "data": {
            "text/plain": [
              "<Figure size 640x480 with 1 Axes>"
            ],
            "image/png": "[encoded data removed]"
          },
          "metadata": {}
        }
      ]
    },
    {
      "cell_type": "markdown",
      "source": [
        "Se puede observar, que con 500 iteraciones se se estabiliza la grafica de las probablidades"
      ],
      "metadata": {
        "id": "Y60TXxY4bm5J"
      }
    },
    {
      "cell_type": "markdown",
      "source": [
        "La probalidad tiene una media y una desviacion estadar de"
      ],
      "metadata": {
        "id": "AgjzSz1odKtt"
      }
    },
    {
      "cell_type": "code",
      "source": [
        "print('x_p =',np.mean(p))\n",
        "print('s_p =',np.std(p))"
      ],
      "metadata": {
        "colab": {
          "base_uri": "https://localhost:8080/"
        },
        "id": "gYNcMq2WdPek",
        "outputId": "a8e60312-719e-4ea7-dd44-71487bd502ee"
      },
      "execution_count": null,
      "outputs": [
        {
          "output_type": "stream",
          "name": "stdout",
          "text": [
            "x_p = 0.5583270857182258\n",
            "s_p = 0.03378456531258478\n"
          ]
        }
      ]
    },
    {
      "cell_type": "markdown",
      "source": [
        "**Paso 6.** Repita el experimento n veces\n",
        "\n"
      ],
      "metadata": {
        "id": "5WC9NV2nd8oV"
      }
    },
    {
      "cell_type": "code",
      "source": [
        "# modelo: funcion que repite el experimento n veces\n",
        "# Devuelve una lista con las probabilidades de cada experimento\n",
        "def modelo(n):\n",
        "  l1 = []\n",
        "\n",
        "  for x in range(n):\n",
        "    p = prob_10(500)\n",
        "    l1.append(np.mean(p))\n",
        "\n",
        "  return(l1)"
      ],
      "metadata": {
        "id": "PayYQDwIdJ8h"
      },
      "execution_count": null,
      "outputs": []
    },
    {
      "cell_type": "code",
      "source": [
        "Y_1 = modelo(200)"
      ],
      "metadata": {
        "id": "D9wr_afmggB1"
      },
      "execution_count": null,
      "outputs": []
    },
    {
      "cell_type": "code",
      "source": [
        "plt.hist(Y_1)\n",
        "plt.show()"
      ],
      "metadata": {
        "colab": {
          "base_uri": "https://localhost:8080/",
          "height": 430
        },
        "id": "1fxai71Egthh",
        "outputId": "bd1fc1fe-beb4-48f2-9127-1be506fb4fe9"
      },
      "execution_count": null,
      "outputs": [
        {
          "output_type": "display_data",
          "data": {
            "text/plain": [
              "<Figure size 640x480 with 1 Axes>"
            ],
            "image/png": "[encoded data removed]"
          },
          "metadata": {}
        }
      ]
    },
    {
      "cell_type": "markdown",
      "source": [
        "La probabilidad estimada de que una persona espera a la otra como maximo 10 min es"
      ],
      "metadata": {
        "id": "VS8h6kIOg9AR"
      }
    },
    {
      "cell_type": "code",
      "source": [
        "y_m = np.mean(Y_1)\n",
        "print(y_m)"
      ],
      "metadata": {
        "colab": {
          "base_uri": "https://localhost:8080/"
        },
        "id": "KuTtu5o3hWTD",
        "outputId": "bf1cdfa2-3dde-43cd-c379-20ec0de2f466"
      },
      "execution_count": null,
      "outputs": [
        {
          "output_type": "stream",
          "name": "stdout",
          "text": [
            "0.5554595854887467\n"
          ]
        }
      ]
    },
    {
      "cell_type": "markdown",
      "source": [
        "con una desviacion estandar de"
      ],
      "metadata": {
        "id": "ZSAG2GQchdB-"
      }
    },
    {
      "cell_type": "code",
      "source": [
        "s_m = np.std(Y_1)\n",
        "print(s_m)"
      ],
      "metadata": {
        "colab": {
          "base_uri": "https://localhost:8080/"
        },
        "id": "0oZwU5NvhevB",
        "outputId": "50f08fc3-f5eb-4804-9114-4c0f0c658619"
      },
      "execution_count": null,
      "outputs": [
        {
          "output_type": "stream",
          "name": "stdout",
          "text": [
            "0.030370713210337612\n"
          ]
        }
      ]
    },
    {
      "cell_type": "markdown",
      "source": [
        "con ese modelo, podemos estimar el numero de veces para repetir dicho modelo con la ecuacion\n",
        "\n",
        "\\begin{equation*}\n",
        "  N = \\left( \\frac{2 \\sigma z_{\\frac{\\alpha}{2} }}{\\epsilon} \\right)^2\n",
        "\\end{equation*}"
      ],
      "metadata": {
        "id": "ISS5Yb4cpc3F"
      }
    },
    {
      "cell_type": "code",
      "source": [
        "N = round(mt.pow((2*s_m*1.96)/(0.01),2))\n",
        "print(N)"
      ],
      "metadata": {
        "colab": {
          "base_uri": "https://localhost:8080/"
        },
        "id": "dn49Kz8Jpcdm",
        "outputId": "7f1c1301-5155-4fad-e83e-f33b39efa718"
      },
      "execution_count": null,
      "outputs": [
        {
          "output_type": "stream",
          "name": "stdout",
          "text": [
            "142\n"
          ]
        }
      ]
    },
    {
      "cell_type": "markdown",
      "source": [
        "entonces con 142 iteraciones obtenemos"
      ],
      "metadata": {
        "id": "2l4U7E4jsdgE"
      }
    },
    {
      "cell_type": "code",
      "source": [
        "Y_2 = modelo (N)\n",
        "y2_m = np.mean(Y_2)\n",
        "s_y2 = np.std(Y_2)\n",
        "print('y_m2 =',y2_m)\n",
        "print('s_y2 =',s_y2)"
      ],
      "metadata": {
        "colab": {
          "base_uri": "https://localhost:8080/"
        },
        "id": "q3vz02pRsiaG",
        "outputId": "d9195043-686f-4f46-dc35-b1494e1105c0"
      },
      "execution_count": null,
      "outputs": [
        {
          "output_type": "stream",
          "name": "stdout",
          "text": [
            "y_m2 = 0.5572435924402199\n",
            "s_y2 = 0.032287803935003\n"
          ]
        }
      ]
    },
    {
      "cell_type": "code",
      "source": [
        "plt.hist(Y_2)\n",
        "plt.show()\n",
        "\n"
      ],
      "metadata": {
        "colab": {
          "base_uri": "https://localhost:8080/",
          "height": 430
        },
        "id": "lMAV7e9ws7AS",
        "outputId": "836ccf4e-fece-47d9-ee4c-cd5bdd9d92cf"
      },
      "execution_count": null,
      "outputs": [
        {
          "output_type": "display_data",
          "data": {
            "text/plain": [
              "<Figure size 640x480 with 1 Axes>"
            ],
            "image/png": "[encoded data removed]"
          },
          "metadata": {}
        }
      ]
    },
    {
      "cell_type": "markdown",
      "source": [
        "**Paso 7**. Hallar el intervalo de confianza para la media\n",
        "\\begin{equation*}\n",
        "  \\bar{x} - Z_{\\frac{\\alpha}{2}} \\cdot \\frac{s}{\\sqrt{n}} < \\mu < \\bar{x} + Z_{\\frac{\\alpha}{2}} \\cdot \\frac{s}{\\sqrt{n}}\n",
        "\\end{equation*}"
      ],
      "metadata": {
        "id": "aaV7j3AUhqvr"
      }
    },
    {
      "cell_type": "markdown",
      "source": [
        "El intervalo de confianza para la media de que una persona espera a la otra como maximo 10 min es"
      ],
      "metadata": {
        "id": "GnemWjlTi5XN"
      }
    },
    {
      "cell_type": "code",
      "source": [
        "print(y2_m - 1.96*(s_y2/np.sqrt(N)), y2_m + 1.96*s_y2/np.sqrt(N))"
      ],
      "metadata": {
        "colab": {
          "base_uri": "https://localhost:8080/"
        },
        "id": "CCTX79jpiaV9",
        "outputId": "1a5075e2-a8cd-486b-c8bc-6e6535f3a7b4"
      },
      "execution_count": null,
      "outputs": [
        {
          "output_type": "stream",
          "name": "stdout",
          "text": [
            "0.5519329091003516 0.5625542757800882\n"
          ]
        }
      ]
    },
    {
      "cell_type": "markdown",
      "source": [
        "entonces, la probabilidad estimada esta dentro del intervalo con una confiabilidad del 95\\%"
      ],
      "metadata": {
        "id": "0e5V42cuuwPp"
      }
    },
    {
      "cell_type": "markdown",
      "source": [
        "Por tanto, si dos personas quedan citas, la probabilidad de que una persona espera 10 min a la otra, es de"
      ],
      "metadata": {
        "id": "G0aGCueJuTwQ"
      }
    },
    {
      "cell_type": "code",
      "source": [
        "print('p =',y2_m)"
      ],
      "metadata": {
        "colab": {
          "base_uri": "https://localhost:8080/"
        },
        "id": "iw2tU591um7x",
        "outputId": "1a4432e2-28e5-42b1-d295-61e022081d9e"
      },
      "execution_count": null,
      "outputs": [
        {
          "output_type": "stream",
          "name": "stdout",
          "text": [
            "p = 0.5572435924402199\n"
          ]
        }
      ]
    },
    {
      "cell_type": "markdown",
      "source": [
        "### Solucion analitica\n"
      ],
      "metadata": {
        "id": "voUcNDoeuIVb"
      }
    },
    {
      "cell_type": "markdown",
      "source": [
        "Sean $X_1$ y $X_2$ variables aletarias continuas con  distribucion uniforme \\begin{align*}\n",
        "  X_1 &\\sim U(0,30)\\\\\n",
        "  X_2 &\\sim U(0,30)\\\\\\\\\n",
        "\\end{align*}\n",
        "\n",
        "entonces, sus funciones de densidad son\n",
        "\n",
        "\\begin{align*}\n",
        "        X_1 = \\left\\{\n",
        "        \\begin{array}{cl}\n",
        "        \\frac{1}{30} & 0 \\leq x \\leq 30 \\\\\n",
        "        0 & \\text{en  otro  caso}\n",
        "        \\end{array}\n",
        "        \\right.\\\\\\\\\n",
        "\\end{align*}\n",
        "\n",
        "\\begin{align*}\n",
        "        X_2 = \\left\\{\n",
        "        \\begin{array}{cl}\n",
        "        \\frac{1}{30} & 0 \\leq x \\leq 30 \\\\\n",
        "        0 & \\text{en  otro  caso}\n",
        "        \\end{array}\n",
        "        \\right.\\\\\\\\\n",
        "\\end{align*}\n",
        "\n",
        "Dado que son variables independientes, su función de densidad conjunta es\n",
        "\n",
        "\\begin{align*}\n",
        "        f(x_1,x_2) = f(x_1)f(x_2) = \\left\\{\n",
        "        \\begin{array}{cl}\n",
        "        \\frac{1}{30^2} & 0 \\leq x_1 \\leq 30 \\text{ , } 0\\leq x_2 \\leq 30 \\\\\n",
        "        0 & \\text{en  otro  caso}\n",
        "        \\end{array}\n",
        "        \\right.\\\\\\\\\n",
        "\\end{align*}\n",
        "\n",
        "Tenemos que la expresion para que cualquier persona espere a la otra como maximo 10 min es\n",
        "\n",
        "\\begin{equation*}\n",
        "  |X_1-X_2|\\leq10\n",
        "\\end{equation*}\n"
      ],
      "metadata": {
        "id": "h9aQUAGdu56l"
      }
    },
    {
      "cell_type": "markdown",
      "source": [
        "La region comprendida por la ecuacion es"
      ],
      "metadata": {
        "id": "Cs5LTC0ITAAj"
      }
    },
    {
      "cell_type": "markdown",
      "source": [
        "<img src=\"region_1.png\">"
      ],
      "metadata": {
        "id": "edmkqgLdS-A3"
      }
    },
    {
      "cell_type": "markdown",
      "source": [
        "Encontrar la funcion de distribucion de $U = |X_1 - X_2|$\n",
        "\n",
        "Tenemos que la funcion de distribucion de U es\n",
        "\n",
        "\\begin{align*}\n",
        "  F_{U}(u) &= P(U \\leq u)\\\\\n",
        "           &= P(|X_1 - X_2|\\leq u)\n",
        "\\end{align*}"
      ],
      "metadata": {
        "id": "_nJGx49QTmW6"
      }
    },
    {
      "cell_type": "markdown",
      "source": [
        "Tenemos que la region de integracion, es complicada, pero su complemento es mas facil como se muestra en la siguiente figura"
      ],
      "metadata": {
        "id": "8z5HciKBU_vr"
      }
    },
    {
      "cell_type": "markdown",
      "source": [
        "<img src=\"region_2.png\">"
      ],
      "metadata": {
        "id": "6H13xH7PVH4f"
      }
    },
    {
      "cell_type": "markdown",
      "source": [
        "Entonces, obtenemos\n",
        "\n",
        "\\begin{equation*}\n",
        "  P(|X_1 - X_2|\\leq u) = 1 -P(|X_1 - X_2|> u)\n",
        "\\end{equation*}\n",
        "\n",
        "dado que se trata de funciones continuas\n",
        "\n",
        "\\begin{equation*}\n",
        "  P(|X_1 - X_2|\\leq u) = 1 -P(|X_1 - X_2|\\geq u)\n",
        "\\end{equation*}\n",
        "\n",
        "como se aprecia en la figura, la zona de integracion es simetrica, entonces podemos integrar cualquier triangulo, y escogemos el superior\n",
        "\n",
        "\\begin{align*}\n",
        "  P(|X_1 - X_2|\\leq u) &= 1 - 2P(X_1 - X_2\\leq -u)\\\\\n",
        "                       &= 1 - 2\\int _{u}^{30} \\int _{0}^{x_2 - u} (\\frac{1}{30^2}) dx_1dx_2\\\\\n",
        "                       &= 1 - \\frac{2}{30^2}\\int _{u}^{30} (x_2 - u) dx_2\\\\\n",
        "                       &= 1 - \\frac{2}{30^2}\\left.\\left( \\frac{x_2^2}{2}-ux_2 \\right)\\right|_{u}^{30}\\\\\n",
        "                       &= 1 - \\frac{2}{30^2}\\left( \\frac{30^2}{2}-30u -\\frac{u^2}{2}+u^2 \\right)\\\\\n",
        "                       &= 1 - \\frac{2}{30^2}\\left( \\frac{30^2}{2}-30u + \\frac{u^2}{2} \\right)\\\\\n",
        "                       &= 1 - 1 + \\frac{2}{30}u - \\frac{u^2}{30^2}\\\\\n",
        "                       &= \\frac{2}{30}u - \\frac{u^2}{30^2}\n",
        "\\end{align*}\n",
        "\n",
        "entonces\n",
        "\n",
        "Como para $u<0$, $F_U(u)=0$\n",
        "\n",
        "y para $u>0$, $F_U(u)=0$\n",
        "\n",
        "tenemos que la funcion de distribucion de u es\n",
        "\n",
        "\\begin{align*}\n",
        "        F_U(u) = \\left\\{\n",
        "        \\begin{array}{cl}\n",
        "        0 & x < 0 \\\\\n",
        "        \\frac{2}{30}u - \\frac{u^2}{30^2} & 0 \\leq u \\leq 30\\\\\n",
        "        1 & x>30\n",
        "        \\end{array}\n",
        "        \\right.\\\\\\\\\n",
        "\\end{align*}\n",
        "\n",
        "entonces, su al funcion de densidad de u es\n",
        "\n",
        "\\begin{align*}\n",
        "        f(u) = \\frac{d(F_U(u))}{du} = \\left\\{\n",
        "        \\begin{array}{cl}\n",
        "        \\frac{2}{30} - \\frac{2}{30^2}u & 0 \\leq u \\leq 30 \\\\\n",
        "        0 & \\text{en otro caso}\n",
        "        \\end{array}\n",
        "        \\right.\\\\\\\\\n",
        "\\end{align*}\n",
        "\n",
        "entonces, la probabilidad de que $U\\leq10$ es\n",
        "\n",
        "\\begin{align*}\n",
        "  P(|X_1 - X_2|\\leq10) &= P(U\\leq10)\\\\\n",
        "                       &= F_U(10)\\\\\n",
        "                       &= \\frac{5}{9}\\\\\n",
        "                       &\\approx 0.55555\n",
        "\\end{align*}\n"
      ],
      "metadata": {
        "id": "wUgf_myFVMXD"
      }
    },
    {
      "cell_type": "markdown",
      "source": [
        "### Tecnica de reduccion de varianza"
      ],
      "metadata": {
        "id": "vpRKpD13MJC3"
      }
    },
    {
      "cell_type": "code",
      "source": [
        "#Definimos la función de prueba.\n",
        "def funcion(x):\n",
        "    return (2/30) - (2/mt.pow(30,2))*x"
      ],
      "metadata": {
        "id": "CCHqaLIjMIiw"
      },
      "execution_count": null,
      "outputs": []
    },
    {
      "cell_type": "code",
      "source": [],
      "metadata": {
        "id": "90xZVFskwDnU"
      },
      "execution_count": null,
      "outputs": []
    },
    {
      "cell_type": "code",
      "source": [
        "#Graficamos la función de prueba.\n",
        "X=np.linspace(0,10,100)\n",
        "plt.plot(X,funcion(X), color='red', label=\"$y=1/(1+x)$\")\n",
        "plt.fill_between(X,funcion(X))\n",
        "plt.legend()\n",
        "plt.xlim(0.0, 12)\n",
        "plt.ylim(0.0, 12)\n",
        "plt.grid(True)\n",
        "plt.title('Función de prueba', color='b')\n",
        "plt.xlabel('X')\n",
        "plt.ylabel('Y')\n",
        "plt.show()"
      ],
      "metadata": {
        "colab": {
          "base_uri": "https://localhost:8080/",
          "height": 472
        },
        "id": "atwiMc_nSyzc",
        "outputId": "734de2e9-6eb5-49cd-a2c2-d8b9d286be3b"
      },
      "execution_count": null,
      "outputs": [
        {
          "output_type": "display_data",
          "data": {
            "text/plain": [
              "<Figure size 640x480 with 1 Axes>"
            ],
            "image/png": "[encoded data removed]"
          },
          "metadata": {}
        }
      ]
    },
    {
      "cell_type": "code",
      "source": [
        "def integ(func=funcion, n=10000):\n",
        "  muestreo=[]\n",
        "  suma=[]\n",
        "  for i in range(n):\n",
        "    u = np.random.uniform(0,10)\n",
        "    muestreo.append(u)\n",
        "    y=funcion(u)\n",
        "    suma.append(y)\n",
        "\n",
        "\n",
        "\n",
        "  return (np.mean(suma), np.std(suma)/np.sqrt(n))\n",
        "\n",
        "print(\"El valor de la integral es:\", 10*round(integ()[0],5))\n",
        "print(\"El error estándar es:\", round(integ()[1],5))"
      ],
      "metadata": {
        "colab": {
          "base_uri": "https://localhost:8080/"
        },
        "id": "cjvMJMcbNewT",
        "outputId": "e400686f-a0d7-4d56-c80b-7bb0e36d4f4e"
      },
      "execution_count": null,
      "outputs": [
        {
          "output_type": "stream",
          "name": "stdout",
          "text": [
            "El valor de la integral es: 0.5559999999999999\n",
            "El error estándar es: 6e-05\n"
          ]
        }
      ]
    },
    {
      "cell_type": "code",
      "source": [
        "def integ(func=funcion, n=10):\n",
        "    muestreo=[]\n",
        "    suma=[]\n",
        "    for i in range(n):\n",
        "        u = np.random.uniform(0,10)\n",
        "        muestreo.append(1-u)\n",
        "        y=-funcion(1-u)\n",
        "        suma.append(y)\n",
        "\n",
        "    return np.mean(suma), np.std(suma)/np.sqrt(n)\n",
        "\n",
        "print(\"El valor de la integral es:\", 10*round(integ()[0],5))\n",
        "print(\"El error estándar es:\", round(integ()[1],5))"
      ],
      "metadata": {
        "colab": {
          "base_uri": "https://localhost:8080/"
        },
        "id": "6TSTHiKZZJtn",
        "outputId": "d19b26f1-8693-4325-99bf-151dd52f5776"
      },
      "execution_count": null,
      "outputs": [
        {
          "output_type": "stream",
          "name": "stdout",
          "text": [
            "El valor de la integral es: -0.7481\n",
            "El error estándar es: 0.0021\n"
          ]
        }
      ]
    },
    {
      "cell_type": "code",
      "source": [
        "def integ(func=funcion, n=3000):\n",
        "    muestreo=[]\n",
        "    suma=[]\n",
        "    for i in range(n):\n",
        "        u = np.random.uniform(0,10,1)\n",
        "        muestreo.append(u)\n",
        "        y=(funcion(u) + funcion(1-u))/2.0\n",
        "        suma.append(y)\n",
        "\n",
        "    return np.mean(suma), np.std(suma)/np.sqrt(n)\n",
        "\n",
        "print(\"El valor de la integral es:\", 10*integ()[0])\n",
        "print(\"El error estándar es:\", round(integ()[1],5))"
      ],
      "metadata": {
        "colab": {
          "base_uri": "https://localhost:8080/"
        },
        "id": "d8cdmeZNZYMo",
        "outputId": "b7b36e86-a6b3-482d-8e4e-9269c8ab2f2d"
      },
      "execution_count": null,
      "outputs": [
        {
          "output_type": "stream",
          "name": "stdout",
          "text": [
            "El valor de la integral es: 0.6555555555555557\n",
            "El error estándar es: 0.0\n"
          ]
        }
      ]
    },
    {
      "cell_type": "code",
      "source": [
        "def mc_crudo(funcion, n):\n",
        "    integral=[]\n",
        "    suma=[]\n",
        "    for i in range(n):\n",
        "        u= np.random.random_sample()\n",
        "        y=(funcion(u) + funcion(1-u))/2.0\n",
        "        suma.append(y)\n",
        "        integral.append(np.mean(suma))\n",
        "\n",
        "    print(\"El valor de la integral con v antiteticas es:\", round(np.mean(suma),5))\n",
        "    print(\"El error estándar es:\", round(np.std(suma)/np.sqrt(n),5))\n",
        "\n",
        "    return np.mean(suma), np.std(suma)/np.sqrt(n), integral"
      ],
      "metadata": {
        "id": "TtngkGfEZm6r"
      },
      "execution_count": null,
      "outputs": []
    },
    {
      "cell_type": "code",
      "source": [
        "def mc_crudo1(funcion, n):\n",
        "    integral=[]\n",
        "    suma=[]\n",
        "    for i in range(n):\n",
        "        u= np.random.random_sample()\n",
        "        y=funcion(u)\n",
        "        suma.append(y)\n",
        "        integral.append(np.mean(suma))\n",
        "\n",
        "    print(\"El valor de la integral es:\", round(np.mean(suma),5))\n",
        "    print(\"El error estándar es:\", round(np.std(suma)/np.sqrt(n),5))\n",
        "\n",
        "    return np.mean(suma), np.std(suma)/np.sqrt(n), integral"
      ],
      "metadata": {
        "id": "Cnjm9TqbZo1f"
      },
      "execution_count": null,
      "outputs": []
    },
    {
      "cell_type": "code",
      "source": [
        "X1=mc_crudo1(funcion, n=1000)[2]\n",
        "X=mc_crudo(funcion, n=1000)[2]\n",
        "\n",
        "plt.plot(X, color='red', label='antiteticas')\n",
        "plt.plot(X1, color='green', label='u')\n",
        "plt.legend()"
      ],
      "metadata": {
        "colab": {
          "base_uri": "https://localhost:8080/",
          "height": 517
        },
        "id": "1LYRoWL5Zqx-",
        "outputId": "afc09c0d-146f-4376-d84f-65907d612a7c"
      },
      "execution_count": null,
      "outputs": [
        {
          "output_type": "stream",
          "name": "stdout",
          "text": [
            "El valor de la integral es: 0.06557\n",
            "El error estándar es: 2e-05\n",
            "El valor de la integral con v antiteticas es: 0.06556\n",
            "El error estándar es: 0.0\n"
          ]
        },
        {
          "output_type": "execute_result",
          "data": {
            "text/plain": [
              "<matplotlib.legend.Legend at 0x7f0885ba9c90>"
            ]
          },
          "metadata": {},
          "execution_count": 152
        },
        {
          "output_type": "display_data",
          "data": {
            "text/plain": [
              "<Figure size 640x480 with 1 Axes>"
            ],
            "image/png": "[encoded data removed]"
          },
          "metadata": {}
        }
      ]
    }
  ]
}