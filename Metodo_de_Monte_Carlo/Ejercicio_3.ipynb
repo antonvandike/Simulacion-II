{
  "nbformat": 4,
  "nbformat_minor": 0,
  "metadata": {
    "colab": {
      "provenance": [],
      "authorship_tag": "ABX9TyMhHFXMRJrC2MI77whinyJx",
      "include_colab_link": true
    },
    "kernelspec": {
      "name": "python3",
      "display_name": "Python 3"
    },
    "language_info": {
      "name": "python"
    }
  },
  "cells": [
    {
      "cell_type": "markdown",
      "metadata": {
        "id": "view-in-github",
        "colab_type": "text"
      },
      "source": [
        "<a href=\"https://colab.research.google.com/github/antonvandike/Simulacion-II/blob/main/Metodo_de_Monte_Carlo/Ejercicio_3.ipynb\" target=\"_parent\"><img src=\"https://colab.research.google.com/assets/colab-badge.svg\" alt=\"Open In Colab\"/></a>"
      ]
    },
    {
      "cell_type": "markdown",
      "source": [
        "# Ejercicio 3.\n",
        "\n",
        "Una empresa dispone de varias máquinas herramienta cuyas herramientas de corte\n",
        "se desgastan constantemente. Cuando esto ocurre, la máquina es inservible. En la actualidad el mantenimiento es correctivo reemplazándose una herramienta cuando falla.\n",
        "\n",
        "Dado que cada máquina dispone de una torre con cinco herramientas, se propo-\n",
        "ne reemplazar toda la torre de herramientas (las cinco herramientas de golpe) cadavez que falle una, lo que debería reducir la frecuencia de desgaste de las herramientas.\n",
        "\n",
        "El tiempo necesario para el reemplazo de una herramienta es de una hora. Las cinco pueden reemplazarse en dos horas. El coste de una hora de máquina parada\n",
        "es de cien euros. Cada herramienta cuesta diez euros. La tabla siguiente recoge los datos de averías en el caso de sustituir una sola herramienta cada vez."
      ],
      "metadata": {
        "id": "W0tW_vJYBjJa"
      }
    },
    {
      "cell_type": "code",
      "execution_count": null,
      "metadata": {
        "colab": {
          "base_uri": "https://localhost:8080/"
        },
        "id": "VsJRmjbJ4qjL",
        "outputId": "1d33c24b-cc1e-4e56-e703-8922f8b44b77"
      },
      "outputs": [
        {
          "output_type": "execute_result",
          "data": {
            "text/plain": [
              "223.60679774997897"
            ]
          },
          "metadata": {},
          "execution_count": 3
        }
      ],
      "source": [
        "import math as mt\n",
        "\n",
        "mt.sqrt(200**2 + 100**2)"
      ]
    }
  ]
}