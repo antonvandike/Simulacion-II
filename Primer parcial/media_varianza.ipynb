{
  "nbformat": 4,
  "nbformat_minor": 0,
  "metadata": {
    "colab": {
      "provenance": [],
      "authorship_tag": "ABX9TyO970cos+s5XFZ1kmp7GkXK",
      "include_colab_link": true
    },
    "kernelspec": {
      "name": "python3",
      "display_name": "Python 3"
    },
    "language_info": {
      "name": "python"
    }
  },
  "cells": [
    {
      "cell_type": "markdown",
      "metadata": {
        "id": "view-in-github",
        "colab_type": "text"
      },
      "source": [
        "<a href=\"https://colab.research.google.com/github/luisantoniourbanaviles/Simulacion-II/blob/main/Primer%20parcial/media_varianza.ipynb\" target=\"_parent\"><img src=\"https://colab.research.google.com/assets/colab-badge.svg\" alt=\"Open In Colab\"/></a>"
      ]
    },
    {
      "cell_type": "markdown",
      "source": [
        "Funcion para determinar la prueba de medias "
      ],
      "metadata": {
        "id": "LpFgock122Ev"
      }
    },
    {
      "cell_type": "code",
      "execution_count": null,
      "metadata": {
        "id": "5ywJXKSz_atB"
      },
      "outputs": [],
      "source": [
        "def medias(d,a):\n",
        "  n = len(d)\n",
        "  \n",
        "  x_m = sum(d)/n\n",
        "  print('La media de los numero es')\n",
        "  print(round(x_m,4),'\\n')\n",
        "\n",
        "\n",
        "  Z = sst.norm.ppf(a)\n",
        "  print('El valor del punto critico es')\n",
        "  print('Z(',round((1-a)/2,3),') = ',round(Z,3),'\\n')\n",
        "\n",
        "  lsm = 0.5 + Z*(1/(mt.sqrt(12*n)))\n",
        "  \n",
        "  lim = 0.5 - Z*(1/(mt.sqrt(12*n)))\n",
        "  \n",
        "\n",
        "  print('Si',round(lim,5),'<=',0.5,'<=',round(lsm,5))\n",
        "  print('Entonces la prueba es',lim<=0.5<=lsm,'\\n')\n",
        "  return(x_m)"
      ]
    },
    {
      "cell_type": "markdown",
      "source": [
        "Funcion para determinar la prueba de varianza"
      ],
      "metadata": {
        "id": "U9s_6EM43Dwl"
      }
    },
    {
      "cell_type": "code",
      "source": [
        "def varianza(d,c,x_m):\n",
        "\n",
        "  n = len(d)\n",
        "\n",
        "  s=0\n",
        "  for x in range(n):\n",
        "    s = s + mt.pow(d[x]-x_m,2)/(n-1)\n",
        "  print('La varianza de los numeros es')\n",
        "  print(round(s,4),'\\n')\n",
        "\n",
        "  X_21 = sst.chi2.ppf(1-(1-c)/2,n-1)\n",
        "  X_22 = sst.chi2.ppf((1-c)/2,n-1)\n",
        "\n",
        "  print('Los puntos criticos son ')\n",
        "  \n",
        "  print('X_2(',round((1-c)/2,3),',',n-1,') =',round(X_21,3))\n",
        "  print('X_2(',round(1-(1-c)/2,3),',',n-1,') =',round(X_22,3),'\\n')\n",
        "  \n",
        "\n",
        "\n",
        "  lis = (n-1)/(X_21*12)\n",
        "  \n",
        "  lss = (n-1)/(X_22*12)\n",
        "\n",
        "  print('Si',round(lis,5),'<=',round(s,5),'<=',round(lss,5))\n",
        "  print('Entonces la prueba es',lis<=s<=lss,'\\n')\n",
        "  return"
      ],
      "metadata": {
        "id": "LOPESAvN3rtv"
      },
      "execution_count": null,
      "outputs": []
    },
    {
      "cell_type": "code",
      "source": [
        "import scipy.stats as sst\n",
        "import math as mt\n",
        "\n",
        "# Practica 1\n",
        "# 2.\n",
        "\n",
        "d =     [0.8797,0.3884,0.6289,0.8750,0.5999,0.8589,0.9996,0.2415,0.3808,0.9606]\n",
        "d = d + [0.9848,0.3469,0.7977,0.5844,0.8147,0.6431,0.7387,0.5613,0.0318,0.7401]\n",
        "d = d + [0.4557,0.1592,0.8536,0.8846,0.3410,0.1492,0.8681,0.5291,0.3188,0.5992]\n",
        "d = d + [0.9170,0.2204,0.5991,0.5461,0.5739,0.3254,0.0856,0.2258,0.4603,0.5027]\n",
        "d = d + [0.8376,0.6235,0.3681,0.2088,0.1525,0.2006,0.4720,0.4272,0.6360,0.0954]\n",
        "\n",
        "x_m = medias(d,0.95)\n",
        "varianza(d,0.95,x_m)"
      ],
      "metadata": {
        "colab": {
          "base_uri": "https://localhost:8080/"
        },
        "id": "6mo8l_XQ3IzD",
        "outputId": "2ab680fe-437a-4a7e-d774-59cab0babe07"
      },
      "execution_count": null,
      "outputs": [
        {
          "output_type": "stream",
          "name": "stdout",
          "text": [
            "La media de los numero es\n",
            "0.5339 \n",
            "\n",
            "El valor del punto critico es\n",
            "Z( 0.025 ) =  1.645 \n",
            "\n",
            "Si 0.43285 <= 0.5 <= 0.56715\n",
            "Entonces la prueba es True \n",
            "\n",
            "La varianza de los numeros es\n",
            "0.0744 \n",
            "\n",
            "Los puntos criticos son \n",
            "X_2( 0.025 , 49 ) = 70.222\n",
            "X_2( 0.975 , 49 ) = 31.555 \n",
            "\n",
            "Si 0.05815 <= 0.07442 <= 0.1294\n",
            "Entonces la prueba es True \n",
            "\n"
          ]
        }
      ]
    }
  ]
}