{
  "nbformat": 4,
  "nbformat_minor": 0,
  "metadata": {
    "colab": {
      "provenance": [],
      "authorship_tag": "ABX9TyMNXqi9d7kHVRqa1GxzhHFW",
      "include_colab_link": true
    },
    "kernelspec": {
      "name": "python3",
      "display_name": "Python 3"
    },
    "language_info": {
      "name": "python"
    }
  },
  "cells": [
    {
      "cell_type": "markdown",
      "metadata": {
        "id": "view-in-github",
        "colab_type": "text"
      },
      "source": [
        "<a href=\"https://colab.research.google.com/github/luisantoniourbanaviles/Simulacion-II/blob/main/Primer%20parcial/prueba_uniformidad.ipynb\" target=\"_parent\"><img src=\"https://colab.research.google.com/assets/colab-badge.svg\" alt=\"Open In Colab\"/></a>"
      ]
    },
    {
      "cell_type": "markdown",
      "source": [
        "Funcion para determinar prueba de uniformidad de una lista de numeros (n>=30)"
      ],
      "metadata": {
        "id": "7jdhKp3czO_8"
      }
    },
    {
      "cell_type": "code",
      "source": [
        "def FO_n(D,li,ls,n):\n",
        "  Fo=[]    \n",
        "  for x in range(n):    \n",
        "    if D[x] >= li:    \n",
        "      if D[x] <= ls:\n",
        "        Fo.append(D[x])\n",
        "  d=len(Fo)\n",
        "  return(d) "
      ],
      "metadata": {
        "id": "I76uRuw2S3Lk"
      },
      "execution_count": null,
      "outputs": []
    },
    {
      "cell_type": "code",
      "source": [
        "import numpy as np\n",
        "import math as mt\n",
        "import scipy.stats as sst\n",
        "\n",
        "D =     [0.78,0.98,0.24,0.73,0.43,0.16,0.78,0.47,0.18,0.55]\n",
        "D = D + [0.04,0.29,0.68,0.77,0.16,0.03,0.79,0.22,0.37,0.80]\n",
        "D = D + [0.96,0.26,0.91,0.55,0.75,0.55,0.64,0.39,0.53,0.45]\n",
        "D = D + [0.61,0.14,0.38,0.12,0.40,0.74,0.78,0.98,0.27,0.60]\n",
        "D = D + [0.43,0.67,0.62,0.32,0.53,0.54,0.24,0.29,0.18,0.08]\n",
        "D = D + [0.82,0.94,0.19,0.98,0.41,1.00,0.74,0.92,0.14,0.43]\n",
        "D = D + [0.83,0.88,0.18,0.21,0.50,0.13,0.43,0.69,0.08,0.12]\n",
        "D = D + [0.22,0.50,0.16,0.11,0.18,0.89,0.80,0.42,0.29,0.87]\n",
        "D = D + [0.83,0.79,0.65,0.28,0.78,0.49,0.36,0.86,0.87,0.64]\n",
        "D = D + [0.51,0.07,0.18,0.94,0.50,0.22,0.66,0.91,0.48,0.24]\n",
        "n=len(D)\n",
        "\n",
        "'''d =     [0.8797,0.3884,0.6289,0.8750,0.5999,0.8589,0.9996,0.2415,0.3808,0.9606]\n",
        "d = d + [0.9848,0.3469,0.7977,0.5844,0.8147,0.6431,0.7387,0.5613,0.0318,0.7401]\n",
        "d = d + [0.4557,0.1592,0.8536,0.8846,0.3410,0.1492,0.8681,0.5291,0.3188,0.5992]\n",
        "d = d + [0.9170,0.2204,0.5991,0.5461,0.5739,0.3254,0.0856,0.2258,0.4603,0.5027]\n",
        "d = d + [0.8376,0.6235,0.3681,0.2088,0.1525,0.2006,0.4720,0.4272,0.6360,0.0954]'''\n",
        "\n",
        "D.sort()\n",
        "# Calculos para la construccion de la tabla de distribucion de frecuencia\n",
        "Rango = max(D) - min(D)\n",
        "k=round(mt.sqrt(len(D)))\n",
        "Amplitud=round(Rango/k,3)\n",
        "Precalculo = round(min(D) + k*Amplitud,2)\n",
        "comparacion = round(Precalculo - max(D),10);\n",
        "\n",
        "if np.mod(comparacion,2)==0:\n",
        "  comparacion = comparacion/2 \n",
        "\n",
        "liminf = min(D) - comparacion\n",
        "\n",
        "\n",
        "#Calculo de la tabla de distribucion de frecuencias\n",
        "D1=np.array(D)\n",
        "T=np.zeros((k,4))\n",
        "for x in range(k):\n",
        "  \n",
        "  T[x][0]=liminf\n",
        "\n",
        "  liminf = round(liminf + Amplitud,3);\n",
        "  T[x][1]=liminf\n",
        "\n",
        "  T[x][2]=FO_n(D,T[x][0],T[x][1],n)\n",
        "\n",
        "  T[x][3]=100*(T[x][1]-T[x][0])/Rango\n",
        "print('Tabla de distribucion de frecuencias')\n",
        "print(T,'\\n')\n",
        "\n",
        "C=0\n",
        "for x in range(k):\n",
        "  C = C + mt.pow(10-T[x][2],2)\n",
        "C = C/k\n",
        "print('Valor de C (estadistico de prueba)')\n",
        "print('C = ',C,'\\n')\n",
        "\n",
        "X_2 = sst.chi2.ppf(0.90,9)\n",
        "print('El valor del punto critico es')\n",
        "print('X_2(0.10,9) = ',X_2)\n",
        "\n",
        "print('\\nsi C <= X_2')\n",
        "print('La prueba es',C<X_2)"
      ],
      "metadata": {
        "id": "bLfPraYV7L_9",
        "colab": {
          "base_uri": "https://localhost:8080/"
        },
        "outputId": "229b2707-40a8-48d4-c867-ff0953c34110"
      },
      "execution_count": null,
      "outputs": [
        {
          "output_type": "stream",
          "name": "stdout",
          "text": [
            "Tabla de distribucion de frecuencias\n",
            "[[ 0.03   0.127  8.    10.   ]\n",
            " [ 0.127  0.224 16.    10.   ]\n",
            " [ 0.224  0.321 10.    10.   ]\n",
            " [ 0.321  0.418  6.    10.   ]\n",
            " [ 0.418  0.515 13.    10.   ]\n",
            " [ 0.515  0.612  8.    10.   ]\n",
            " [ 0.612  0.709  8.    10.   ]\n",
            " [ 0.709  0.806 13.    10.   ]\n",
            " [ 0.806  0.903  8.    10.   ]\n",
            " [ 0.903  1.    10.    10.   ]] \n",
            "\n",
            "Valor de C (estadistico de prueba)\n",
            "C =  8.6 \n",
            "\n",
            "El valor del punto critico es\n",
            "X_2(0.10,9) =  14.683656573259837\n",
            "\n",
            "si C <= X_2\n",
            "La prueba es True\n"
          ]
        }
      ]
    },
    {
      "cell_type": "markdown",
      "source": [
        "Funcion para contar frecuencias observadas\n"
      ],
      "metadata": {
        "id": "FrAIT5IxSx2R"
      }
    }
  ]
}