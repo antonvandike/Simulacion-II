{
  "nbformat": 4,
  "nbformat_minor": 0,
  "metadata": {
    "colab": {
      "provenance": [],
      "authorship_tag": "ABX9TyO3IfGtc0hmweW62j3tkbWn",
      "include_colab_link": true
    },
    "kernelspec": {
      "name": "python3",
      "display_name": "Python 3"
    },
    "language_info": {
      "name": "python"
    }
  },
  "cells": [
    {
      "cell_type": "markdown",
      "metadata": {
        "id": "view-in-github",
        "colab_type": "text"
      },
      "source": [
        "<a href=\"https://colab.research.google.com/github/luisantoniourbanaviles/Simulacion-II/blob/main/Primer%20parcial/Primer%20examen/Ejercicio_2.ipynb\" target=\"_parent\"><img src=\"https://colab.research.google.com/assets/colab-badge.svg\" alt=\"Open In Colab\"/></a>"
      ]
    },
    {
      "cell_type": "markdown",
      "source": [
        "# Ejercicio 2\n",
        "\n",
        "Un quiosquero vende periódicos a 1.10 euros cada uno. Cada periódico le cuesta al quiosquero 0.90 euros. Las ventas de periódicos del quiosquero a partir de su experiencia se refleja en la tabla siguiente.\n",
        "\n",
        "|**Periodicos**|**30**|**40**| 50 | 60 | 70 |\n",
        "|--------------|------|------|----|----|----|\n",
        "| f(x)         |  20\\%| 25\\% |25\\%|20\\%|10\\%|\n",
        "\n",
        "La tabla recoge por ejemplo que el 20 % del tiempo las ventas han sido de 30 periódicos. Teniendo en cuenta el coste de 0,20 euros por venta perdida y el coste de 0,10 euros por el reciclaje de cada periódico no vendido.\\\\\n",
        "\n",
        "Determine el beneficio promedio diario si pide 50 periódicos cada día.\n",
        "\n",
        "(a) Por simulación [05 puntos]\n",
        "\n",
        "(b) Anal ́ıticamente [05 puntos]\n",
        "\n",
        "(c) Determine, por simulaci ́on, el pedido de peri ́odicos que optimiza el beneficio [05 puntos]\n"
      ],
      "metadata": {
        "id": "cQxbKU77eG01"
      }
    },
    {
      "cell_type": "markdown",
      "source": [
        "### Solucion por simulacion"
      ],
      "metadata": {
        "id": "x7IoClpIhYZm"
      }
    },
    {
      "cell_type": "markdown",
      "source": [
        "**Paso 1.** Identifique las variables\n",
        "\n",
        "Tenemos una variable: $X_1$\n",
        "\n",
        "Que determianara cuantos periodicos se venderan en un dia"
      ],
      "metadata": {
        "id": "hpeiwBv5huzz"
      }
    },
    {
      "cell_type": "markdown",
      "source": [
        "**Paso 2.** Formula la distribucion de probabilidad de la variable\n",
        "\n",
        "|**Periodicos**|**30**|**40**| 50 | 60 | 70 |\n",
        "|--------------|------|------|----|----|----|\n",
        "| f(x)         |  0.20| 0.25 |0.25|0.20|0.10|"
      ],
      "metadata": {
        "id": "6mLZIIWYiBrl"
      }
    },
    {
      "cell_type": "markdown",
      "source": [
        "**Paso 3.** Enumere la distribucion acumulada de probabilidad de la variable\n",
        "\n",
        "|**Periodicos**|**30**|**40**| 50 | 60 | 70 |\n",
        "|--------------|------|------|----|----|----|\n",
        "| f(x)         |  0.20| 0.25 |0.25|0.20|0.10|\n",
        "| F(x)         |  0.20| 0.45 |0.70|0.90|1.00|"
      ],
      "metadata": {
        "id": "yKWDfn9giemL"
      }
    },
    {
      "cell_type": "markdown",
      "source": [
        "**Paso 4.** Establezca el intervalo de los números aleatorios\n",
        "\n",
        "|**Periodicos**|**30**|**40**| 50 | 60 | 70 |\n",
        "|--------------|------|------|----|----|----|\n",
        "| f(x)         |  0.20| 0.25 |0.25|0.20|0.10|\n",
        "| F(x)         |  0.20| 0.45 |0.70|0.90|1.00|\n",
        "| Intervalor   | 0 - 0.19|0.20 - 0.44 | 0.45 - 0.69 |0.70 - 0.89| 0.90 - 1.00|"
      ],
      "metadata": {
        "id": "lrxYLvxYi16T"
      }
    },
    {
      "cell_type": "markdown",
      "source": [
        "**Paso 5.** Defina el modelo del sistema y los objetivos de la simulación\n",
        "\n",
        "La beneficio es \\\\\n",
        "\n",
        "\\begin{equation*}\n",
        "    Beneficio = 1.10*ventasreales - 0.90*pedido - 0.10*novendidos - 020*ventasperdidas\n",
        "\\end{equation*}"
      ],
      "metadata": {
        "id": "DKH2-iycjfFl"
      }
    },
    {
      "cell_type": "code",
      "source": [
        "# Librerias a usar\n",
        "\n",
        "import random as rd\n",
        "import matplotlib.pyplot as plt\n",
        "import numpy as np\n",
        "import math as mt"
      ],
      "metadata": {
        "id": "FrY33PVlkTmm"
      },
      "execution_count": 38,
      "outputs": []
    },
    {
      "cell_type": "markdown",
      "source": [
        "Y usando los intervalos calculados, podemos calcular el beneficio con cierto valor del pedido"
      ],
      "metadata": {
        "id": "281FeyKWlEZA"
      }
    },
    {
      "cell_type": "code",
      "source": [
        "# beneficio: Funcion que devuleve el beneficio con cierto pedido dado\n",
        "def beneficio(pedido):\n",
        "  X_1 =rd.random() \n",
        "\n",
        "  # Con el numero aleatorio, estas decisiones determinan cuantos periodicos\n",
        "  # se venden en cierto dia\n",
        "\n",
        "  if X_1>=0 and X_1<0.20:\n",
        "    ventas_sim = 30\n",
        "\n",
        "  if X_1>=0.20 and X_1<0.45:\n",
        "    ventas_sim = 40\n",
        "\n",
        "  if X_1>=0.45 and X_1<0.70:\n",
        "    ventas_sim = 50\n",
        "\n",
        "  if X_1>=0.70 and X_1<0.90:\n",
        "    ventas_sim = 60\n",
        "\n",
        "  if X_1>=0.90 and X_1<=1:\n",
        "    ventas_sim = 70\n",
        "    \n",
        "  # De las especificaciones vistas en clase, aqui calculas las cantidades de\n",
        "  # los periodicos vendidos, ventas perdidas y no vendidos\n",
        "  if ventas_sim<=50:\n",
        "    ventas_reales   = ventas_sim\n",
        "    ventas_perdidas = 0\n",
        "    no_vendidos     = pedido - ventas_reales\n",
        "    \n",
        "  if ventas_sim>50:\n",
        "    ventas_reales   = pedido\n",
        "    ventas_perdidas = ventas_sim - pedido\n",
        "    no_vendidos     = 0\n",
        "\n",
        "  B = 1.10*ventas_reales - 0.90*pedido - 0.10*no_vendidos - 0.20*ventas_perdidas\n",
        "  return(B)"
      ],
      "metadata": {
        "id": "x0UYW6_olC-r"
      },
      "execution_count": 77,
      "outputs": []
    },
    {
      "cell_type": "code",
      "source": [
        "beneficio(50)"
      ],
      "metadata": {
        "colab": {
          "base_uri": "https://localhost:8080/"
        },
        "id": "YmRHSyJ8mAJu",
        "outputId": "1f951858-61c2-4324-d571-0b22eed84eed"
      },
      "execution_count": 78,
      "outputs": [
        {
          "output_type": "execute_result",
          "data": {
            "text/plain": [
              "-2.0"
            ]
          },
          "metadata": {},
          "execution_count": 78
        }
      ]
    },
    {
      "cell_type": "markdown",
      "source": [
        "**Paso 5.** Diseño del experimento\n",
        "\n",
        "Para estimar el beneficio promedio, durante n dias calculamos el posbile beneficio"
      ],
      "metadata": {
        "id": "ab_opKXJmJYf"
      }
    },
    {
      "cell_type": "code",
      "source": [
        "# benef_promedio: Funcion que devuelve una lista con el promedio del\n",
        "# beneficio\n",
        "def benef_promedio(n,p):\n",
        "  l1 =[]\n",
        "  l2 =[] \n",
        "  for x in range(n):\n",
        "    l1.append(beneficio(p))\n",
        "    l2.append(np.mean(l1))\n",
        "  return(l2)\n"
      ],
      "metadata": {
        "id": "zSy-fGtCm5ck"
      },
      "execution_count": 85,
      "outputs": []
    },
    {
      "cell_type": "code",
      "source": [
        "B = benef_promedio(500,50)\n",
        "\n",
        "plt.plot(B)\n",
        "plt.show()"
      ],
      "metadata": {
        "colab": {
          "base_uri": "https://localhost:8080/",
          "height": 430
        },
        "id": "20qnmgDinXtZ",
        "outputId": "e874ccc2-afcb-4cba-c3e0-5b67482f906b"
      },
      "execution_count": 86,
      "outputs": [
        {
          "output_type": "display_data",
          "data": {
            "text/plain": [
              "<Figure size 640x480 with 1 Axes>"
            ],
            "image/png": "[encoded data removed]"
          },
          "metadata": {}
        }
      ]
    },
    {
      "cell_type": "markdown",
      "source": [
        "Se puede observar que con 500 iteraciones se estabiliza la grafica de beneficio"
      ],
      "metadata": {
        "id": "LmwCFOVenv_r"
      }
    },
    {
      "cell_type": "markdown",
      "source": [
        "El beneficio tiene una media y una desviacion estandar de\n"
      ],
      "metadata": {
        "id": "ZPqzYO6hoGph"
      }
    },
    {
      "cell_type": "code",
      "source": [
        "print('x_p =',np.mean(B))\n",
        "print('s_p =',np.std(B))"
      ],
      "metadata": {
        "colab": {
          "base_uri": "https://localhost:8080/"
        },
        "id": "jFYHnN5NoJ11",
        "outputId": "a6e6cb78-28b7-49da-db32-756cf2c51642"
      },
      "execution_count": 87,
      "outputs": [
        {
          "output_type": "stream",
          "name": "stdout",
          "text": [
            "x_p = 1.1057397634806854\n",
            "s_p = 1.3368112794798548\n"
          ]
        }
      ]
    },
    {
      "cell_type": "markdown",
      "source": [
        "**Paso 6.** Repita el experimento n veces\n"
      ],
      "metadata": {
        "id": "H0hTVH8LoatB"
      }
    },
    {
      "cell_type": "code",
      "source": [
        "# modelo: funcion que repite el experimento n veces\n",
        "# Devuelve una lista con los beneficios promedio de cada experimento\n",
        "def modelo(n,p):\n",
        "  l1 = []\n",
        "\n",
        "  for x in range(n):\n",
        "    Benef_prom = benef_promedio(500,p)\n",
        "    l1.append(np.mean(Benef_prom))\n",
        "\n",
        "  return(l1)"
      ],
      "metadata": {
        "id": "oygXapMHod7h"
      },
      "execution_count": 92,
      "outputs": []
    },
    {
      "cell_type": "code",
      "source": [
        "Y_1 = modelo(120,50)"
      ],
      "metadata": {
        "id": "QsQkRzpLoj7v"
      },
      "execution_count": 93,
      "outputs": []
    },
    {
      "cell_type": "code",
      "source": [
        "plt.hist(Y_1)\n",
        "plt.show()"
      ],
      "metadata": {
        "colab": {
          "base_uri": "https://localhost:8080/",
          "height": 430
        },
        "id": "F8pjgFMCossg",
        "outputId": "92df2cd7-e776-4bf4-b41b-5aae5c2c8cf4"
      },
      "execution_count": 94,
      "outputs": [
        {
          "output_type": "display_data",
          "data": {
            "text/plain": [
              "<Figure size 640x480 with 1 Axes>"
            ],
            "image/png": "[encoded data removed]"
          },
          "metadata": {}
        }
      ]
    },
    {
      "cell_type": "markdown",
      "source": [
        "El beneficio promedio estimado con un pedido de 50 periodicos es"
      ],
      "metadata": {
        "id": "Ibu8jYzgoxfz"
      }
    },
    {
      "cell_type": "code",
      "source": [
        "y_m = np.mean(Y_1)\n",
        "print(y_m)"
      ],
      "metadata": {
        "colab": {
          "base_uri": "https://localhost:8080/"
        },
        "id": "vo8tw3jlo47l",
        "outputId": "11ee0331-a95c-4e8d-d3a3-51b17bec07aa"
      },
      "execution_count": 95,
      "outputs": [
        {
          "output_type": "stream",
          "name": "stdout",
          "text": [
            "1.341080976630478\n"
          ]
        }
      ]
    },
    {
      "cell_type": "markdown",
      "source": [
        "con una desviacion estandar"
      ],
      "metadata": {
        "id": "XiIoXP7Zo_w8"
      }
    },
    {
      "cell_type": "code",
      "source": [
        "s_m = np.std(Y_1)\n",
        "print(s_m)"
      ],
      "metadata": {
        "colab": {
          "base_uri": "https://localhost:8080/"
        },
        "id": "49an-FCupCfw",
        "outputId": "edbd783b-cca8-4f81-9b65-d020ffda013e"
      },
      "execution_count": 96,
      "outputs": [
        {
          "output_type": "stream",
          "name": "stdout",
          "text": [
            "0.5414619900319845\n"
          ]
        }
      ]
    },
    {
      "cell_type": "markdown",
      "source": [
        "con este modelo, podemos estimar el numero de veces qque se debe repetir dicho modelo con la ecuacion \n",
        "\n",
        "\\begin{equation*}\n",
        "  N = \\left( \\frac{2 \\sigma z_{\\frac{\\alpha}{2} }}{\\epsilon} \\right)^2\n",
        "\\end{equation*}"
      ],
      "metadata": {
        "id": "ykeLHQyjpH7q"
      }
    },
    {
      "cell_type": "code",
      "source": [
        "N_1 = round(mt.pow((2*s_m*1.96)/(0.01),2))\n",
        "print(N_1)"
      ],
      "metadata": {
        "colab": {
          "base_uri": "https://localhost:8080/"
        },
        "id": "jbzBYNcgpK9J",
        "outputId": "9eb1190f-7d9e-4b0c-a54b-02038b08e403"
      },
      "execution_count": 97,
      "outputs": [
        {
          "output_type": "stream",
          "name": "stdout",
          "text": [
            "45051\n"
          ]
        }
      ]
    },
    {
      "cell_type": "markdown",
      "source": [
        "debido al excesivo numero, se calcula de nuevo, pero con otro $\\epsilon$"
      ],
      "metadata": {
        "id": "CNx-ZUUUqj6S"
      }
    },
    {
      "cell_type": "code",
      "source": [
        "N_2 = round(mt.pow((2*s_m*1.96)/(0.1),2))\n",
        "print(N_2)"
      ],
      "metadata": {
        "colab": {
          "base_uri": "https://localhost:8080/"
        },
        "id": "zz81hpsJqqwK",
        "outputId": "9b5a292d-891d-497d-8689-9239b33d7b3b"
      },
      "execution_count": 98,
      "outputs": [
        {
          "output_type": "stream",
          "name": "stdout",
          "text": [
            "451\n"
          ]
        }
      ]
    },
    {
      "cell_type": "markdown",
      "source": [
        "Entonces, con 424 iteraciones, obtenemos"
      ],
      "metadata": {
        "id": "hENFcpafquix"
      }
    },
    {
      "cell_type": "code",
      "source": [
        "Y_2 = modelo (N_2,50)\n",
        "y2_m = np.mean(Y_2)\n",
        "s_y2 = np.std(Y_2)\n",
        "print('y_m2 =',y2_m)\n",
        "print('s_y2 =',s_y2)"
      ],
      "metadata": {
        "colab": {
          "base_uri": "https://localhost:8080/"
        },
        "id": "PRgcX9Ygq2_l",
        "outputId": "22ce6a0d-908b-401f-db81-5500283c9e26"
      },
      "execution_count": 100,
      "outputs": [
        {
          "output_type": "stream",
          "name": "stdout",
          "text": [
            "y_m2 = 1.4312134961961624\n",
            "s_y2 = 0.5529639280028278\n"
          ]
        }
      ]
    },
    {
      "cell_type": "code",
      "source": [
        "plt.hist(Y_2)\n",
        "plt.show()"
      ],
      "metadata": {
        "colab": {
          "base_uri": "https://localhost:8080/",
          "height": 430
        },
        "id": "L6OmwbmmrRP9",
        "outputId": "4d474cb8-311b-4df7-ce4e-c3372c23f102"
      },
      "execution_count": 101,
      "outputs": [
        {
          "output_type": "display_data",
          "data": {
            "text/plain": [
              "<Figure size 640x480 with 1 Axes>"
            ],
            "image/png": "[encoded data removed]"
          },
          "metadata": {}
        }
      ]
    },
    {
      "cell_type": "markdown",
      "source": [
        "**Paso 7**. Hallar el intervalo de confianza para la media \n",
        "\\begin{equation*}\n",
        "  \\bar{x} - Z_{\\frac{\\alpha}{2}} \\cdot \\frac{s}{\\sqrt{n}} < \\mu < \\bar{x} + Z_{\\frac{\\alpha}{2}} \\cdot \\frac{s}{\\sqrt{n}} \n",
        "\\end{equation*}"
      ],
      "metadata": {
        "id": "RdGWEiT_rZ0I"
      }
    },
    {
      "cell_type": "markdown",
      "source": [
        "Intervalo de confianza para el beneficio promedio teniendo un pedido de 50 peridocos"
      ],
      "metadata": {
        "id": "bmXJ5aiKrgf8"
      }
    },
    {
      "cell_type": "code",
      "source": [
        "print(y2_m - 1.96*(s_y2/np.sqrt(N)), y2_m + 1.96*s_y2/np.sqrt(N))"
      ],
      "metadata": {
        "colab": {
          "base_uri": "https://localhost:8080/"
        },
        "id": "wQ2NZpF_rrhV",
        "outputId": "5dd48dab-6a64-4899-c941-436d858b3d99"
      },
      "execution_count": 102,
      "outputs": [
        {
          "output_type": "stream",
          "name": "stdout",
          "text": [
            "1.3785790637212192 1.4838479286711057\n"
          ]
        }
      ]
    },
    {
      "cell_type": "markdown",
      "source": [
        "entonces, el beneficio promedio estimado esta dentro del intervalo con una confiabilidad del 95\\%"
      ],
      "metadata": {
        "id": "L9zYgksDrxoG"
      }
    },
    {
      "cell_type": "markdown",
      "source": [
        "Por tanto, el beneficio promedio para un pedido de 50 periodicos es "
      ],
      "metadata": {
        "id": "ebWR-cR1r-iE"
      }
    },
    {
      "cell_type": "code",
      "source": [
        "print('p =',y2_m)"
      ],
      "metadata": {
        "colab": {
          "base_uri": "https://localhost:8080/"
        },
        "id": "FwodLuvWsImp",
        "outputId": "197bf819-4a10-464f-fc21-45cf1025bc31"
      },
      "execution_count": 103,
      "outputs": [
        {
          "output_type": "stream",
          "name": "stdout",
          "text": [
            "p = 1.4312134961961624\n"
          ]
        }
      ]
    },
    {
      "cell_type": "markdown",
      "source": [
        "### Inciso C\n",
        "\n",
        "(c) Determine, por simulacion, el pedido de periodicos que optimiza el beneficio"
      ],
      "metadata": {
        "id": "NdEEi7V7sQ-V"
      }
    },
    {
      "cell_type": "markdown",
      "source": [
        "Suponiendo que se comprar solo las posibles ventas de periodicos, tendriamos los posibles pedidos de \n",
        "\n",
        "[30,40,50,60,70]"
      ],
      "metadata": {
        "id": "371QQtmIsZh7"
      }
    },
    {
      "cell_type": "code",
      "source": [
        "pedidos = [30,40,50,60,70]"
      ],
      "metadata": {
        "id": "nPO68Y_dsYe8"
      },
      "execution_count": 104,
      "outputs": []
    },
    {
      "cell_type": "markdown",
      "source": [
        "Si realizamos la simulacion para cada pedido, podriamos determinar cual pedido nos da el mejor beneficio"
      ],
      "metadata": {
        "id": "ApXSlsNUsvoD"
      }
    },
    {
      "cell_type": "code",
      "source": [
        "# mejor_pedido: Funcion que devuleve una lista con el beneficio promedio de \n",
        "# cada pedido\n",
        "\n",
        "def mejor_pedido(p):\n",
        "  L = []\n",
        "  n= len(p)\n",
        "  for x in range(n):\n",
        "\n",
        "    L1 = modelo(120,p[x])\n",
        "    L.append(np.mean(L1))\n",
        "  return(L)\n"
      ],
      "metadata": {
        "id": "LoEIFHNCs0zR"
      },
      "execution_count": 127,
      "outputs": []
    },
    {
      "cell_type": "code",
      "source": [
        "E = mejor_pedido(pedidos)\n",
        "\n",
        "print(E)"
      ],
      "metadata": {
        "colab": {
          "base_uri": "https://localhost:8080/"
        },
        "id": "O_xA_Fhzt4DR",
        "outputId": "0c3c947f-a5c5-4521-c07c-3d7cefa30a0b"
      },
      "execution_count": 129,
      "outputs": [
        {
          "output_type": "stream",
          "name": "stdout",
          "text": [
            "[13.042245820513306, 7.201930793655378, 1.4559189954651297, -4.490216268554121, -9.981357196045638]\n"
          ]
        }
      ]
    },
    {
      "cell_type": "markdown",
      "source": [
        "Entonces, el pedido qque maximiza el beneficio es"
      ],
      "metadata": {
        "id": "8ygKeEDawUN2"
      }
    },
    {
      "cell_type": "code",
      "source": [
        "print('El pedido con',pedidos[E.index(max(E))],'periodicos')\n",
        "print('con un beneficion promedio de ',max(E),'euros')"
      ],
      "metadata": {
        "colab": {
          "base_uri": "https://localhost:8080/"
        },
        "id": "mAK1OlAfwZTK",
        "outputId": "85dafdb3-6730-493e-cddc-a32c9957b2f9"
      },
      "execution_count": 134,
      "outputs": [
        {
          "output_type": "stream",
          "name": "stdout",
          "text": [
            "El pedido con 30 periodicos\n",
            "con un beneficion promedio de  13.042245820513306 euros\n"
          ]
        }
      ]
    }
  ]
}