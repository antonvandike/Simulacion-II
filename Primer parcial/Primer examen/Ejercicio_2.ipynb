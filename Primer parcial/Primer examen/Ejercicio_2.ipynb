{
  "nbformat": 4,
  "nbformat_minor": 0,
  "metadata": {
    "colab": {
      "provenance": [],
      "authorship_tag": "ABX9TyOZohNznXw/HJVngBf8mfp3",
      "include_colab_link": true
    },
    "kernelspec": {
      "name": "python3",
      "display_name": "Python 3"
    },
    "language_info": {
      "name": "python"
    }
  },
  "cells": [
    {
      "cell_type": "markdown",
      "metadata": {
        "id": "view-in-github",
        "colab_type": "text"
      },
      "source": [
        "<a href=\"https://colab.research.google.com/github/luisantoniourbanaviles/Simulacion-II/blob/main/Primer%20parcial/Primer%20examen/Ejercicio_2.ipynb\" target=\"_parent\"><img src=\"https://colab.research.google.com/assets/colab-badge.svg\" alt=\"Open In Colab\"/></a>"
      ]
    },
    {
      "cell_type": "markdown",
      "source": [
        "# Ejercicio 2\n",
        "\n",
        "Un quiosquero vende periódicos a 1.10 euros cada uno. Cada periódico le cuesta al quiosquero 0.90 euros. Las ventas de periódicos del quiosquero a partir de su experiencia se refleja en la tabla siguiente.\n",
        "\n",
        "|**Periodicos**|**30**|**40**| 50 | 60 | 70 |\n",
        "|--------------|------|------|----|----|----|\n",
        "| f(x)         |  20\\%| 25\\% |25\\%|20\\%|10\\%|\n",
        "\n",
        "La tabla recoge por ejemplo que el 20 % del tiempo las ventas han sido de 30 periódicos. Teniendo en cuenta el coste de 0,20 euros por venta perdida y el coste de 0,10 euros por el reciclaje de cada periódico no vendido.\\\\\n",
        "\n",
        "Determine el beneficio promedio diario si pide 50 periódicos cada día.\n",
        "\n",
        "(a) Por simulación [05 puntos]\n",
        "\n",
        "(b) Anal ́ıticamente [05 puntos]\n",
        "\n",
        "(c) Determine, por simulaci ́on, el pedido de peri ́odicos que optimiza el beneficio [05 puntos]\n"
      ],
      "metadata": {
        "id": "cQxbKU77eG01"
      }
    },
    {
      "cell_type": "markdown",
      "source": [
        "### Solucion por simulacion"
      ],
      "metadata": {
        "id": "x7IoClpIhYZm"
      }
    },
    {
      "cell_type": "markdown",
      "source": [
        "**Paso 1.** Identifique las variables\n",
        "\n",
        "Tenemos una variable: $X_1$\n",
        "\n",
        "Que determianara cuantos periodicos se venderan en un dia"
      ],
      "metadata": {
        "id": "hpeiwBv5huzz"
      }
    },
    {
      "cell_type": "markdown",
      "source": [
        "**Paso 2.** Formula la distribucion de probabilidad de la variable\n",
        "\n",
        "|**Periodicos**|**30**|**40**| 50 | 60 | 70 |\n",
        "|--------------|------|------|----|----|----|\n",
        "| f(x)         |  0.20| 0.25 |0.25|0.20|0.10|"
      ],
      "metadata": {
        "id": "6mLZIIWYiBrl"
      }
    },
    {
      "cell_type": "markdown",
      "source": [
        "**Paso 3.** Enumere la distribucion acumulada de probabilidad de la variable\n",
        "\n",
        "|**Periodicos**|**30**|**40**| 50 | 60 | 70 |\n",
        "|--------------|------|------|----|----|----|\n",
        "| f(x)         |  0.20| 0.25 |0.25|0.20|0.10|\n",
        "| F(x)         |  0.20| 0.45 |0.70|0.90|1.00|"
      ],
      "metadata": {
        "id": "yKWDfn9giemL"
      }
    },
    {
      "cell_type": "markdown",
      "source": [
        "**Paso 4.** Establezca el intervalo de los números aleatorios\n",
        "\n",
        "|**Periodicos**|**30**|**40**| 50 | 60 | 70 |\n",
        "|--------------|------|------|----|----|----|\n",
        "| f(x)         |  0.20| 0.25 |0.25|0.20|0.10|\n",
        "| F(x)         |  0.20| 0.45 |0.70|0.90|1.00|\n",
        "| Intervalor   | 0 - 0.19|0.20 - 0.44 | 0.45 - 0.69 |0.70 - 0.89| 0.90 - 1.00|"
      ],
      "metadata": {
        "id": "lrxYLvxYi16T"
      }
    },
    {
      "cell_type": "markdown",
      "source": [
        "**Paso 5.** Defina el modelo del sistema y los objetivos de la simulación\n",
        "\n",
        "La beneficio es \\\\\n",
        "\n",
        "\\begin{equation*}\n",
        "    Beneficio = 1.10*ventasreales - 0.90*pedido - 0.10*novendidos - 020*ventasperdidas\n",
        "\\end{equation*}"
      ],
      "metadata": {
        "id": "DKH2-iycjfFl"
      }
    },
    {
      "cell_type": "code",
      "source": [
        "# Librerias a usar\n",
        "\n",
        "import random as rd\n",
        "import matplotlib.pyplot as plt\n",
        "import numpy as np\n",
        "import math as mt"
      ],
      "metadata": {
        "id": "FrY33PVlkTmm"
      },
      "execution_count": 50,
      "outputs": []
    },
    {
      "cell_type": "markdown",
      "source": [
        "Y usando los intervalos calculados, podemos calcular el beneficio con cierto valor del pedido"
      ],
      "metadata": {
        "id": "281FeyKWlEZA"
      }
    },
    {
      "cell_type": "code",
      "source": [
        "# beneficio: Funcion que devuleve el beneficio con cierto pedido dado\n",
        "def beneficio(pedido):\n",
        "  X_1 =rd.random() \n",
        "\n",
        "  # Con el numero aleatorio, estas decisiones determinan cuantos periodicos\n",
        "  # se venden en cierto dia\n",
        "\n",
        "  if X_1>=0 and X_1<0.20:\n",
        "    ventas_sim = 30\n",
        "\n",
        "  if X_1>=0.20 and X_1<0.45:\n",
        "    ventas_sim = 40\n",
        "\n",
        "  if X_1>=0.45 and X_1<0.70:\n",
        "    ventas_sim = 50\n",
        "\n",
        "  if X_1>=0.70 and X_1<0.90:\n",
        "    ventas_sim = 60\n",
        "\n",
        "  if X_1>=0.90 and X_1<=1:\n",
        "    ventas_sim = 70\n",
        "    \n",
        "  # De las especificaciones vistas en clase, aqui calculas las cantidades de\n",
        "  # los periodicos vendidos, ventas perdidas y no vendidos\n",
        "  if ventas_sim<=pedido:\n",
        "    ventas_reales   = ventas_sim\n",
        "    ventas_perdidas = 0\n",
        "    no_vendidos     = pedido - ventas_reales\n",
        "    \n",
        "  if ventas_sim>pedido:\n",
        "    ventas_reales   = pedido\n",
        "    ventas_perdidas = ventas_sim - pedido\n",
        "    no_vendidos     = 0\n",
        "\n",
        "  B = 1.10*ventas_reales - 0.90*pedido - 0.10*no_vendidos - 0.20*ventas_perdidas\n",
        "  return(B)"
      ],
      "metadata": {
        "id": "x0UYW6_olC-r"
      },
      "execution_count": 51,
      "outputs": []
    },
    {
      "cell_type": "code",
      "source": [
        "beneficio(50)"
      ],
      "metadata": {
        "colab": {
          "base_uri": "https://localhost:8080/"
        },
        "id": "YmRHSyJ8mAJu",
        "outputId": "2ea8a19e-5125-487e-cbc2-8c3fceddb07c"
      },
      "execution_count": 60,
      "outputs": [
        {
          "output_type": "execute_result",
          "data": {
            "text/plain": [
              "-14.0"
            ]
          },
          "metadata": {},
          "execution_count": 60
        }
      ]
    },
    {
      "cell_type": "markdown",
      "source": [
        "**Paso 5.** Diseño del experimento\n",
        "\n",
        "Para estimar el beneficio promedio, durante n dias calculamos el posbile beneficio"
      ],
      "metadata": {
        "id": "ab_opKXJmJYf"
      }
    },
    {
      "cell_type": "code",
      "source": [
        "# benef_promedio: Funcion que devuelve una lista con el promedio del\n",
        "# beneficio\n",
        "def benef_promedio(n,p):\n",
        "  l1 =[]\n",
        "  l2 =[] \n",
        "  for x in range(n):\n",
        "    l1.append(beneficio(p))\n",
        "    l2.append(np.mean(l1))\n",
        "  return(l2)\n"
      ],
      "metadata": {
        "id": "zSy-fGtCm5ck"
      },
      "execution_count": 61,
      "outputs": []
    },
    {
      "cell_type": "code",
      "source": [
        "B = benef_promedio(500,50)\n",
        "\n",
        "plt.plot(B)\n",
        "plt.show()"
      ],
      "metadata": {
        "colab": {
          "base_uri": "https://localhost:8080/",
          "height": 430
        },
        "id": "20qnmgDinXtZ",
        "outputId": "b2f6adaa-9a3a-4496-b0fd-de0039f15e73"
      },
      "execution_count": 78,
      "outputs": [
        {
          "output_type": "display_data",
          "data": {
            "text/plain": [
              "<Figure size 640x480 with 1 Axes>"
            ],
            "image/png": "[encoded data removed]"
          },
          "metadata": {}
        }
      ]
    },
    {
      "cell_type": "markdown",
      "source": [
        "Se puede observar que con 500 iteraciones se estabiliza la grafica de beneficio"
      ],
      "metadata": {
        "id": "LmwCFOVenv_r"
      }
    },
    {
      "cell_type": "markdown",
      "source": [
        "El beneficio tiene una media y una desviacion estandar de\n"
      ],
      "metadata": {
        "id": "ZPqzYO6hoGph"
      }
    },
    {
      "cell_type": "code",
      "source": [
        "print('x_p =',np.mean(B))\n",
        "print('s_p =',np.std(B))"
      ],
      "metadata": {
        "colab": {
          "base_uri": "https://localhost:8080/"
        },
        "id": "jFYHnN5NoJ11",
        "outputId": "4f82b1ed-b16e-4e73-9aad-60618be729ce"
      },
      "execution_count": 79,
      "outputs": [
        {
          "output_type": "stream",
          "name": "stdout",
          "text": [
            "x_p = 1.555668358822686\n",
            "s_p = 0.5978796475596304\n"
          ]
        }
      ]
    },
    {
      "cell_type": "markdown",
      "source": [
        "**Paso 6.** Repita el experimento n veces\n"
      ],
      "metadata": {
        "id": "H0hTVH8LoatB"
      }
    },
    {
      "cell_type": "code",
      "source": [
        "# modelo: funcion que repite el experimento n veces\n",
        "# Devuelve una lista con los beneficios promedio de cada experimento\n",
        "def modelo(n,p):\n",
        "  l1 = []\n",
        "\n",
        "  for x in range(n):\n",
        "    Benef_prom = benef_promedio(500,p)\n",
        "    l1.append(np.mean(Benef_prom))\n",
        "\n",
        "  return(l1)"
      ],
      "metadata": {
        "id": "oygXapMHod7h"
      },
      "execution_count": 80,
      "outputs": []
    },
    {
      "cell_type": "code",
      "source": [
        "Y_1 = modelo(120,50)"
      ],
      "metadata": {
        "id": "QsQkRzpLoj7v"
      },
      "execution_count": 81,
      "outputs": []
    },
    {
      "cell_type": "code",
      "source": [
        "plt.hist(Y_1)\n",
        "plt.show()"
      ],
      "metadata": {
        "colab": {
          "base_uri": "https://localhost:8080/",
          "height": 430
        },
        "id": "F8pjgFMCossg",
        "outputId": "5ceb8390-912c-42e6-da65-05e876367e69"
      },
      "execution_count": 82,
      "outputs": [
        {
          "output_type": "display_data",
          "data": {
            "text/plain": [
              "<Figure size 640x480 with 1 Axes>"
            ],
            "image/png": "[encoded data removed]"
          },
          "metadata": {}
        }
      ]
    },
    {
      "cell_type": "markdown",
      "source": [
        "El beneficio promedio estimado con un pedido de 50 periodicos es"
      ],
      "metadata": {
        "id": "Ibu8jYzgoxfz"
      }
    },
    {
      "cell_type": "code",
      "source": [
        "y_m = np.mean(Y_1)\n",
        "print(y_m)"
      ],
      "metadata": {
        "colab": {
          "base_uri": "https://localhost:8080/"
        },
        "id": "vo8tw3jlo47l",
        "outputId": "bb08c235-8ff5-4bf8-8bba-f02f7816e7fc"
      },
      "execution_count": 83,
      "outputs": [
        {
          "output_type": "stream",
          "name": "stdout",
          "text": [
            "1.3214819731548597\n"
          ]
        }
      ]
    },
    {
      "cell_type": "markdown",
      "source": [
        "con una desviacion estandar"
      ],
      "metadata": {
        "id": "XiIoXP7Zo_w8"
      }
    },
    {
      "cell_type": "code",
      "source": [
        "s_m = np.std(Y_1)\n",
        "print(s_m)"
      ],
      "metadata": {
        "colab": {
          "base_uri": "https://localhost:8080/"
        },
        "id": "49an-FCupCfw",
        "outputId": "73155a7a-2ae5-47df-ed9f-8396dc37d531"
      },
      "execution_count": 84,
      "outputs": [
        {
          "output_type": "stream",
          "name": "stdout",
          "text": [
            "0.49256877274116284\n"
          ]
        }
      ]
    },
    {
      "cell_type": "markdown",
      "source": [
        "con este modelo, podemos estimar el numero de veces qque se debe repetir dicho modelo con la ecuacion \n",
        "\n",
        "\\begin{equation*}\n",
        "  N = \\left( \\frac{2 \\sigma z_{\\frac{\\alpha}{2} }}{\\epsilon} \\right)^2\n",
        "\\end{equation*}"
      ],
      "metadata": {
        "id": "ykeLHQyjpH7q"
      }
    },
    {
      "cell_type": "code",
      "source": [
        "N_1 = round(mt.pow((2*s_m*1.96)/(0.01),2))\n",
        "print(N_1)"
      ],
      "metadata": {
        "colab": {
          "base_uri": "https://localhost:8080/"
        },
        "id": "jbzBYNcgpK9J",
        "outputId": "3c279d3b-2846-4a59-e5f8-421b835584e9"
      },
      "execution_count": 85,
      "outputs": [
        {
          "output_type": "stream",
          "name": "stdout",
          "text": [
            "37283\n"
          ]
        }
      ]
    },
    {
      "cell_type": "markdown",
      "source": [
        "debido al excesivo numero, se calcula de nuevo, pero con otro $\\epsilon$"
      ],
      "metadata": {
        "id": "CNx-ZUUUqj6S"
      }
    },
    {
      "cell_type": "code",
      "source": [
        "N_2 = round(mt.pow((2*s_m*1.96)/(0.1),2))\n",
        "print(N_2)"
      ],
      "metadata": {
        "colab": {
          "base_uri": "https://localhost:8080/"
        },
        "id": "zz81hpsJqqwK",
        "outputId": "83f39c9f-6aa3-4c5f-b1a0-41f25a231d63"
      },
      "execution_count": 86,
      "outputs": [
        {
          "output_type": "stream",
          "name": "stdout",
          "text": [
            "373\n"
          ]
        }
      ]
    },
    {
      "cell_type": "markdown",
      "source": [
        "Entonces, con 424 iteraciones, obtenemos"
      ],
      "metadata": {
        "id": "hENFcpafquix"
      }
    },
    {
      "cell_type": "code",
      "source": [
        "Y_2 = modelo (N_2,50)\n",
        "y2_m = np.mean(Y_2)\n",
        "s_y2 = np.std(Y_2)\n",
        "print('y_m2 =',y2_m)\n",
        "print('s_y2 =',s_y2)"
      ],
      "metadata": {
        "colab": {
          "base_uri": "https://localhost:8080/"
        },
        "id": "PRgcX9Ygq2_l",
        "outputId": "3a954de3-31ed-40ea-8140-7bfb858bc815"
      },
      "execution_count": 87,
      "outputs": [
        {
          "output_type": "stream",
          "name": "stdout",
          "text": [
            "y_m2 = 1.4440439843565467\n",
            "s_y2 = 0.6193681875076422\n"
          ]
        }
      ]
    },
    {
      "cell_type": "code",
      "source": [
        "plt.hist(Y_2)\n",
        "plt.show()"
      ],
      "metadata": {
        "colab": {
          "base_uri": "https://localhost:8080/",
          "height": 430
        },
        "id": "L6OmwbmmrRP9",
        "outputId": "a2a81047-bf36-4a0a-946c-8994a09a362f"
      },
      "execution_count": 88,
      "outputs": [
        {
          "output_type": "display_data",
          "data": {
            "text/plain": [
              "<Figure size 640x480 with 1 Axes>"
            ],
            "image/png": "[encoded data removed]"
          },
          "metadata": {}
        }
      ]
    },
    {
      "cell_type": "markdown",
      "source": [
        "**Paso 7**. Hallar el intervalo de confianza para la media \n",
        "\\begin{equation*}\n",
        "  \\bar{x} - Z_{\\frac{\\alpha}{2}} \\cdot \\frac{s}{\\sqrt{n}} < \\mu < \\bar{x} + Z_{\\frac{\\alpha}{2}} \\cdot \\frac{s}{\\sqrt{n}} \n",
        "\\end{equation*}"
      ],
      "metadata": {
        "id": "RdGWEiT_rZ0I"
      }
    },
    {
      "cell_type": "markdown",
      "source": [
        "Intervalo de confianza para el beneficio promedio teniendo un pedido de 50 peridocos"
      ],
      "metadata": {
        "id": "bmXJ5aiKrgf8"
      }
    },
    {
      "cell_type": "code",
      "source": [
        "print(y2_m - 1.96*(s_y2/np.sqrt(N_2)), y2_m + 1.96*s_y2/np.sqrt(N_2))"
      ],
      "metadata": {
        "colab": {
          "base_uri": "https://localhost:8080/"
        },
        "id": "wQ2NZpF_rrhV",
        "outputId": "be170221-244f-4c68-a1aa-02214a540a72"
      },
      "execution_count": 89,
      "outputs": [
        {
          "output_type": "stream",
          "name": "stdout",
          "text": [
            "1.3811874328812173 1.506900535831876\n"
          ]
        }
      ]
    },
    {
      "cell_type": "markdown",
      "source": [
        "entonces, el beneficio promedio estimado esta dentro del intervalo con una confiabilidad del 95\\%"
      ],
      "metadata": {
        "id": "L9zYgksDrxoG"
      }
    },
    {
      "cell_type": "markdown",
      "source": [
        "Por tanto, el beneficio promedio para un pedido de 50 periodicos es "
      ],
      "metadata": {
        "id": "ebWR-cR1r-iE"
      }
    },
    {
      "cell_type": "code",
      "source": [
        "print('p =',y2_m)"
      ],
      "metadata": {
        "colab": {
          "base_uri": "https://localhost:8080/"
        },
        "id": "FwodLuvWsImp",
        "outputId": "61261aef-b71b-4b95-b726-326c875257e5"
      },
      "execution_count": 90,
      "outputs": [
        {
          "output_type": "stream",
          "name": "stdout",
          "text": [
            "p = 1.4440439843565467\n"
          ]
        }
      ]
    },
    {
      "cell_type": "markdown",
      "source": [
        "### Inciso C\n",
        "\n",
        "(c) Determine, por simulacion, el pedido de periodicos que optimiza el beneficio"
      ],
      "metadata": {
        "id": "NdEEi7V7sQ-V"
      }
    },
    {
      "cell_type": "markdown",
      "source": [
        "Suponiendo que se comprar solo las posibles ventas de periodicos, tendriamos los posibles pedidos de \n",
        "\n",
        "[30,40,50,60,70]"
      ],
      "metadata": {
        "id": "371QQtmIsZh7"
      }
    },
    {
      "cell_type": "code",
      "source": [
        "pedidos = [30,40,50,60,70]"
      ],
      "metadata": {
        "id": "nPO68Y_dsYe8"
      },
      "execution_count": 91,
      "outputs": []
    },
    {
      "cell_type": "markdown",
      "source": [
        "Si realizamos la simulacion para cada pedido, podriamos determinar cual pedido nos da el mejor beneficio"
      ],
      "metadata": {
        "id": "ApXSlsNUsvoD"
      }
    },
    {
      "cell_type": "code",
      "source": [
        "# mejor_pedido: Funcion que devuleve una lista con el beneficio promedio de \n",
        "# cada pedido\n",
        "\n",
        "def mejor_pedido(p):\n",
        "  L = []\n",
        "  n= len(p)\n",
        "  for x in range(n):\n",
        "\n",
        "    L1 = modelo(400,p[x])\n",
        "    L.append(np.mean(L1))\n",
        "  return(L)\n"
      ],
      "metadata": {
        "id": "LoEIFHNCs0zR"
      },
      "execution_count": 92,
      "outputs": []
    },
    {
      "cell_type": "code",
      "source": [
        "E = mejor_pedido(pedidos)\n",
        "\n",
        "print(E)"
      ],
      "metadata": {
        "colab": {
          "base_uri": "https://localhost:8080/"
        },
        "id": "O_xA_Fhzt4DR",
        "outputId": "07b538d5-c53b-4802-f7f8-105514534157"
      },
      "execution_count": 94,
      "outputs": [
        {
          "output_type": "stream",
          "name": "stdout",
          "text": [
            "[2.493901949621245, 3.7057713597911026, 1.3854350244513336, -4.450363340170526, -13.066188360368496]\n"
          ]
        }
      ]
    },
    {
      "cell_type": "markdown",
      "source": [
        "Entonces, el pedido qque maximiza el beneficio es"
      ],
      "metadata": {
        "id": "8ygKeEDawUN2"
      }
    },
    {
      "cell_type": "code",
      "source": [
        "print('El pedido con',pedidos[E.index(max(E))],'periodicos')\n",
        "print('con un beneficion promedio de ',max(E),'euros')"
      ],
      "metadata": {
        "colab": {
          "base_uri": "https://localhost:8080/"
        },
        "id": "mAK1OlAfwZTK",
        "outputId": "0998710d-90be-4b14-b407-e6a7f2784579"
      },
      "execution_count": 95,
      "outputs": [
        {
          "output_type": "stream",
          "name": "stdout",
          "text": [
            "El pedido con 40 periodicos\n",
            "con un beneficion promedio de  3.7057713597911026 euros\n"
          ]
        }
      ]
    }
  ]
}