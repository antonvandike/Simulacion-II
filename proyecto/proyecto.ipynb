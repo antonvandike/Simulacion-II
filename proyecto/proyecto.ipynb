{
  "nbformat": 4,
  "nbformat_minor": 0,
  "metadata": {
    "colab": {
      "provenance": [],
      "include_colab_link": true
    },
    "kernelspec": {
      "name": "python3",
      "display_name": "Python 3"
    },
    "language_info": {
      "name": "python"
    }
  },
  "cells": [
    {
      "cell_type": "markdown",
      "metadata": {
        "id": "view-in-github",
        "colab_type": "text"
      },
      "source": [
        "<a href=\"https://colab.research.google.com/github/luisantoniourbanaviles/Simulacion-II/blob/main/proyecto/proyecto.ipynb\" target=\"_parent\"><img src=\"https://colab.research.google.com/assets/colab-badge.svg\" alt=\"Open In Colab\"/></a>"
      ]
    },
    {
      "cell_type": "markdown",
      "source": [
        "# Proyecto simulacion: Diseño de Experimentos\n",
        "\n",
        "\n"
      ],
      "metadata": {
        "id": "uzzpyaZvoCR0"
      }
    },
    {
      "cell_type": "markdown",
      "source": [
        "Muchas veces la investigación se ve limitada por los costos de la experimentación, los materiales, procedimientos y pruebas pueden ser muy costosos y/o tomar demasiado tiempo, razón por la cual surge la necesidad de realizar un diseño de experimentos.\n",
        "\n",
        "Con este procedimiento se busca modelar de forma sencilla un experimento a partir de sus parámetros, relacionando su efecto respecto a la variable de respuesta."
      ],
      "metadata": {
        "id": "_OOhHx-ECywK"
      }
    },
    {
      "cell_type": "markdown",
      "source": [
        "### Experimentacion\n"
      ],
      "metadata": {
        "id": "VUez1VdzqMln"
      }
    },
    {
      "cell_type": "markdown",
      "source": [
        "El experimento de nuestro interés busca obtener la respuesta de determinada cantidad de partículas de plata dentro de un nanocomposito generado con un proceso químico, para el diseño que realizaremos solo utilizaremos la última parte del proceso que conociste en\n",
        "\n",
        "    1. Mezcla de materiales\n",
        "    2. Agregar precursor de plata\n",
        "    3. Calcinar\n",
        "    4. Obtener el nanocomposito\n",
        "\n",
        "Por indicaciones de la coordinadora de la investigación solo nos interesa la cantidad de precursor agregado y las características de la calcinación, es decir, el tiempo y la temperatura a la que ha se realizó esté procedimiento. Por está razón realizaremos  experimentos. La distribución de los niveles según los factores está dada por:"
      ],
      "metadata": {
        "id": "TcLTc8d-oHTM"
      }
    },
    {
      "cell_type": "markdown",
      "source": [
        "|**Nivel**|**Precursor**|**Temperatura**| **Tiempo** |\n",
        "|-------------|------|------|----|\n",
        "|-1|0.05|180|14 h|\n",
        "|1|0.07|200|19 h|"
      ],
      "metadata": {
        "id": "dqOfX4zip-5i"
      }
    },
    {
      "cell_type": "markdown",
      "source": [
        "Se requiere realizar todas las combinaciones de los parámetros para determinar su comportamiento, con la finalidad de reducir la varianza se realizan grupos de experimentos llamados replicas y los resultados de los experimentos son:"
      ],
      "metadata": {
        "id": "accXecrKsThf"
      }
    },
    {
      "cell_type": "markdown",
      "source": [
        "|**Experimento**|**Precursor**|**Temperatura**| **Tiempo** |||**Replicas**|\n",
        "|-------------|------|------|----|--|-|-|\n",
        "|1|-1|-1|-1|1.49|1.46|1.58|\n",
        "|2|-1|-1|1|1.42|1.46|1.51|\n",
        "|3|-1|1|-1|1.54|1.43|1.52|\n",
        "|4|-1|1|1|1.58|1.47|1.51|\n",
        "|5| 1|-1|-1|1.47|1.41|1.54|\n",
        "|6| 1|-1|1|1.44|1.48|1.55|\n",
        "|7| 1|1|-1|1.51|1.50|1.54|\n",
        "|8| 1|1|1|1.48|1.52|1.47|"
      ],
      "metadata": {
        "id": "8RVbDnc2xwKz"
      }
    },
    {
      "cell_type": "markdown",
      "source": [
        "###Diseño de experimentos"
      ],
      "metadata": {
        "id": "gk3geRIV5qk-"
      }
    },
    {
      "cell_type": "markdown",
      "source": [
        "No se que poner aqui"
      ],
      "metadata": {
        "id": "y13HnAa05795"
      }
    },
    {
      "cell_type": "markdown",
      "source": [
        "Modelo matematico"
      ],
      "metadata": {
        "id": "cirqe2_b6DXb"
      }
    },
    {
      "cell_type": "markdown",
      "source": [
        "$$y_1 = μ + β_1P + β_2T + β_3t + β_4PT + β_5Pt + β_6Tt + β_7PTt$$"
      ],
      "metadata": {
        "id": "LTb2wyXf6ENz"
      }
    },
    {
      "cell_type": "markdown",
      "source": [
        "Para aproximar el modelo, se aplicara el algoritmo de Yates, y se tomara en cuenta solo los valores promedios de la purifcacion de cada nivel, lo que seria"
      ],
      "metadata": {
        "id": "9TxdAmFG7ZQf"
      }
    },
    {
      "cell_type": "code",
      "source": [
        "import random as rd\n",
        "import matplotlib.pyplot as plt\n",
        "import numpy as np\n",
        "import math as mt\n"
      ],
      "metadata": {
        "id": "4BUvm3q-97gY"
      },
      "execution_count": 305,
      "outputs": []
    },
    {
      "cell_type": "code",
      "source": [
        "#Se registran los datos en el orden de los experimentos\n",
        "T=np.array([[1.49, 1.46, 1.58],\n",
        "       [1.42, 1.46, 1.51],\n",
        "       [1.54, 1.43, 1.52],\n",
        "       [1.58, 1.47, 1.51],\n",
        "       [1.47, 1.41, 1.54],\n",
        "       [1.44, 1.48, 1.55],\n",
        "       [1.51, 1.5 , 1.54],\n",
        "       [1.48, 1.52, 1.47]])\n",
        "\n",
        "r=np.reshape(T,24)\n",
        "s_g = np.std(r)\n",
        "#Se calculan las medias de cada experimento\n",
        "prom=[]\n",
        "for x in range(8):\n",
        "  prom.append(np.mean(T[x]))\n",
        "print(prom)"
      ],
      "metadata": {
        "colab": {
          "base_uri": "https://localhost:8080/"
        },
        "id": "7iQRYoGC8d_X",
        "outputId": "1cc8c602-34da-4ca0-b64d-7168376ab55a"
      },
      "execution_count": 306,
      "outputs": [
        {
          "output_type": "stream",
          "name": "stdout",
          "text": [
            "[1.51, 1.4633333333333332, 1.4966666666666668, 1.5199999999999998, 1.4733333333333334, 1.49, 1.5166666666666666, 1.49]\n"
          ]
        }
      ]
    },
    {
      "cell_type": "markdown",
      "source": [
        "|**Nivel**|**Precursor**|**Temperatura**| **Tiempo** |||**Replicas**|**Respuesta**|\n",
        "|-------------|------|------|----|--|-|-|-|\n",
        "|1|-1|-1|-1|1.49|1.46|1.58|1.510|\n",
        "|2|-1|-1|1|1.42|1.46|1.51|1.463|\n",
        "|3|-1|1|-1|1.54|1.43|1.52|1.496|\n",
        "|4|-1|1|1|1.58|1.47|1.51|1.520|\n",
        "|5| 1|-1|-1|1.47|1.41|1.54|1.473|\n",
        "|6| 1|-1|1|1.44|1.48|1.55|1.490|\n",
        "|7| 1|1|-1|1.51|1.50|1.54|1.516|\n",
        "|8| 1|1|1|1.48|1.52|1.47|1.490|"
      ],
      "metadata": {
        "id": "1I4bWoH37lvY"
      }
    },
    {
      "cell_type": "markdown",
      "source": [
        "con estos datos, ya podemos calcular los paremetros mediante el algoritmo de Yates"
      ],
      "metadata": {
        "id": "sQRINQi-_tLU"
      }
    },
    {
      "cell_type": "code",
      "source": [
        "#El algoritmo consiste en realizar la suma de la respuesta de dos experimentos\n",
        "#y posteriormente la resta de estos para obtener ocho resultados.\n",
        "def operacion_yates(a):\n",
        "  b = np.zeros(8)\n",
        "\n",
        "  b[0] = a[0] + a[1]\n",
        "  b[1] = a[2] + a[3]\n",
        "  b[2] = a[4] + a[5]\n",
        "  b[3] = a[6] + a[7]\n",
        "\n",
        "  b[4] = a[1] - a[0]\n",
        "  b[5] = a[3] - a[2]\n",
        "  b[6] = a[5] - a[4]\n",
        "  b[7] = a[7] - a[6]\n",
        "  return(b)"
      ],
      "metadata": {
        "id": "XzXr-unDAS6d"
      },
      "execution_count": 307,
      "outputs": []
    },
    {
      "cell_type": "code",
      "source": [
        "#Se realizan las operaciones tantas veces como factores se estudian\n",
        "#y finalmente se dividen, el primer resultado entre el total de experimentos,\n",
        "#los demás entre la mitad de los experimentos.\n",
        "def algoritmo_yates(T):\n",
        "  T1 = np.zeros((6,8))\n",
        "\n",
        "  for x in range(8):\n",
        "    T1[0][x] = np.mean(T[x])\n",
        "\n",
        "  T1[1] = operacion_yates(T1[0])\n",
        "  T1[2] = operacion_yates(T1[1])\n",
        "  T1[3] = operacion_yates(T1[2])\n",
        "  T1[4] = np.array([8,4,4,4,4,4,4,4])\n",
        "\n",
        "  for x in range(8):\n",
        "    T1[5][x] = T1[3][x]/T1[4][x]\n",
        "  return(T1)"
      ],
      "metadata": {
        "id": "7PuL3W7LAUFC"
      },
      "execution_count": 308,
      "outputs": []
    },
    {
      "cell_type": "code",
      "source": [
        "#Aplicamos el algoritmo a nuestra variable de respuesta.\n",
        "T1 = algoritmo_yates(T)\n",
        "p = T1[5] #parametros\n",
        "print(p)"
      ],
      "metadata": {
        "colab": {
          "base_uri": "https://localhost:8080/"
        },
        "id": "lbalMdg2Ac1y",
        "outputId": "a25ca62e-224a-4b30-98e0-06267a32634c"
      },
      "execution_count": 309,
      "outputs": [
        {
          "output_type": "stream",
          "name": "stdout",
          "text": [
            "[ 1.495      -0.00833333  0.02166667  0.00666667 -0.005       0.00333333\n",
            "  0.         -0.02833333]\n"
          ]
        }
      ]
    },
    {
      "cell_type": "markdown",
      "source": [
        "Por lo que, los valores de los parametros son\n",
        "\n",
        "$$\n",
        "  \\mu     = 1.495   \\\\\n",
        "  \\beta_1 =-0.00833 \\\\\n",
        "  \\beta_2 = 0.02166 \\\\\n",
        "  \\beta_3 =-0.00500 \\\\\n",
        "  \\beta_4 = 0.00667 \\\\\n",
        "  \\beta_5 = 0.00333 \\\\\n",
        "  \\beta_6 = 0       \\\\\n",
        "  \\beta_7 =-0.02833\n",
        "$$"
      ],
      "metadata": {
        "id": "H3bBUp5p4SBM"
      }
    },
    {
      "cell_type": "markdown",
      "source": [
        "Teniendo el modelo matematico, podemos simular los experimentos con la metodologia de Montecarlo"
      ],
      "metadata": {
        "id": "2hnLy7yX5uT-"
      }
    },
    {
      "cell_type": "markdown",
      "source": [
        "###Simulacion"
      ],
      "metadata": {
        "id": "J8REr2vt7IQu"
      }
    },
    {
      "cell_type": "markdown",
      "source": [
        "Primero definimos las variables aleatorias \\\\\n",
        "\n",
        "Para conocer su media, ocupamos la siguiente sentencia para saber a que nivel trabajaremos con la simulacion\n",
        "\n",
        "Recordemos, los niveles son\n"
      ],
      "metadata": {
        "id": "1WqPl41V5684"
      }
    },
    {
      "cell_type": "markdown",
      "source": [
        "|**Nivel**|**Precursor**|**Temperatura**| **Tiempo** |\n",
        "|-------------|------|------|----|\n",
        "|-1|0.05|180|14 h|\n",
        "|1|0.07|200|19 h|"
      ],
      "metadata": {
        "id": "9mPXLJDV8INB"
      }
    },
    {
      "cell_type": "code",
      "source": [
        "def medias(p):\n",
        "  if p[1]>0:\n",
        "    m1 = 0.07\n",
        "  else:\n",
        "    m1 = 0.05\n",
        "\n",
        "  if p[2]>0:\n",
        "    m2 = 200\n",
        "  else:\n",
        "    m2 = 180\n",
        "\n",
        "  if p[4]>0:\n",
        "    m3 = 19\n",
        "  else:\n",
        "    m3 = 14\n",
        "\n",
        "  M=[m1,m2,m3]\n",
        "  return(M)"
      ],
      "metadata": {
        "id": "g9P0mBHHAiTW"
      },
      "execution_count": 310,
      "outputs": []
    },
    {
      "cell_type": "code",
      "source": [
        "M = medias(p,)\n",
        "print(M,'\\n',s_g)"
      ],
      "metadata": {
        "colab": {
          "base_uri": "https://localhost:8080/"
        },
        "id": "Dg_bSMI66-u6",
        "outputId": "0a893082-d9c9-4ca5-b55c-f417835fe66f"
      },
      "execution_count": 311,
      "outputs": [
        {
          "output_type": "stream",
          "name": "stdout",
          "text": [
            "[0.05, 200, 14] \n",
            " 0.04582575694955844\n"
          ]
        }
      ]
    },
    {
      "cell_type": "markdown",
      "source": [
        "\n",
        "**Paso 1.**\n",
        "\n",
        "Tenemos tres variables:\n",
        "\n",
        "$P$: Cantidad del precursor\n",
        "\n",
        "$T$: Temperatura a la que esta expuesto\n",
        "\n",
        "$t$: Tiempo de exposicion del compuesto\n"
      ],
      "metadata": {
        "id": "TQRC_rIa8OcH"
      }
    },
    {
      "cell_type": "markdown",
      "source": [
        "**Paso 2 y 3.**\n",
        "\n",
        "Sean $P$,$T$,$t$ variables aleatorias continuas con distribucion normal\n",
        "\n",
        "\\begin{align*}\n",
        "  P &\\sim N(0.05,0.04582)\\\\\n",
        "  T &\\sim N(200,20)\\\\\n",
        "  t &\\sim M(14,1)\n",
        "\\end{align*}"
      ],
      "metadata": {
        "id": "PA7Abuix6rz9"
      }
    },
    {
      "cell_type": "code",
      "source": [
        "def variables(M):\n",
        "  P = rd.gauss(M[0],s_g)\n",
        "  T = rd.gauss(M[1],20)\n",
        "  t = rd.expovariate(M[2]*3600)\n",
        "  return(P,T,t)"
      ],
      "metadata": {
        "id": "NrX3w7un9f1F"
      },
      "execution_count": 312,
      "outputs": []
    },
    {
      "cell_type": "markdown",
      "source": [
        "**Paso 4.** Diseño del experimento y los objetivos de la simulación\n",
        "\n",
        "El radio de purificacion esta modelado por \\\\\n",
        "\n",
        "\\begin{equation*}\n",
        "    r = μ + β_1P + β_2T + β_3t + β_4PT + β_5Pt + β_6Tt + β_7PTt\n",
        "\\end{equation*}"
      ],
      "metadata": {
        "id": "9av2V8Ai9eoX"
      }
    },
    {
      "cell_type": "code",
      "source": [
        "def radio(M,s_g,p):\n",
        "  P,T,t = variables(M)\n",
        "  R = p[0] + p[1]*P + p[2]*T + p[4]*t + p[3]*P*T + p[5]*P*t + p[6]*T*t + p[7]*P*T*t\n",
        "  return(R)"
      ],
      "metadata": {
        "id": "TajXk37OAoo2"
      },
      "execution_count": 313,
      "outputs": []
    },
    {
      "cell_type": "code",
      "source": [
        "def radio_promedio(n,M,s_g,p):\n",
        "  l1 =[]\n",
        "  l2 =[]\n",
        "  for x in range(n):\n",
        "    l1.append(radio(M,s_g,p))\n",
        "    l2.append(np.mean(l1))\n",
        "  return(l2,l1)"
      ],
      "metadata": {
        "id": "EpXVmYy2A7su"
      },
      "execution_count": 314,
      "outputs": []
    },
    {
      "cell_type": "code",
      "source": [
        "M = medias(p)\n",
        "B = radio_promedio(500,M,s_g,p)[0]\n",
        "B1 = radio_promedio(500,M,s_g,p)[1]\n",
        "print(np.mean(B))\n",
        "plt.plot(B)\n",
        "plt.plot(B1)\n",
        "plt.show()"
      ],
      "metadata": {
        "colab": {
          "base_uri": "https://localhost:8080/",
          "height": 447
        },
        "id": "1feCtdMoA_oG",
        "outputId": "65b210ab-5799-414c-9cf6-99307273c724"
      },
      "execution_count": 315,
      "outputs": [
        {
          "output_type": "stream",
          "name": "stdout",
          "text": [
            "5.923865463108824\n"
          ]
        },
        {
          "output_type": "display_data",
          "data": {
            "text/plain": [
              "<Figure size 640x480 with 1 Axes>"
            ],
            "image/png": "[encoded data removed]"
          },
          "metadata": {}
        }
      ]
    },
    {
      "cell_type": "markdown",
      "source": [
        "Se puede apreciar que se estabiliza en 300 iteraciones"
      ],
      "metadata": {
        "id": "94eQoYCFLIHz"
      }
    },
    {
      "cell_type": "code",
      "source": [
        "print('x_p =',np.mean(B))\n",
        "print('s_p =',np.std(B))"
      ],
      "metadata": {
        "colab": {
          "base_uri": "https://localhost:8080/"
        },
        "id": "-93ITlz0LV-3",
        "outputId": "2949076c-0160-4d50-f224-b126fec7e3fc"
      },
      "execution_count": 316,
      "outputs": [
        {
          "output_type": "stream",
          "name": "stdout",
          "text": [
            "x_p = 5.923865463108824\n",
            "s_p = 0.03269280972337165\n"
          ]
        }
      ]
    },
    {
      "cell_type": "markdown",
      "source": [
        "**Paso 6.** Repita el experimento n veces\n",
        "\n"
      ],
      "metadata": {
        "id": "7z5VqiCGLoNJ"
      }
    },
    {
      "cell_type": "code",
      "source": [
        "def modelo(n,M,s_g,p):\n",
        "  l1 = []\n",
        "\n",
        "  for x in range(n):\n",
        "    R_prom = radio_promedio(300,M,s_g,p)\n",
        "    l1.append(np.mean(R_prom))\n",
        "\n",
        "  return(l1)"
      ],
      "metadata": {
        "id": "OdYvqpnjBFPM"
      },
      "execution_count": 317,
      "outputs": []
    },
    {
      "cell_type": "code",
      "source": [
        "Y_1 = modelo(150,M,s_g,p)"
      ],
      "metadata": {
        "id": "524sMSPcBGs7"
      },
      "execution_count": 318,
      "outputs": []
    },
    {
      "cell_type": "code",
      "source": [
        "plt.hist(Y_1)\n",
        "plt.show()"
      ],
      "metadata": {
        "colab": {
          "base_uri": "https://localhost:8080/",
          "height": 430
        },
        "id": "PYuqrC4KBIAC",
        "outputId": "0106a0a1-a081-4908-ee1e-22fc7d0daee0"
      },
      "execution_count": 319,
      "outputs": [
        {
          "output_type": "display_data",
          "data": {
            "text/plain": [
              "<Figure size 640x480 with 1 Axes>"
            ],
            "image/png": "[encoded data removed]"
          },
          "metadata": {}
        }
      ]
    },
    {
      "cell_type": "markdown",
      "source": [
        "El radio promedio de purificacion es de"
      ],
      "metadata": {
        "id": "gH4aU3kvMlpL"
      }
    },
    {
      "cell_type": "code",
      "source": [
        "y_m = np.mean(Y_1)\n",
        "print(y_m)"
      ],
      "metadata": {
        "colab": {
          "base_uri": "https://localhost:8080/"
        },
        "id": "PTbPc983BJkk",
        "outputId": "664f2a21-c694-4422-9610-f2e004bc796b"
      },
      "execution_count": 320,
      "outputs": [
        {
          "output_type": "stream",
          "name": "stdout",
          "text": [
            "5.895562376860797\n"
          ]
        }
      ]
    },
    {
      "cell_type": "markdown",
      "source": [
        "con una desviacion estandar"
      ],
      "metadata": {
        "id": "HKjzQ7euMrGA"
      }
    },
    {
      "cell_type": "code",
      "source": [
        "s_m = np.std(Y_1)\n",
        "print(s_m)"
      ],
      "metadata": {
        "colab": {
          "base_uri": "https://localhost:8080/"
        },
        "id": "453jz4GhMuT3",
        "outputId": "7fd52187-9196-406f-8eda-61d1f2c791c9"
      },
      "execution_count": 321,
      "outputs": [
        {
          "output_type": "stream",
          "name": "stdout",
          "text": [
            "0.030411179288257865\n"
          ]
        }
      ]
    },
    {
      "cell_type": "markdown",
      "source": [
        "**Paso 7**. Hallar el intervalo de confianza para la media\n",
        "\\begin{equation*}\n",
        "  \\bar{x} - Z_{\\frac{\\alpha}{2}} \\cdot \\frac{s}{\\sqrt{n}} < \\mu < \\bar{x} + Z_{\\frac{\\alpha}{2}} \\cdot \\frac{s}{\\sqrt{n}}\n",
        "\\end{equation*}"
      ],
      "metadata": {
        "id": "RdGWEiT_rZ0I"
      }
    },
    {
      "cell_type": "markdown",
      "source": [
        "Intervalo de confianza para el radio promedio del experimetno"
      ],
      "metadata": {
        "id": "bmXJ5aiKrgf8"
      }
    },
    {
      "cell_type": "code",
      "source": [
        "print(y_m - 1.96*(s_m/np.sqrt(300)), y_m + 1.96*s_m/np.sqrt(300))"
      ],
      "metadata": {
        "colab": {
          "base_uri": "https://localhost:8080/"
        },
        "id": "DttiwR4JNLCZ",
        "outputId": "754ef25b-69ef-47c9-d8e8-306ed5bd5e33"
      },
      "execution_count": 322,
      "outputs": [
        {
          "output_type": "stream",
          "name": "stdout",
          "text": [
            "5.8921210279613 5.899003725760293\n"
          ]
        }
      ]
    },
    {
      "cell_type": "markdown",
      "source": [
        "Por tanto, el radio promedio para el modelo es de"
      ],
      "metadata": {
        "id": "ebWR-cR1r-iE"
      }
    },
    {
      "cell_type": "code",
      "source": [
        "print('p =',y_m)"
      ],
      "metadata": {
        "colab": {
          "base_uri": "https://localhost:8080/"
        },
        "id": "VKC5tuPVO1Qz",
        "outputId": "c09cbfcf-041c-4391-a859-a30caf94858e"
      },
      "execution_count": 323,
      "outputs": [
        {
          "output_type": "stream",
          "name": "stdout",
          "text": [
            "p = 5.895562376860797\n"
          ]
        }
      ]
    },
    {
      "cell_type": "markdown",
      "source": [
        "###Algoritmo Recursivo"
      ],
      "metadata": {
        "id": "ao5R-nAzn1V6"
      }
    },
    {
      "cell_type": "code",
      "source": [
        "def radio_g(M,s_g,p):\n",
        "  P = np.abs(rd.gauss(M[0],s_g))\n",
        "  T = rd.gauss(M[1],5)\n",
        "  t = rd.gauss(M[2],1)\n",
        "  R = p[0] + p[1]*P + p[2]*T + p[4]*t + p[3]*P*T + p[5]*P*t + p[6]*T*t + p[7]*P*T*t\n",
        "  return(R,P,T,t)"
      ],
      "metadata": {
        "id": "nR6r3dzno20H"
      },
      "execution_count": 324,
      "outputs": []
    },
    {
      "cell_type": "code",
      "source": [
        "r1=[]\n",
        "r2=[]\n",
        "M = medias(p)\n",
        "\n",
        "for x in range(15):\n",
        "  for i in range(10):\n",
        "    R,P,T,t = radio_g(M,s_g,p)\n",
        "    r1.append(R)\n",
        "    r2.append([P,T,t])\n",
        "\n",
        "  I = r1.index(max(r1))\n",
        "  M = r2[I][0],r2[I][1],r2[I][2]\n",
        "\n",
        "  #print(I)\n",
        "  print(r1[I], M)\n",
        "  #print(r1[I],M)"
      ],
      "metadata": {
        "colab": {
          "base_uri": "https://localhost:8080/"
        },
        "id": "xe55M9vCovOT",
        "outputId": "8a60d471-88c4-4f56-945d-91a138d05bce"
      },
      "execution_count": 325,
      "outputs": [
        {
          "output_type": "stream",
          "name": "stdout",
          "text": [
            "5.455686175231485 (0.0020120395570380686, 192.00533321464923, 12.67249649614148)\n",
            "5.521466544655668 (0.00028423613388233707, 189.48649312747202, 12.173204851656934)\n",
            "5.521466544655668 (0.00028423613388233707, 189.48649312747202, 12.173204851656934)\n",
            "5.521466544655668 (0.00028423613388233707, 189.48649312747202, 12.173204851656934)\n",
            "5.542395682757724 (0.0020221013806650916, 195.29207784696493, 11.528073952074974)\n",
            "5.542395682757724 (0.0020221013806650916, 195.29207784696493, 11.528073952074974)\n",
            "5.542395682757724 (0.0020221013806650916, 195.29207784696493, 11.528073952074974)\n",
            "5.741162996004639 (0.0008222712489859953, 200.61670378203496, 10.50805707050405)\n",
            "5.741162996004639 (0.0008222712489859953, 200.61670378203496, 10.50805707050405)\n",
            "5.741162996004639 (0.0008222712489859953, 200.61670378203496, 10.50805707050405)\n",
            "5.741162996004639 (0.0008222712489859953, 200.61670378203496, 10.50805707050405)\n",
            "5.741162996004639 (0.0008222712489859953, 200.61670378203496, 10.50805707050405)\n",
            "5.741162996004639 (0.0008222712489859953, 200.61670378203496, 10.50805707050405)\n",
            "5.741162996004639 (0.0008222712489859953, 200.61670378203496, 10.50805707050405)\n",
            "5.808729440367952 (0.0019150179258809225, 206.38116692832824, 9.911385005678275)\n"
          ]
        }
      ]
    }
  ]
}