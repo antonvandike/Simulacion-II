{
  "cells": [
    {
      "cell_type": "markdown",
      "metadata": {
        "id": "view-in-github",
        "colab_type": "text"
      },
      "source": [
        "<a href=\"https://colab.research.google.com/github/antonvandike/Simulacion-II/blob/main/Pruebas%20de%20aleatoriedad/prueba_independencia.ipynb\" target=\"_parent\"><img src=\"https://colab.research.google.com/assets/colab-badge.svg\" alt=\"Open In Colab\"/></a>"
      ]
    },
    {
      "cell_type": "markdown",
      "metadata": {
        "id": "7L2vOv0gCTus"
      },
      "source": [
        "Funcion para determinar la prueba de independencia de una lista de numeros"
      ]
    },
    {
      "cell_type": "code",
      "execution_count": null,
      "metadata": {
        "id": "Qcp87U7lCio0"
      },
      "outputs": [],
      "source": [
        "def independencia(l):\n",
        "  import numpy as np\n",
        "  import math as mt\n",
        "  import statistics as st\n",
        "\n",
        "  n=len(N)\n",
        "  s=[0]\n",
        "  for x in range(1,n):\n",
        "    if (N[x]-N[x-1])<0:\n",
        "      s.append(-1)\n",
        "\n",
        "    if (N[x]-N[x-1])>0:\n",
        "      s.append(1)\n",
        "  s=np.array(s)\n",
        "\n",
        "  h=0;\n",
        "  for x in range(1,n):\n",
        "    if s[x-1] != s[x]:\n",
        "      h=h+1\n",
        "\n",
        "  s = np.reshape(s,(4,5));\n",
        "  print('Los numeros categorizados son \\n')\n",
        "  print(s)\n",
        "  print('\\nEl numero de corridas es \\n')\n",
        "  print('h =',h)\n",
        "\n",
        "  E = (2*n - 1)/3\n",
        "  V = (16*n-29)/90\n",
        "\n",
        "  Z = (h-E)/mt.sqrt(V)\n",
        "\n",
        "  ND = st.NormalDist(0,1)\n",
        "\n",
        "  Z_a = abs(round(ND.inv_cdf(0.0250),4))\n",
        "  print('\\nEl valor esperado y la varianza son \\n')\n",
        "  print('E(h) = ',E)\n",
        "  print('V(h) = ',V)\n",
        "  print('\\nEl estadistico de prueba es \\n')\n",
        "  print('Z = ',Z)\n",
        "  print('\\ny el punto critico es \\n')\n",
        "  print(Z_a)\n",
        "  print('\\nsi Z < Z_a/2\\n')\n",
        "  print('La prueba es',Z<Z_a)\n",
        "  return"
      ]
    },
    {
      "cell_type": "markdown",
      "metadata": {
        "id": "oh8zCTfpCxiw"
      },
      "source": [
        "Ejercicio de clase"
      ]
    },
    {
      "cell_type": "code",
      "execution_count": null,
      "metadata": {
        "id": "Ggioqax3C0WG",
        "outputId": "a86f6674-47d2-4924-f200-e21a6ec8f5e2",
        "colab": {
          "base_uri": "https://localhost:8080/"
        }
      },
      "outputs": [
        {
          "output_type": "stream",
          "name": "stdout",
          "text": [
            "Los numeros categorizados son \n",
            "\n",
            "[[ 0 -1  1 -1 -1]\n",
            " [ 1  1 -1  1  1]\n",
            " [ 1 -1  1 -1  1]\n",
            " [ 1 -1  1 -1  1]]\n",
            "\n",
            "El numero de corridas es \n",
            "\n",
            "h = 14\n",
            "\n",
            "El valor esperado y la varianza son \n",
            "\n",
            "E(h) =  13.0\n",
            "V(h) =  3.2333333333333334\n",
            "\n",
            "El estadistico de prueba es \n",
            "\n",
            "Z =  0.5561279983200486\n",
            "\n",
            "y el punto critico es \n",
            "\n",
            "1.96\n",
            "\n",
            "si Z < Z_a/2\n",
            "\n",
            "La prueba es True\n"
          ]
        }
      ],
      "source": [
        "\n",
        "\n",
        "N =     [0.43,0.28,0.33,0.27,0.12]\n",
        "N = N + [0.31,0.42,0.01,0.32,0.45]\n",
        "N = N + [0.98,0.79,0.99,0.55,0.67]\n",
        "N = N + [0.74,0.16,0.20,0.12,0.58]\n",
        "\n",
        "independencia(N)\n"
      ]
    }
  ],
  "metadata": {
    "colab": {
      "provenance": [],
      "authorship_tag": "ABX9TyP5RHxGtBdxy6igOxwqo6nf",
      "include_colab_link": true
    },
    "kernelspec": {
      "display_name": "Python 3",
      "name": "python3"
    },
    "language_info": {
      "name": "python"
    }
  },
  "nbformat": 4,
  "nbformat_minor": 0
}