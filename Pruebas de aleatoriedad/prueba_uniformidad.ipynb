{
  "cells": [
    {
      "cell_type": "markdown",
      "metadata": {
        "id": "view-in-github",
        "colab_type": "text"
      },
      "source": [
        "<a href=\"https://colab.research.google.com/github/antonvandike/Simulacion-II/blob/main/Pruebas%20de%20aleatoriedad/prueba_uniformidad.ipynb\" target=\"_parent\"><img src=\"https://colab.research.google.com/assets/colab-badge.svg\" alt=\"Open In Colab\"/></a>"
      ]
    },
    {
      "cell_type": "markdown",
      "metadata": {
        "id": "7jdhKp3czO_8"
      },
      "source": [
        "Programa para determinar la prueba de uniformidad de una lista de numeros (n>=30)"
      ]
    },
    {
      "cell_type": "markdown",
      "metadata": {
        "id": "G1cxRYzf6Pvy"
      },
      "source": [
        "FO_n: Funcion para determinar cuantos elementos hay en un intervalo"
      ]
    },
    {
      "cell_type": "code",
      "execution_count": null,
      "metadata": {
        "id": "I76uRuw2S3Lk"
      },
      "outputs": [],
      "source": [
        "def FO_n(D,li,ls,n):\n",
        "  Fo=[]\n",
        "  for x in range(n):\n",
        "    if D[x] >= li:\n",
        "      if D[x] <= ls:\n",
        "        Fo.append(D[x])\n",
        "  d=len(Fo)\n",
        "  return(d)"
      ]
    },
    {
      "cell_type": "markdown",
      "metadata": {
        "id": "RVtzcsOyC0RB"
      },
      "source": [
        "uniformidad: Funcion para comprobar la prueba de hipotesis"
      ]
    },
    {
      "cell_type": "code",
      "execution_count": null,
      "metadata": {
        "id": "bLfPraYV7L_9"
      },
      "outputs": [],
      "source": [
        "\n",
        "def uniformidad(D,a,p,q):\n",
        "\n",
        "\n",
        "  D.sort()\n",
        "  n=len(D)\n",
        "\n",
        "  # Calculos para la construccion de la tabla de distribucion de frecuencia\n",
        "  max1 = max(D)\n",
        "  min1 = min(D)\n",
        "\n",
        "  Rango = max1 - min1\n",
        "  k=mt.ceil(mt.sqrt(len(D)))\n",
        "\n",
        "  Amplitud=round(Rango/k,4)\n",
        "  Precalculo = round(min1 + k*Amplitud,4)\n",
        "  comparacion = round(Precalculo - max1,10);\n",
        "  if np.mod(comparacion*(10**q),2)==0:\n",
        "    comparacion = comparacion/2\n",
        "  liminf = min1 - comparacion\n",
        "\n",
        "\n",
        "  #Calculo de la tabla de distribucion de frecuencias\n",
        "  D1=np.array(D)\n",
        "  T=np.zeros((k,4))\n",
        "  for x in range(k):\n",
        "\n",
        "    T[x][0]=liminf\n",
        "\n",
        "    liminf = round(liminf + Amplitud,4);\n",
        "    T[x][1]=liminf\n",
        "\n",
        "    T[x][2]=FO_n(D,T[x][0],T[x][1],n)\n",
        "\n",
        "    T[x][3]=100*(T[x][1]-T[x][0])/Rango\n",
        "  print('Tabla de distribucion de frecuencias')\n",
        "  print(T,'\\n')\n",
        "\n",
        "  C=0\n",
        "  for x in range(k):\n",
        "    C = C + mt.pow(T[x][3]-T[x][2],2)/T[x][3]\n",
        "\n",
        "  print('Valor de C (estadistico de prueba)')\n",
        "  print('C = ',round(C,5),'\\n')\n",
        "\n",
        "  X_2 = sst.chi2.ppf(a,k-p-1)\n",
        "  print('El valor del punto critico es')\n",
        "  print('X_2(',round(1-a,3),',',k-p-1,') = ',round(X_2,5))\n",
        "\n",
        "  print('\\nsi C <= X_2')\n",
        "  print('La prueba es',C<X_2)\n",
        "\n",
        "  return"
      ]
    },
    {
      "cell_type": "code",
      "execution_count": null,
      "metadata": {
        "colab": {
          "base_uri": "https://localhost:8080/"
        },
        "id": "uSsr9YK5N09I",
        "outputId": "ba21469a-e0b3-415b-f57a-b16e24d689d8"
      },
      "outputs": [
        {
          "output_type": "stream",
          "name": "stdout",
          "text": [
            "8\n",
            "Tabla de distribucion de frecuencias\n",
            "[[ 0.   1.   6.  12.5]\n",
            " [ 1.   2.   9.  12.5]\n",
            " [ 2.   3.  13.  12.5]\n",
            " [ 3.   4.  14.  12.5]\n",
            " [ 4.   5.  14.  12.5]\n",
            " [ 5.   6.  12.  12.5]\n",
            " [ 6.   7.  12.  12.5]\n",
            " [ 7.   8.  12.  12.5]] \n",
            "\n",
            "Valor de C (estadistico de prueba)\n",
            "C =  4.8 \n",
            "\n",
            "El valor del punto critico es\n",
            "X_2( 0.05 , 7 ) =  14.06714\n",
            "\n",
            "si C <= X_2\n",
            "La prueba es True\n"
          ]
        }
      ],
      "source": [
        "\n",
        "import numpy as np\n",
        "import math as mt\n",
        "import scipy.stats as sst\n",
        "\n",
        "# Actividad 2\n",
        "# 2.\n",
        "\n",
        "d =     [5,8,4,7,8,2,4,4,3,5]\n",
        "d = d + [6,7,8,4,8,7,3,4,5,6]\n",
        "d = d + [7,2,3,4,5,3,5,6,1,2]\n",
        "d = d + [3,2,5,6,7,8,7,1,5,6]\n",
        "d = d + [7,3,4,2,0,1,0,0,2,3]\n",
        "\n",
        "# unifromidad(D,1-alpha,p,q)\n",
        "#\n",
        "#       D: lista de numeros\n",
        "# 1-alpha: Confiabilidad de la prueba de hipotesis\n",
        "#       p: Numero de parametros estimados\n",
        "#       q: cantidad de decimales, del numero que tenga mas decimales\n",
        "\n",
        "uniformidad(d,0.95,0,4)"
      ]
    },
    {
      "cell_type": "code",
      "execution_count": null,
      "metadata": {
        "colab": {
          "background_save": true
        },
        "id": "R6H49BZiDsts",
        "outputId": "aa36e499-38e9-43ee-c60a-d9cb1ed1a65d"
      },
      "outputs": [
        {
          "name": "stdout",
          "output_type": "stream",
          "text": [
            "Tabla de distribucion de frecuencias\n",
            "[[ 0.   0.1  5.  10. ]\n",
            " [ 0.1  0.2 15.  10. ]\n",
            " [ 0.2  0.3 13.  10. ]\n",
            " [ 0.3  0.4  6.  10. ]\n",
            " [ 0.4  0.5 14.  10. ]\n",
            " [ 0.5  0.6 11.  10. ]\n",
            " [ 0.6  0.7 10.  10. ]\n",
            " [ 0.7  0.8 13.  10. ]\n",
            " [ 0.8  0.9 10.  10. ]\n",
            " [ 0.9  1.  10.  10. ]] \n",
            "\n",
            "Valor de C (estadistico de prueba)\n",
            "C =  10.1 \n",
            "\n",
            "El valor del punto critico es\n",
            "X_2( 0.1 , 9 ) =  14.68366\n",
            "\n",
            "si C <= X_2\n",
            "La prueba es True\n"
          ]
        }
      ],
      "source": [
        "import numpy as np\n",
        "import math as mt\n",
        "import scipy.stats as sst\n",
        "\n",
        "# Actividad 2\n",
        "# 3.\n",
        "\n",
        "D =     [0.78,0.98,0.24,0.73,0.43,0.16,0.78,0.47,0.18,0.55]\n",
        "D = D + [0.04,0.29,0.68,0.77,0.16,0.03,0.79,0.22,0.37,0.80]\n",
        "D = D + [0.96,0.26,0.91,0.55,0.75,0.55,0.64,0.39,0.53,0.45]\n",
        "D = D + [0.61,0.14,0.38,0.12,0.40,0.74,0.78,0.98,0.27,0.60]\n",
        "D = D + [0.43,0.67,0.62,0.32,0.53,0.54,0.24,0.29,0.18,0.08]\n",
        "D = D + [0.82,0.94,0.19,0.98,0.41,1.00,0.74,0.92,0.14,0.43]\n",
        "D = D + [0.83,0.88,0.18,0.21,0.50,0.13,0.43,0.69,0.08,0.12]\n",
        "D = D + [0.22,0.50,0.16,0.11,0.18,0.89,0.80,0.42,0.29,0.87]\n",
        "D = D + [0.83,0.79,0.65,0.28,0.78,0.49,0.36,0.86,0.87,0.64]\n",
        "D = D + [0.51,0.07,0.18,0.94,0.50,0.22,0.66,0.91,0.48,0.24]\n",
        "\n",
        "# unifromidad(D,1-alpha,p,q)\n",
        "#\n",
        "#       D: lista de numeros\n",
        "# 1-alpha: Confiabilidad de la prueba de hipotesis\n",
        "#       p: Numero de parametros estimados\n",
        "#       q: cantidad de decimales, del numero que tenga mas decimales\n",
        "\n",
        "uniformidad(D,0.90,0,2)\n",
        "\n"
      ]
    },
    {
      "cell_type": "code",
      "execution_count": null,
      "metadata": {
        "colab": {
          "background_save": true
        },
        "id": "O2_b55HYAPlS",
        "outputId": "ccb5350e-b92c-43fa-948c-5b43b45b2e21"
      },
      "outputs": [
        {
          "data": {
            "image/png": "[encoded data removed]",
            "text/plain": [
              "<Figure size 640x480 with 1 Axes>"
            ]
          },
          "metadata": {},
          "output_type": "display_data"
        }
      ],
      "source": [
        "import matplotlib.pyplot as plot\n",
        "\n",
        "edades = [12, 15, 13, 12, 18, 20, 19, 20, 13, 12, 13, 17, 15, 16, 13, 14, 13, 17, 19]\n",
        "\n",
        "intervalos = range(min(edades), max(edades) + 2) #calculamos los extremos de los intervalos\n",
        "\n",
        "plot.hist(x=edades, bins=intervalos, color='#F2AB6D', rwidth=0.85)\n",
        "plot.title('Histograma de edades - matplotlib - codigopiton.com')\n",
        "plot.xlabel('Edades')\n",
        "plot.ylabel('Frecuencia')\n",
        "plot.xticks(intervalos)\n",
        "\n",
        "plot.show()"
      ]
    }
  ],
  "metadata": {
    "colab": {
      "provenance": [],
      "authorship_tag": "ABX9TyOp265bKRlRQXPi7pGfFHMS",
      "include_colab_link": true
    },
    "kernelspec": {
      "display_name": "Python 3",
      "name": "python3"
    },
    "language_info": {
      "name": "python"
    }
  },
  "nbformat": 4,
  "nbformat_minor": 0
}